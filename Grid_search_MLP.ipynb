{
 "cells": [
  {
   "cell_type": "markdown",
   "metadata": {},
   "source": [
    "### A Possible solution to tuning the number of layers and neurons in MLP at once (using grid search)"
   ]
  },
  {
   "cell_type": "code",
   "execution_count": 1,
   "metadata": {},
   "outputs": [],
   "source": [
    "import itertools\n",
    "import pandas as pd\n",
    "import seaborn as sns\n",
    "from sklearn.neural_network import MLPRegressor\n",
    "from sklearn.model_selection import GridSearchCV"
   ]
  },
  {
   "cell_type": "markdown",
   "metadata": {},
   "source": [
    "# DATASET"
   ]
  },
  {
   "cell_type": "code",
   "execution_count": 2,
   "metadata": {},
   "outputs": [
    {
     "data": {
      "text/html": [
       "<div>\n",
       "<style scoped>\n",
       "    .dataframe tbody tr th:only-of-type {\n",
       "        vertical-align: middle;\n",
       "    }\n",
       "\n",
       "    .dataframe tbody tr th {\n",
       "        vertical-align: top;\n",
       "    }\n",
       "\n",
       "    .dataframe thead th {\n",
       "        text-align: right;\n",
       "    }\n",
       "</style>\n",
       "<table border=\"1\" class=\"dataframe\">\n",
       "  <thead>\n",
       "    <tr style=\"text-align: right;\">\n",
       "      <th></th>\n",
       "      <th>0</th>\n",
       "      <th>1</th>\n",
       "    </tr>\n",
       "  </thead>\n",
       "  <tbody>\n",
       "    <tr>\n",
       "      <th>0</th>\n",
       "      <td>108</td>\n",
       "      <td>392.5</td>\n",
       "    </tr>\n",
       "    <tr>\n",
       "      <th>1</th>\n",
       "      <td>19</td>\n",
       "      <td>46.2</td>\n",
       "    </tr>\n",
       "    <tr>\n",
       "      <th>2</th>\n",
       "      <td>13</td>\n",
       "      <td>15.7</td>\n",
       "    </tr>\n",
       "    <tr>\n",
       "      <th>3</th>\n",
       "      <td>124</td>\n",
       "      <td>422.2</td>\n",
       "    </tr>\n",
       "    <tr>\n",
       "      <th>4</th>\n",
       "      <td>40</td>\n",
       "      <td>119.4</td>\n",
       "    </tr>\n",
       "    <tr>\n",
       "      <th>...</th>\n",
       "      <td>...</td>\n",
       "      <td>...</td>\n",
       "    </tr>\n",
       "    <tr>\n",
       "      <th>58</th>\n",
       "      <td>9</td>\n",
       "      <td>87.4</td>\n",
       "    </tr>\n",
       "    <tr>\n",
       "      <th>59</th>\n",
       "      <td>31</td>\n",
       "      <td>209.8</td>\n",
       "    </tr>\n",
       "    <tr>\n",
       "      <th>60</th>\n",
       "      <td>14</td>\n",
       "      <td>95.5</td>\n",
       "    </tr>\n",
       "    <tr>\n",
       "      <th>61</th>\n",
       "      <td>53</td>\n",
       "      <td>244.6</td>\n",
       "    </tr>\n",
       "    <tr>\n",
       "      <th>62</th>\n",
       "      <td>26</td>\n",
       "      <td>187.5</td>\n",
       "    </tr>\n",
       "  </tbody>\n",
       "</table>\n",
       "<p>63 rows × 2 columns</p>\n",
       "</div>"
      ],
      "text/plain": [
       "      0      1\n",
       "0   108  392.5\n",
       "1    19   46.2\n",
       "2    13   15.7\n",
       "3   124  422.2\n",
       "4    40  119.4\n",
       "..  ...    ...\n",
       "58    9   87.4\n",
       "59   31  209.8\n",
       "60   14   95.5\n",
       "61   53  244.6\n",
       "62   26  187.5\n",
       "\n",
       "[63 rows x 2 columns]"
      ]
     },
     "execution_count": 2,
     "metadata": {},
     "output_type": "execute_result"
    }
   ],
   "source": [
    "url = 'https://query.data.world/s/4f33wmdncz2wkkl2pbfl2oaojmns7w'\n",
    "df = pd.read_csv(url, header=None)\n",
    "X, y = df.values[:, :1], df.values[:, 1]\n",
    "df"
   ]
  },
  {
   "cell_type": "markdown",
   "metadata": {},
   "source": [
    "### combination of layers and neurons"
   ]
  },
  {
   "cell_type": "code",
   "execution_count": null,
   "metadata": {},
   "outputs": [],
   "source": [
    "# start with smaller number of items in the tuple to see what it does\n",
    "# try reasonable number of neurons based on the length of the the input vector"
   ]
  },
  {
   "cell_type": "code",
   "execution_count": 3,
   "metadata": {},
   "outputs": [],
   "source": [
    "three_layers = [x for x in itertools.product((50, 25, 12, 5),repeat=3)]\n",
    "two_layers = [x for x in itertools.product((50, 25, 12, 5),repeat=2)]\n",
    "one_layer = [x for x in itertools.product((50, 25, 12, 5),repeat=1)]"
   ]
  },
  {
   "cell_type": "code",
   "execution_count": 4,
   "metadata": {},
   "outputs": [
    {
     "data": {
      "text/plain": [
       "[(50, 50, 50),\n",
       " (50, 50, 25),\n",
       " (50, 50, 12),\n",
       " (50, 50, 5),\n",
       " (50, 25, 50),\n",
       " (50, 25, 25),\n",
       " (50, 25, 12),\n",
       " (50, 25, 5),\n",
       " (50, 12, 50),\n",
       " (50, 12, 25),\n",
       " (50, 12, 12),\n",
       " (50, 12, 5),\n",
       " (50, 5, 50),\n",
       " (50, 5, 25),\n",
       " (50, 5, 12),\n",
       " (50, 5, 5),\n",
       " (25, 50, 50),\n",
       " (25, 50, 25),\n",
       " (25, 50, 12),\n",
       " (25, 50, 5),\n",
       " (25, 25, 50),\n",
       " (25, 25, 25),\n",
       " (25, 25, 12),\n",
       " (25, 25, 5),\n",
       " (25, 12, 50),\n",
       " (25, 12, 25),\n",
       " (25, 12, 12),\n",
       " (25, 12, 5),\n",
       " (25, 5, 50),\n",
       " (25, 5, 25),\n",
       " (25, 5, 12),\n",
       " (25, 5, 5),\n",
       " (12, 50, 50),\n",
       " (12, 50, 25),\n",
       " (12, 50, 12),\n",
       " (12, 50, 5),\n",
       " (12, 25, 50),\n",
       " (12, 25, 25),\n",
       " (12, 25, 12),\n",
       " (12, 25, 5),\n",
       " (12, 12, 50),\n",
       " (12, 12, 25),\n",
       " (12, 12, 12),\n",
       " (12, 12, 5),\n",
       " (12, 5, 50),\n",
       " (12, 5, 25),\n",
       " (12, 5, 12),\n",
       " (12, 5, 5),\n",
       " (5, 50, 50),\n",
       " (5, 50, 25),\n",
       " (5, 50, 12),\n",
       " (5, 50, 5),\n",
       " (5, 25, 50),\n",
       " (5, 25, 25),\n",
       " (5, 25, 12),\n",
       " (5, 25, 5),\n",
       " (5, 12, 50),\n",
       " (5, 12, 25),\n",
       " (5, 12, 12),\n",
       " (5, 12, 5),\n",
       " (5, 5, 50),\n",
       " (5, 5, 25),\n",
       " (5, 5, 12),\n",
       " (5, 5, 5),\n",
       " (50, 50),\n",
       " (50, 25),\n",
       " (50, 12),\n",
       " (50, 5),\n",
       " (25, 50),\n",
       " (25, 25),\n",
       " (25, 12),\n",
       " (25, 5),\n",
       " (12, 50),\n",
       " (12, 25),\n",
       " (12, 12),\n",
       " (12, 5),\n",
       " (5, 50),\n",
       " (5, 25),\n",
       " (5, 12),\n",
       " (5, 5),\n",
       " (50,),\n",
       " (25,),\n",
       " (12,),\n",
       " (5,)]"
      ]
     },
     "execution_count": 4,
     "metadata": {},
     "output_type": "execute_result"
    }
   ],
   "source": [
    "layers = three_layers + two_layers + one_layer\n",
    "layers"
   ]
  },
  {
   "cell_type": "markdown",
   "metadata": {},
   "source": [
    "## Model and Grid search"
   ]
  },
  {
   "cell_type": "code",
   "execution_count": 5,
   "metadata": {},
   "outputs": [
    {
     "name": "stdout",
     "output_type": "stream",
     "text": [
      "Best Score: 35.98334640059188\n",
      "Best Hyperparameters: {'hidden_layer_sizes': (5, 50)}\n"
     ]
    },
    {
     "name": "stderr",
     "output_type": "stream",
     "text": [
      "C:\\Users\\kamcl\\Miniconda3\\lib\\site-packages\\sklearn\\neural_network\\_multilayer_perceptron.py:585: ConvergenceWarning: Stochastic Optimizer: Maximum iterations (2000) reached and the optimization hasn't converged yet.\n",
      "  % self.max_iter, ConvergenceWarning)\n"
     ]
    }
   ],
   "source": [
    "model = MLPRegressor(max_iter=2000,random_state=0)\n",
    "\n",
    "params = {'hidden_layer_sizes': layers}\n",
    "\n",
    "search = GridSearchCV(model, \n",
    "                      params, \n",
    "                      scoring='neg_root_mean_squared_error', \n",
    "                      n_jobs=-1, \n",
    "                      cv=5)\n",
    "\n",
    "results = search.fit(X, y)\n",
    "print('Best Score: %s' % -results.best_score_)\n",
    "print('Best Hyperparameters: %s' % results.best_params_)"
   ]
  },
  {
   "cell_type": "markdown",
   "metadata": {},
   "source": [
    "### heatmap: number of neurons in the first layer vs second layer"
   ]
  },
  {
   "cell_type": "code",
   "execution_count": 6,
   "metadata": {},
   "outputs": [
    {
     "data": {
      "image/png": "[encoded data removed]",
      "text/plain": [
       "<Figure size 432x288 with 2 Axes>"
      ]
     },
     "metadata": {
      "needs_background": "light"
     },
     "output_type": "display_data"
    }
   ],
   "source": [
    "MSE_results_df = pd.DataFrame(search.cv_results_)\n",
    "MSE_results_df = MSE_results_df[:len(three_layers + two_layers)]\n",
    "MSE_results_df['first_layer'] = [x[0] for x in MSE_results_df['param_hidden_layer_sizes']]\n",
    "MSE_results_df['second_layer'] = [x[1] for x in MSE_results_df['param_hidden_layer_sizes']]\n",
    "MSE_results_df = MSE_results_df[:len(MSE_results_df['second_layer'])]\n",
    "\n",
    "table = pd.pivot_table(MSE_results_df, \n",
    "                       values='mean_test_score', \n",
    "                       index='first_layer', \n",
    "                       columns='second_layer')\n",
    "     \n",
    "plot = sns.heatmap(table)"
   ]
  },
  {
   "cell_type": "code",
   "execution_count": null,
   "metadata": {},
   "outputs": [],
   "source": []
  }
 ],
 "metadata": {
  "kernelspec": {
   "display_name": "Python 3",
   "language": "python",
   "name": "python3"
  },
  "language_info": {
   "codemirror_mode": {
    "name": "ipython",
    "version": 3
   },
   "file_extension": ".py",
   "mimetype": "text/x-python",
   "name": "python",
   "nbconvert_exporter": "python",
   "pygments_lexer": "ipython3",
   "version": "3.7.7"
  }
 },
 "nbformat": 4,
 "nbformat_minor": 4
}
