{
 "cells": [
  {
   "cell_type": "markdown",
   "metadata": {
    "id": "s_qNSzzyaCbD"
   },
   "source": [
    "##### Copyright 2019 The TensorFlow Authors."
   ]
  },
  {
   "cell_type": "code",
   "execution_count": null,
   "metadata": {},
   "outputs": [],
   "source": [
    "# trf enviroment"
   ]
  },
  {
   "cell_type": "code",
   "execution_count": 1,
   "metadata": {
    "cellView": "form",
    "execution": {
     "iopub.execute_input": "2020-09-27T01:25:11.176402Z",
     "iopub.status.busy": "2020-09-27T01:25:11.175727Z",
     "iopub.status.idle": "2020-09-27T01:25:11.177650Z",
     "shell.execute_reply": "2020-09-27T01:25:11.178000Z"
    },
    "id": "jmjh290raIky"
   },
   "outputs": [],
   "source": [
    "#@title Licensed under the Apache License, Version 2.0 (the \"License\");\n",
    "# you may not use this file except in compliance with the License.\n",
    "# You may obtain a copy of the License at\n",
    "#\n",
    "# https://www.apache.org/licenses/LICENSE-2.0\n",
    "#\n",
    "# Unless required by applicable law or agreed to in writing, software\n",
    "# distributed under the License is distributed on an \"AS IS\" BASIS,\n",
    "# WITHOUT WARRANTIES OR CONDITIONS OF ANY KIND, either express or implied.\n",
    "# See the License for the specific language governing permissions and\n",
    "# limitations under the License."
   ]
  },
  {
   "cell_type": "markdown",
   "metadata": {
    "id": "J0Qjg6vuaHNt"
   },
   "source": [
    "# Transformer model for language understanding"
   ]
  },
  {
   "cell_type": "markdown",
   "metadata": {
    "id": "AOpGoE2T-YXS"
   },
   "source": [
    "<table class=\"tfo-notebook-buttons\" align=\"left\">\n",
    "  <td>\n",
    "    <a target=\"_blank\" href=\"https://www.tensorflow.org/tutorials/text/transformer\">\n",
    "    <img src=\"https://www.tensorflow.org/images/tf_logo_32px.png\" />\n",
    "    View on TensorFlow.org</a>\n",
    "  </td>\n",
    "  <td>\n",
    "    <a target=\"_blank\" href=\"https://colab.research.google.com/github/tensorflow/docs/blob/master/site/en/tutorials/text/transformer.ipynb\">\n",
    "    <img src=\"https://www.tensorflow.org/images/colab_logo_32px.png\" />\n",
    "    Run in Google Colab</a>\n",
    "  </td>\n",
    "  <td>\n",
    "    <a target=\"_blank\" href=\"https://github.com/tensorflow/docs/blob/master/site/en/tutorials/text/transformer.ipynb\">\n",
    "    <img src=\"https://www.tensorflow.org/images/GitHub-Mark-32px.png\" />\n",
    "    View source on GitHub</a>\n",
    "  </td>\n",
    "  <td>\n",
    "    <a href=\"https://storage.googleapis.com/tensorflow_docs/docs/site/en/tutorials/text/transformer.ipynb\"><img src=\"https://www.tensorflow.org/images/download_logo_32px.png\" />Download notebook</a>\n",
    "  </td>\n",
    "</table>"
   ]
  },
  {
   "cell_type": "markdown",
   "metadata": {
    "id": "M-f8TnGpE_ex"
   },
   "source": [
    "This tutorial trains a <a href=\"https://arxiv.org/abs/1706.03762\" class=\"external\">Transformer model</a> to translate Portuguese to English. This is an advanced example that assumes knowledge of [text generation](text_generation.ipynb) and [attention](nmt_with_attention.ipynb).\n",
    "\n",
    "The core idea behind the Transformer model is *self-attention*—the ability to attend to different positions of the input sequence to compute a representation of that sequence. Transformer creates stacks of self-attention layers and is explained below in the sections *Scaled dot product attention* and *Multi-head attention*.\n",
    "\n",
    "A transformer model handles variable-sized input using stacks of self-attention layers instead of [RNNs](text_classification_rnn.ipynb) or [CNNs](../images/intro_to_cnns.ipynb). This general architecture has a number of advantages:\n",
    "\n",
    "* It make no assumptions about the temporal/spatial relationships across the data. This is ideal for processing a set of objects (for example, [StarCraft units](https://deepmind.com/blog/alphastar-mastering-real-time-strategy-game-starcraft-ii/#block-8)).\n",
    "* Layer outputs can be calculated in parallel, instead of a series like an RNN.\n",
    "* Distant items can affect each other's output without passing through many RNN-steps, or convolution layers (see [Scene Memory Transformer](https://arxiv.org/pdf/1903.03878.pdf) for example).\n",
    "* It can learn long-range dependencies. This is a challenge in many sequence tasks.\n",
    "\n",
    "The downsides of this architecture are:\n",
    "\n",
    "* For a time-series, the output for a time-step is calculated from the *entire history* instead of only the inputs and current hidden-state. This _may_ be less efficient.   \n",
    "* If the input *does* have a  temporal/spatial relationship, like text, some positional encoding must be added or the model will effectively see a bag of words. \n",
    "\n",
    "After training the model in this notebook, you will be able to input a Portuguese sentence and return the English translation.\n",
    "\n",
    "<img src=\"https://www.tensorflow.org/images/tutorials/transformer/attention_map_portuguese.png\" width=\"800\" alt=\"Attention heatmap\">"
   ]
  },
  {
   "cell_type": "code",
   "execution_count": 2,
   "metadata": {
    "execution": {
     "iopub.execute_input": "2020-09-27T01:25:11.185005Z",
     "iopub.status.busy": "2020-09-27T01:25:11.182258Z",
     "iopub.status.idle": "2020-09-27T01:25:16.882283Z",
     "shell.execute_reply": "2020-09-27T01:25:16.881737Z"
    },
    "id": "XFG0NDRu5mYQ"
   },
   "outputs": [],
   "source": [
    "!pip install -q tfds-nightly\n",
    "\n",
    "# Pin matplotlib version to 3.2.2 since in the latest version\n",
    "# transformer.ipynb fails with the following error:\n",
    "# https://stackoverflow.com/questions/62953704/valueerror-the-number-of-fixedlocator-locations-5-usually-from-a-call-to-set\n",
    "#!pip install matplotlib==3.2.2"
   ]
  },
  {
   "cell_type": "code",
   "execution_count": 7,
   "metadata": {},
   "outputs": [
    {
     "name": "stdout",
     "output_type": "stream",
     "text": [
      "Requirement already satisfied: tf-nightly in c:\\users\\kamcl\\miniconda3\\envs\\trf\\lib\\site-packages (2.4.0.dev20201021)\n",
      "Requirement already satisfied: opt-einsum~=3.3.0 in c:\\users\\kamcl\\miniconda3\\envs\\trf\\lib\\site-packages (from tf-nightly) (3.3.0)\n",
      "Requirement already satisfied: h5py~=2.10.0 in c:\\users\\kamcl\\miniconda3\\envs\\trf\\lib\\site-packages (from tf-nightly) (2.10.0)\n",
      "Requirement already satisfied: flatbuffers~=1.12.0 in c:\\users\\kamcl\\miniconda3\\envs\\trf\\lib\\site-packages (from tf-nightly) (1.12)\n",
      "Requirement already satisfied: google-pasta~=0.2 in c:\\users\\kamcl\\miniconda3\\envs\\trf\\lib\\site-packages (from tf-nightly) (0.2.0)\n",
      "Requirement already satisfied: astunparse~=1.6.3 in c:\\users\\kamcl\\miniconda3\\envs\\trf\\lib\\site-packages (from tf-nightly) (1.6.3)\n",
      "Requirement already satisfied: tb-nightly~=2.4.0.a in c:\\users\\kamcl\\miniconda3\\envs\\trf\\lib\\site-packages (from tf-nightly) (2.4.0a20201021)\n",
      "Requirement already satisfied: protobuf~=3.13.0 in c:\\users\\kamcl\\miniconda3\\envs\\trf\\lib\\site-packages (from tf-nightly) (3.13.0)\n",
      "Requirement already satisfied: typing-extensions~=3.7.4 in c:\\users\\kamcl\\miniconda3\\envs\\trf\\lib\\site-packages (from tf-nightly) (3.7.4.3)\n",
      "Requirement already satisfied: keras-preprocessing~=1.1.2 in c:\\users\\kamcl\\miniconda3\\envs\\trf\\lib\\site-packages (from tf-nightly) (1.1.2)\n",
      "Requirement already satisfied: numpy~=1.19.2 in c:\\users\\kamcl\\miniconda3\\envs\\trf\\lib\\site-packages (from tf-nightly) (1.19.2)\n",
      "Requirement already satisfied: absl-py~=0.10 in c:\\users\\kamcl\\miniconda3\\envs\\trf\\lib\\site-packages (from tf-nightly) (0.10.0)\n",
      "Requirement already satisfied: wrapt~=1.12.1 in c:\\users\\kamcl\\miniconda3\\envs\\trf\\lib\\site-packages (from tf-nightly) (1.12.1)\n",
      "Requirement already satisfied: termcolor~=1.1.0 in c:\\users\\kamcl\\miniconda3\\envs\\trf\\lib\\site-packages (from tf-nightly) (1.1.0)\n",
      "Requirement already satisfied: wheel~=0.35 in c:\\users\\kamcl\\miniconda3\\envs\\trf\\lib\\site-packages (from tf-nightly) (0.35.1)\n",
      "Requirement already satisfied: gast==0.3.3 in c:\\users\\kamcl\\miniconda3\\envs\\trf\\lib\\site-packages (from tf-nightly) (0.3.3)\n",
      "Requirement already satisfied: six~=1.15.0 in c:\\users\\kamcl\\miniconda3\\envs\\trf\\lib\\site-packages (from tf-nightly) (1.15.0)\n",
      "Requirement already satisfied: grpcio~=1.32.0 in c:\\users\\kamcl\\miniconda3\\envs\\trf\\lib\\site-packages (from tf-nightly) (1.32.0)\n",
      "Requirement already satisfied: tf-estimator-nightly~=2.4.0.dev in c:\\users\\kamcl\\miniconda3\\envs\\trf\\lib\\site-packages (from tf-nightly) (2.4.0.dev2020102101)\n",
      "Requirement already satisfied: tensorboard-plugin-wit>=1.6.0 in c:\\users\\kamcl\\miniconda3\\envs\\trf\\lib\\site-packages (from tb-nightly~=2.4.0.a->tf-nightly) (1.7.0)\n",
      "Requirement already satisfied: werkzeug>=0.11.15 in c:\\users\\kamcl\\miniconda3\\envs\\trf\\lib\\site-packages (from tb-nightly~=2.4.0.a->tf-nightly) (1.0.1)\n",
      "Requirement already satisfied: google-auth-oauthlib<0.5,>=0.4.1 in c:\\users\\kamcl\\miniconda3\\envs\\trf\\lib\\site-packages (from tb-nightly~=2.4.0.a->tf-nightly) (0.4.1)\n",
      "Requirement already satisfied: requests<3,>=2.21.0 in c:\\users\\kamcl\\miniconda3\\envs\\trf\\lib\\site-packages (from tb-nightly~=2.4.0.a->tf-nightly) (2.24.0)\n",
      "Requirement already satisfied: google-auth<2,>=1.6.3 in c:\\users\\kamcl\\miniconda3\\envs\\trf\\lib\\site-packages (from tb-nightly~=2.4.0.a->tf-nightly) (1.22.1)\n",
      "Requirement already satisfied: setuptools>=41.0.0 in c:\\users\\kamcl\\miniconda3\\envs\\trf\\lib\\site-packages (from tb-nightly~=2.4.0.a->tf-nightly) (49.6.0.post20201009)\n",
      "Requirement already satisfied: markdown>=2.6.8 in c:\\users\\kamcl\\miniconda3\\envs\\trf\\lib\\site-packages (from tb-nightly~=2.4.0.a->tf-nightly) (3.3.2)\n",
      "Requirement already satisfied: requests-oauthlib>=0.7.0 in c:\\users\\kamcl\\miniconda3\\envs\\trf\\lib\\site-packages (from google-auth-oauthlib<0.5,>=0.4.1->tb-nightly~=2.4.0.a->tf-nightly) (1.3.0)\n",
      "Requirement already satisfied: idna<3,>=2.5 in c:\\users\\kamcl\\miniconda3\\envs\\trf\\lib\\site-packages (from requests<3,>=2.21.0->tb-nightly~=2.4.0.a->tf-nightly) (2.10)\n",
      "Requirement already satisfied: urllib3!=1.25.0,!=1.25.1,<1.26,>=1.21.1 in c:\\users\\kamcl\\miniconda3\\envs\\trf\\lib\\site-packages (from requests<3,>=2.21.0->tb-nightly~=2.4.0.a->tf-nightly) (1.25.11)\n",
      "Requirement already satisfied: chardet<4,>=3.0.2 in c:\\users\\kamcl\\miniconda3\\envs\\trf\\lib\\site-packages (from requests<3,>=2.21.0->tb-nightly~=2.4.0.a->tf-nightly) (3.0.4)\n",
      "Requirement already satisfied: certifi>=2017.4.17 in c:\\users\\kamcl\\miniconda3\\envs\\trf\\lib\\site-packages (from requests<3,>=2.21.0->tb-nightly~=2.4.0.a->tf-nightly) (2020.6.20)\n",
      "Requirement already satisfied: rsa<5,>=3.1.4; python_version >= \"3.5\" in c:\\users\\kamcl\\miniconda3\\envs\\trf\\lib\\site-packages (from google-auth<2,>=1.6.3->tb-nightly~=2.4.0.a->tf-nightly) (4.6)\n",
      "Requirement already satisfied: pyasn1-modules>=0.2.1 in c:\\users\\kamcl\\miniconda3\\envs\\trf\\lib\\site-packages (from google-auth<2,>=1.6.3->tb-nightly~=2.4.0.a->tf-nightly) (0.2.8)\n",
      "Requirement already satisfied: cachetools<5.0,>=2.0.0 in c:\\users\\kamcl\\miniconda3\\envs\\trf\\lib\\site-packages (from google-auth<2,>=1.6.3->tb-nightly~=2.4.0.a->tf-nightly) (4.1.1)\n",
      "Requirement already satisfied: importlib-metadata; python_version < \"3.8\" in c:\\users\\kamcl\\miniconda3\\envs\\trf\\lib\\site-packages (from markdown>=2.6.8->tb-nightly~=2.4.0.a->tf-nightly) (2.0.0)\n",
      "Requirement already satisfied: oauthlib>=3.0.0 in c:\\users\\kamcl\\miniconda3\\envs\\trf\\lib\\site-packages (from requests-oauthlib>=0.7.0->google-auth-oauthlib<0.5,>=0.4.1->tb-nightly~=2.4.0.a->tf-nightly) (3.1.0)\n",
      "Requirement already satisfied: pyasn1>=0.1.3 in c:\\users\\kamcl\\miniconda3\\envs\\trf\\lib\\site-packages (from rsa<5,>=3.1.4; python_version >= \"3.5\"->google-auth<2,>=1.6.3->tb-nightly~=2.4.0.a->tf-nightly) (0.4.8)\n",
      "Requirement already satisfied: zipp>=0.5 in c:\\users\\kamcl\\miniconda3\\envs\\trf\\lib\\site-packages (from importlib-metadata; python_version < \"3.8\"->markdown>=2.6.8->tb-nightly~=2.4.0.a->tf-nightly) (3.3.1)\n"
     ]
    }
   ],
   "source": [
    "!pip install tf-nightly"
   ]
  },
  {
   "cell_type": "code",
   "execution_count": 1,
   "metadata": {},
   "outputs": [
    {
     "name": "stdout",
     "output_type": "stream",
     "text": [
      "3.6.11\n"
     ]
    }
   ],
   "source": [
    "from platform import python_version\n",
    "print(python_version())"
   ]
  },
  {
   "cell_type": "code",
   "execution_count": 2,
   "metadata": {},
   "outputs": [
    {
     "name": "stdout",
     "output_type": "stream",
     "text": [
      "C:\\Users\\kamcl\\Miniconda3\\envs\\trf\\python.exe\n"
     ]
    }
   ],
   "source": [
    "import sys\n",
    "print(sys.executable)"
   ]
  },
  {
   "cell_type": "code",
   "execution_count": 3,
   "metadata": {},
   "outputs": [
    {
     "data": {
      "text/plain": [
       "['builtins', 'builtins', 'sys', 'types']"
      ]
     },
     "execution_count": 3,
     "metadata": {},
     "output_type": "execute_result"
    }
   ],
   "source": [
    "import types\n",
    "def imports():\n",
    "    for name, val in globals().items():\n",
    "        if isinstance(val, types.ModuleType):\n",
    "            yield val.__name__\n",
    "list(imports())"
   ]
  },
  {
   "cell_type": "code",
   "execution_count": 4,
   "metadata": {
    "execution": {
     "iopub.execute_input": "2020-09-27T01:25:16.887127Z",
     "iopub.status.busy": "2020-09-27T01:25:16.886350Z",
     "iopub.status.idle": "2020-09-27T01:25:23.514378Z",
     "shell.execute_reply": "2020-09-27T01:25:23.513828Z"
    },
    "id": "JjJJyJTZYebt"
   },
   "outputs": [
    {
     "name": "stdout",
     "output_type": "stream",
     "text": [
      "Collecting tensorflow\n",
      "  Downloading tensorflow-2.3.1-cp36-cp36m-win_amd64.whl (342.5 MB)\n",
      "Requirement already satisfied: six>=1.12.0 in c:\\users\\kamcl\\miniconda3\\envs\\trf\\lib\\site-packages (from tensorflow) (1.15.0)\n",
      "Requirement already satisfied: keras-preprocessing<1.2,>=1.1.1 in c:\\users\\kamcl\\miniconda3\\envs\\trf\\lib\\site-packages (from tensorflow) (1.1.2)\n",
      "Requirement already satisfied: wrapt>=1.11.1 in c:\\users\\kamcl\\miniconda3\\envs\\trf\\lib\\site-packages (from tensorflow) (1.12.1)\n",
      "Requirement already satisfied: opt-einsum>=2.3.2 in c:\\users\\kamcl\\miniconda3\\envs\\trf\\lib\\site-packages (from tensorflow) (3.3.0)\n",
      "Collecting tensorflow-estimator<2.4.0,>=2.3.0\n",
      "  Using cached tensorflow_estimator-2.3.0-py2.py3-none-any.whl (459 kB)\n",
      "Collecting tensorboard<3,>=2.3.0\n",
      "  Using cached tensorboard-2.3.0-py3-none-any.whl (6.8 MB)\n",
      "Requirement already satisfied: absl-py>=0.7.0 in c:\\users\\kamcl\\miniconda3\\envs\\trf\\lib\\site-packages (from tensorflow) (0.10.0)\n",
      "Collecting numpy<1.19.0,>=1.16.0\n",
      "  Downloading numpy-1.18.5-cp36-cp36m-win_amd64.whl (12.7 MB)\n",
      "Requirement already satisfied: grpcio>=1.8.6 in c:\\users\\kamcl\\miniconda3\\envs\\trf\\lib\\site-packages (from tensorflow) (1.32.0)\n",
      "Requirement already satisfied: protobuf>=3.9.2 in c:\\users\\kamcl\\miniconda3\\envs\\trf\\lib\\site-packages (from tensorflow) (3.13.0)\n",
      "Requirement already satisfied: h5py<2.11.0,>=2.10.0 in c:\\users\\kamcl\\miniconda3\\envs\\trf\\lib\\site-packages (from tensorflow) (2.10.0)\n",
      "Requirement already satisfied: wheel>=0.26 in c:\\users\\kamcl\\miniconda3\\envs\\trf\\lib\\site-packages (from tensorflow) (0.35.1)\n",
      "Requirement already satisfied: gast==0.3.3 in c:\\users\\kamcl\\miniconda3\\envs\\trf\\lib\\site-packages (from tensorflow) (0.3.3)\n",
      "Requirement already satisfied: termcolor>=1.1.0 in c:\\users\\kamcl\\miniconda3\\envs\\trf\\lib\\site-packages (from tensorflow) (1.1.0)\n",
      "Requirement already satisfied: astunparse==1.6.3 in c:\\users\\kamcl\\miniconda3\\envs\\trf\\lib\\site-packages (from tensorflow) (1.6.3)\n",
      "Requirement already satisfied: google-pasta>=0.1.8 in c:\\users\\kamcl\\miniconda3\\envs\\trf\\lib\\site-packages (from tensorflow) (0.2.0)\n",
      "Requirement already satisfied: markdown>=2.6.8 in c:\\users\\kamcl\\miniconda3\\envs\\trf\\lib\\site-packages (from tensorboard<3,>=2.3.0->tensorflow) (3.3.2)\n",
      "Requirement already satisfied: setuptools>=41.0.0 in c:\\users\\kamcl\\miniconda3\\envs\\trf\\lib\\site-packages (from tensorboard<3,>=2.3.0->tensorflow) (49.6.0.post20201009)\n",
      "Requirement already satisfied: requests<3,>=2.21.0 in c:\\users\\kamcl\\miniconda3\\envs\\trf\\lib\\site-packages (from tensorboard<3,>=2.3.0->tensorflow) (2.24.0)\n",
      "Requirement already satisfied: tensorboard-plugin-wit>=1.6.0 in c:\\users\\kamcl\\miniconda3\\envs\\trf\\lib\\site-packages (from tensorboard<3,>=2.3.0->tensorflow) (1.7.0)\n",
      "Requirement already satisfied: google-auth-oauthlib<0.5,>=0.4.1 in c:\\users\\kamcl\\miniconda3\\envs\\trf\\lib\\site-packages (from tensorboard<3,>=2.3.0->tensorflow) (0.4.1)\n",
      "Requirement already satisfied: google-auth<2,>=1.6.3 in c:\\users\\kamcl\\miniconda3\\envs\\trf\\lib\\site-packages (from tensorboard<3,>=2.3.0->tensorflow) (1.22.1)\n",
      "Requirement already satisfied: werkzeug>=0.11.15 in c:\\users\\kamcl\\miniconda3\\envs\\trf\\lib\\site-packages (from tensorboard<3,>=2.3.0->tensorflow) (1.0.1)\n",
      "Requirement already satisfied: importlib-metadata; python_version < \"3.8\" in c:\\users\\kamcl\\miniconda3\\envs\\trf\\lib\\site-packages (from markdown>=2.6.8->tensorboard<3,>=2.3.0->tensorflow) (2.0.0)\n",
      "Requirement already satisfied: idna<3,>=2.5 in c:\\users\\kamcl\\miniconda3\\envs\\trf\\lib\\site-packages (from requests<3,>=2.21.0->tensorboard<3,>=2.3.0->tensorflow) (2.10)\n",
      "Requirement already satisfied: certifi>=2017.4.17 in c:\\users\\kamcl\\miniconda3\\envs\\trf\\lib\\site-packages (from requests<3,>=2.21.0->tensorboard<3,>=2.3.0->tensorflow) (2020.6.20)\n",
      "Requirement already satisfied: urllib3!=1.25.0,!=1.25.1,<1.26,>=1.21.1 in c:\\users\\kamcl\\miniconda3\\envs\\trf\\lib\\site-packages (from requests<3,>=2.21.0->tensorboard<3,>=2.3.0->tensorflow) (1.25.11)\n",
      "Requirement already satisfied: chardet<4,>=3.0.2 in c:\\users\\kamcl\\miniconda3\\envs\\trf\\lib\\site-packages (from requests<3,>=2.21.0->tensorboard<3,>=2.3.0->tensorflow) (3.0.4)\n",
      "Requirement already satisfied: requests-oauthlib>=0.7.0 in c:\\users\\kamcl\\miniconda3\\envs\\trf\\lib\\site-packages (from google-auth-oauthlib<0.5,>=0.4.1->tensorboard<3,>=2.3.0->tensorflow) (1.3.0)\n",
      "Requirement already satisfied: cachetools<5.0,>=2.0.0 in c:\\users\\kamcl\\miniconda3\\envs\\trf\\lib\\site-packages (from google-auth<2,>=1.6.3->tensorboard<3,>=2.3.0->tensorflow) (4.1.1)\n",
      "Requirement already satisfied: pyasn1-modules>=0.2.1 in c:\\users\\kamcl\\miniconda3\\envs\\trf\\lib\\site-packages (from google-auth<2,>=1.6.3->tensorboard<3,>=2.3.0->tensorflow) (0.2.8)\n",
      "Requirement already satisfied: rsa<5,>=3.1.4; python_version >= \"3.5\" in c:\\users\\kamcl\\miniconda3\\envs\\trf\\lib\\site-packages (from google-auth<2,>=1.6.3->tensorboard<3,>=2.3.0->tensorflow) (4.6)\n",
      "Requirement already satisfied: zipp>=0.5 in c:\\users\\kamcl\\miniconda3\\envs\\trf\\lib\\site-packages (from importlib-metadata; python_version < \"3.8\"->markdown>=2.6.8->tensorboard<3,>=2.3.0->tensorflow) (3.3.1)\n",
      "Requirement already satisfied: oauthlib>=3.0.0 in c:\\users\\kamcl\\miniconda3\\envs\\trf\\lib\\site-packages (from requests-oauthlib>=0.7.0->google-auth-oauthlib<0.5,>=0.4.1->tensorboard<3,>=2.3.0->tensorflow) (3.1.0)\n",
      "Requirement already satisfied: pyasn1<0.5.0,>=0.4.6 in c:\\users\\kamcl\\miniconda3\\envs\\trf\\lib\\site-packages (from pyasn1-modules>=0.2.1->google-auth<2,>=1.6.3->tensorboard<3,>=2.3.0->tensorflow) (0.4.8)\n",
      "Installing collected packages: tensorflow-estimator, numpy, tensorboard, tensorflow\n",
      "  Attempting uninstall: numpy\n",
      "    Found existing installation: numpy 1.19.2\n",
      "    Uninstalling numpy-1.19.2:\n",
      "      Successfully uninstalled numpy-1.19.2\n",
      "Successfully installed numpy-1.18.5 tensorboard-2.3.0 tensorflow-2.3.1 tensorflow-estimator-2.3.0\n"
     ]
    }
   ],
   "source": [
    "!pip install tensorflow"
   ]
  },
  {
   "cell_type": "code",
   "execution_count": 6,
   "metadata": {},
   "outputs": [
    {
     "name": "stdout",
     "output_type": "stream",
     "text": [
      "Collecting pandas\n",
      "  Downloading pandas-1.1.3-cp36-cp36m-win_amd64.whl (8.7 MB)\n",
      "Requirement already satisfied: numpy>=1.15.4 in c:\\users\\kamcl\\miniconda3\\envs\\trf\\lib\\site-packages (from pandas) (1.18.5)\n",
      "Collecting pytz>=2017.2\n",
      "  Using cached pytz-2020.1-py2.py3-none-any.whl (510 kB)\n",
      "Requirement already satisfied: python-dateutil>=2.7.3 in c:\\users\\kamcl\\miniconda3\\envs\\trf\\lib\\site-packages (from pandas) (2.8.1)\n",
      "Requirement already satisfied: six>=1.5 in c:\\users\\kamcl\\miniconda3\\envs\\trf\\lib\\site-packages (from python-dateutil>=2.7.3->pandas) (1.15.0)\n",
      "Installing collected packages: pytz, pandas\n",
      "Successfully installed pandas-1.1.3 pytz-2020.1\n"
     ]
    }
   ],
   "source": [
    "!pip install pandas"
   ]
  },
  {
   "cell_type": "markdown",
   "metadata": {},
   "source": [
    "# Start here"
   ]
  },
  {
   "cell_type": "code",
   "execution_count": 1,
   "metadata": {},
   "outputs": [],
   "source": [
    "import tensorflow_datasets as tfds\n",
    "import tensorflow as tf\n",
    "\n",
    "import time\n",
    "import numpy as np\n",
    "import pandas as pd\n",
    "import matplotlib.pyplot as plt"
   ]
  },
  {
   "cell_type": "code",
   "execution_count": 2,
   "metadata": {},
   "outputs": [],
   "source": [
    "# preprocess data"
   ]
  },
  {
   "cell_type": "code",
   "execution_count": 64,
   "metadata": {},
   "outputs": [],
   "source": [
    "df = pd.read_csv('d:/_PHD/chem_react_transformer/data/reactions_1000.csv', \n",
    "                 header=None, \n",
    "                 names=['reaction'], \n",
    "                 nrows=200000) #, nrows=10000\n",
    "\n",
    "df['reaction'] = df.reaction.str.replace('\\|f.*','',regex=True)\n",
    "df = df.reaction.str.split('>', expand=True)\n",
    "df.rename(columns={0: \"inp\", 1: \"cat\", 2: \"out\"}, inplace=True)\n",
    "\n",
    "#df = df[df['inp'].str.contains(\".\")]"
   ]
  },
  {
   "cell_type": "code",
   "execution_count": 65,
   "metadata": {},
   "outputs": [
    {
     "data": {
      "text/html": [
       "<div>\n",
       "<style scoped>\n",
       "    .dataframe tbody tr th:only-of-type {\n",
       "        vertical-align: middle;\n",
       "    }\n",
       "\n",
       "    .dataframe tbody tr th {\n",
       "        vertical-align: top;\n",
       "    }\n",
       "\n",
       "    .dataframe thead th {\n",
       "        text-align: right;\n",
       "    }\n",
       "</style>\n",
       "<table border=\"1\" class=\"dataframe\">\n",
       "  <thead>\n",
       "    <tr style=\"text-align: right;\">\n",
       "      <th></th>\n",
       "      <th>inp</th>\n",
       "      <th>cat</th>\n",
       "      <th>out</th>\n",
       "    </tr>\n",
       "  </thead>\n",
       "  <tbody>\n",
       "    <tr>\n",
       "      <th>0</th>\n",
       "      <td>[Br:1][CH2:2][CH2:3][OH:4].[CH2:5]([S:7](Cl)(=...</td>\n",
       "      <td>C(N(CC)CC)C</td>\n",
       "      <td>[CH2:5]([S:7]([O:4][CH2:3][CH2:2][Br:1])(=[O:9...</td>\n",
       "    </tr>\n",
       "    <tr>\n",
       "      <th>1</th>\n",
       "      <td>[Br:1][CH2:2][CH2:3][CH2:4][OH:5].[CH3:6][S:7]...</td>\n",
       "      <td>C(N(CC)CC)C</td>\n",
       "      <td>[CH3:6][S:7]([O:5][CH2:4][CH2:3][CH2:2][Br:1])...</td>\n",
       "    </tr>\n",
       "    <tr>\n",
       "      <th>2</th>\n",
       "      <td>[CH2:1]([Cl:4])[CH2:2][OH:3].CCOCC.[CH2:10]([S...</td>\n",
       "      <td>C(N(CC)CC)C</td>\n",
       "      <td>[CH2:10]([S:14]([O:3][CH2:2][CH2:1][Cl:4])(=[O...</td>\n",
       "    </tr>\n",
       "    <tr>\n",
       "      <th>6</th>\n",
       "      <td>[Cl:1][C:2]1[N:3]=[CH:4][C:5]2[C:10]([CH:11]=1...</td>\n",
       "      <td>C(O)(=O)C.[Fe]</td>\n",
       "      <td>[Cl:1][C:2]1[N:3]=[CH:4][C:5]2[C:10]([CH:11]=1...</td>\n",
       "    </tr>\n",
       "    <tr>\n",
       "      <th>7</th>\n",
       "      <td>[CH3:1][C:2]1[N+:3]([O-])=[CH:4][C:5]2[C:10]([...</td>\n",
       "      <td></td>\n",
       "      <td>[Cl:18][C:4]1[C:5]2[C:10](=[C:9]([N+:12]([O-:1...</td>\n",
       "    </tr>\n",
       "    <tr>\n",
       "      <th>...</th>\n",
       "      <td>...</td>\n",
       "      <td>...</td>\n",
       "      <td>...</td>\n",
       "    </tr>\n",
       "    <tr>\n",
       "      <th>199966</th>\n",
       "      <td>N1C=CN=CC=1.[NH:7]1[CH2:12][CH:11]([C:13]([OH:...</td>\n",
       "      <td></td>\n",
       "      <td>[NH:7]1[CH2:12][CH:11]([C:13]([OH:15])=[O:14])...</td>\n",
       "    </tr>\n",
       "    <tr>\n",
       "      <th>199975</th>\n",
       "      <td>[Cl:1][C:2]1[CH:7]=[CH:6][CH:5]=[CH:4][C:3]=1[...</td>\n",
       "      <td>C(O)C</td>\n",
       "      <td>[Cl:1][C:2]1[CH:7]=[CH:6][CH:5]=[CH:4][C:3]=1[...</td>\n",
       "    </tr>\n",
       "    <tr>\n",
       "      <th>199993</th>\n",
       "      <td>[CH2:1]([N:5]([CH2:10][CH2:11][CH2:12][CH3:13]...</td>\n",
       "      <td>C(O)C</td>\n",
       "      <td>[ClH:14].[CH2:1]([N:5]([CH2:10][CH2:11][CH2:12...</td>\n",
       "    </tr>\n",
       "    <tr>\n",
       "      <th>199996</th>\n",
       "      <td>C1([N:6](C)[C:7](=S)[NH:8][NH2:9])CCCC1.[Cl:12...</td>\n",
       "      <td></td>\n",
       "      <td>[ClH:12].[CH:24]1([CH2:23][NH:6][C:7]2[C:13]([...</td>\n",
       "    </tr>\n",
       "    <tr>\n",
       "      <th>199998</th>\n",
       "      <td>[N:1]1([CH2:7][CH2:8][NH:9][C:10](=S)[NH:11][N...</td>\n",
       "      <td>Cl.C(O)C</td>\n",
       "      <td>[ClH:14].[CH2:19]([O:18][C:16]([C:15]1[C:10]([...</td>\n",
       "    </tr>\n",
       "  </tbody>\n",
       "</table>\n",
       "<p>125609 rows × 3 columns</p>\n",
       "</div>"
      ],
      "text/plain": [
       "                                                      inp             cat  \\\n",
       "0       [Br:1][CH2:2][CH2:3][OH:4].[CH2:5]([S:7](Cl)(=...     C(N(CC)CC)C   \n",
       "1       [Br:1][CH2:2][CH2:3][CH2:4][OH:5].[CH3:6][S:7]...     C(N(CC)CC)C   \n",
       "2       [CH2:1]([Cl:4])[CH2:2][OH:3].CCOCC.[CH2:10]([S...     C(N(CC)CC)C   \n",
       "6       [Cl:1][C:2]1[N:3]=[CH:4][C:5]2[C:10]([CH:11]=1...  C(O)(=O)C.[Fe]   \n",
       "7       [CH3:1][C:2]1[N+:3]([O-])=[CH:4][C:5]2[C:10]([...                   \n",
       "...                                                   ...             ...   \n",
       "199966  N1C=CN=CC=1.[NH:7]1[CH2:12][CH:11]([C:13]([OH:...                   \n",
       "199975  [Cl:1][C:2]1[CH:7]=[CH:6][CH:5]=[CH:4][C:3]=1[...           C(O)C   \n",
       "199993  [CH2:1]([N:5]([CH2:10][CH2:11][CH2:12][CH3:13]...           C(O)C   \n",
       "199996  C1([N:6](C)[C:7](=S)[NH:8][NH2:9])CCCC1.[Cl:12...                   \n",
       "199998  [N:1]1([CH2:7][CH2:8][NH:9][C:10](=S)[NH:11][N...        Cl.C(O)C   \n",
       "\n",
       "                                                      out  \n",
       "0       [CH2:5]([S:7]([O:4][CH2:3][CH2:2][Br:1])(=[O:9...  \n",
       "1       [CH3:6][S:7]([O:5][CH2:4][CH2:3][CH2:2][Br:1])...  \n",
       "2       [CH2:10]([S:14]([O:3][CH2:2][CH2:1][Cl:4])(=[O...  \n",
       "6       [Cl:1][C:2]1[N:3]=[CH:4][C:5]2[C:10]([CH:11]=1...  \n",
       "7       [Cl:18][C:4]1[C:5]2[C:10](=[C:9]([N+:12]([O-:1...  \n",
       "...                                                   ...  \n",
       "199966  [NH:7]1[CH2:12][CH:11]([C:13]([OH:15])=[O:14])...  \n",
       "199975  [Cl:1][C:2]1[CH:7]=[CH:6][CH:5]=[CH:4][C:3]=1[...  \n",
       "199993  [ClH:14].[CH2:1]([N:5]([CH2:10][CH2:11][CH2:12...  \n",
       "199996  [ClH:12].[CH:24]1([CH2:23][NH:6][C:7]2[C:13]([...  \n",
       "199998  [ClH:14].[CH2:19]([O:18][C:16]([C:15]1[C:10]([...  \n",
       "\n",
       "[125609 rows x 3 columns]"
      ]
     },
     "execution_count": 65,
     "metadata": {},
     "output_type": "execute_result"
    }
   ],
   "source": [
    "df = df.drop_duplicates(subset=['inp'], keep='first')\n",
    "df"
   ]
  },
  {
   "cell_type": "code",
   "execution_count": 66,
   "metadata": {},
   "outputs": [],
   "source": [
    "# make validation set and convert the pandas to tensorflow\n",
    "\n",
    "train_df = df.sample(frac=0.8, random_state=0)\n",
    "test_df = df[~df.index.isin(train_df.index)]\n",
    "\n",
    "#https://stackoverflow.com/questions/58362316/how-do-i-go-from-pandas-dataframe-to-tensorflow-batchdataset-for-nlp\n",
    "train_examples = tf.data.Dataset.from_tensor_slices((train_df.pop('inp'), train_df.pop('out')))\n",
    "val_examples = tf.data.Dataset.from_tensor_slices((test_df.pop('inp'), test_df.pop('out')))"
   ]
  },
  {
   "cell_type": "code",
   "execution_count": 67,
   "metadata": {},
   "outputs": [
    {
     "data": {
      "text/plain": [
       "((100487, 1), (25122, 1))"
      ]
     },
     "execution_count": 67,
     "metadata": {},
     "output_type": "execute_result"
    }
   ],
   "source": [
    "train_df.shape, test_df.shape"
   ]
  },
  {
   "cell_type": "code",
   "execution_count": 68,
   "metadata": {},
   "outputs": [],
   "source": [
    "tokenizer_in = tfds.deprecated.text.SubwordTextEncoder.build_from_corpus(\n",
    "    (inp.numpy() for inp, out in train_examples), target_vocab_size=2**13)\n",
    "\n",
    "tokenizer_out = tfds.deprecated.text.SubwordTextEncoder.build_from_corpus(\n",
    "    (out.numpy() for inp, out in val_examples), target_vocab_size=2**13)"
   ]
  },
  {
   "cell_type": "code",
   "execution_count": 69,
   "metadata": {},
   "outputs": [
    {
     "name": "stdout",
     "output_type": "stream",
     "text": [
      "Tokenized string is [2668, 3, 2635, 2630, 4, 2660, 2635, 2632, 4, 2656, 2635, 2629, 1, 3, 2635, 2628, 1, 3, 2635, 2627, 1, 53, 2635, 2626, 66, 2656, 2635, 2634, 9, 2656, 2635, 2633, 6, 7, 2635, 2631, 2670]\n"
     ]
    }
   ],
   "source": [
    "tokenized_string = tokenizer_in.encode('[CH2:5]([S:7]([O:4][CH2:3][CH2:2][Br:1])(=[O:9])=[O:8])[CH3:6]')\n",
    "print ('Tokenized string is {}'.format(tokenized_string))"
   ]
  },
  {
   "cell_type": "code",
   "execution_count": 70,
   "metadata": {},
   "outputs": [
    {
     "name": "stdout",
     "output_type": "stream",
     "text": [
      "2668 ----> [\n",
      "3 ----> CH2\n",
      "2635 ----> :\n",
      "2630 ----> 5\n",
      "4 ----> ]([\n",
      "2660 ----> S\n",
      "2635 ----> :\n",
      "2632 ----> 7\n",
      "4 ----> ]([\n",
      "2656 ----> O\n",
      "2635 ----> :\n",
      "2629 ----> 4\n",
      "1 ----> ][\n",
      "3 ----> CH2\n",
      "2635 ----> :\n",
      "2628 ----> 3\n",
      "1 ----> ][\n",
      "3 ----> CH2\n",
      "2635 ----> :\n",
      "2627 ----> 2\n",
      "1 ----> ][\n",
      "53 ----> Br\n",
      "2635 ----> :\n",
      "2626 ----> 1\n",
      "66 ----> ])(=[\n",
      "2656 ----> O\n",
      "2635 ----> :\n",
      "2634 ----> 9\n",
      "9 ----> ])=[\n",
      "2656 ----> O\n",
      "2635 ----> :\n",
      "2633 ----> 8\n",
      "6 ----> ])[\n",
      "7 ----> CH3\n",
      "2635 ----> :\n",
      "2631 ----> 6\n",
      "2670 ----> ]\n"
     ]
    }
   ],
   "source": [
    "for ts in tokenized_string:\n",
    "  print ('{} ----> {}'.format(ts, tokenizer_in.decode([ts])))"
   ]
  },
  {
   "cell_type": "code",
   "execution_count": 9,
   "metadata": {},
   "outputs": [],
   "source": [
    "train_examples = train_examples.prefetch(buffer_size=tf.data.experimental.AUTOTUNE)\n",
    "val_examples = val_examples.prefetch(buffer_size=tf.data.experimental.AUTOTUNE)"
   ]
  },
  {
   "cell_type": "markdown",
   "metadata": {
    "id": "fd1NWMxjfsDd"
   },
   "source": [
    "## Setup input pipeline"
   ]
  },
  {
   "cell_type": "markdown",
   "metadata": {
    "id": "t4_Qt8W1hJE_"
   },
   "source": [
    "Use [TFDS](https://www.tensorflow.org/datasets) to load the [Portugese-English translation dataset](https://github.com/neulab/word-embeddings-for-nmt) from the [TED Talks Open Translation Project](https://www.ted.com/participate/translate).\n",
    "\n",
    "This dataset contains approximately 50000 training examples, 1100 validation examples, and 2000 test examples."
   ]
  },
  {
   "cell_type": "code",
   "execution_count": 2,
   "metadata": {
    "execution": {
     "iopub.execute_input": "2020-09-27T01:25:23.522389Z",
     "iopub.status.busy": "2020-09-27T01:25:23.521807Z",
     "iopub.status.idle": "2020-09-27T01:25:48.022010Z",
     "shell.execute_reply": "2020-09-27T01:25:48.022392Z"
    },
    "id": "8q9t4FmN96eN"
   },
   "outputs": [],
   "source": [
    "examples = tfds.load('ted_hrlr_translate/pt_to_en', with_info=False, #\n",
    "                               as_supervised=True)\n",
    "train_examples, val_examples = examples['train'], examples['validation']"
   ]
  },
  {
   "cell_type": "code",
   "execution_count": 3,
   "metadata": {},
   "outputs": [
    {
     "data": {
      "text/plain": [
       "(tensorflow.python.data.ops.dataset_ops.PrefetchDataset,\n",
       " <PrefetchDataset shapes: ((), ()), types: (tf.string, tf.string)>)"
      ]
     },
     "execution_count": 3,
     "metadata": {},
     "output_type": "execute_result"
    }
   ],
   "source": [
    "type(train_examples), train_examples"
   ]
  },
  {
   "cell_type": "markdown",
   "metadata": {
    "id": "RCEKotqosGfq"
   },
   "source": [
    "Create a custom subwords tokenizer from the training dataset. "
   ]
  },
  {
   "cell_type": "code",
   "execution_count": 4,
   "metadata": {
    "execution": {
     "iopub.execute_input": "2020-09-27T01:25:48.028333Z",
     "iopub.status.busy": "2020-09-27T01:25:48.027730Z",
     "iopub.status.idle": "2020-09-27T01:27:45.599389Z",
     "shell.execute_reply": "2020-09-27T01:27:45.598621Z"
    },
    "id": "KVBg5Q8tBk5z"
   },
   "outputs": [],
   "source": [
    "tokenizer_en = tfds.deprecated.text.SubwordTextEncoder.build_from_corpus(\n",
    "    (en.numpy() for pt, en in train_examples), target_vocab_size=2**13)\n",
    "\n",
    "tokenizer_pt = tfds.deprecated.text.SubwordTextEncoder.build_from_corpus(\n",
    "    (pt.numpy() for pt, en in val_examples), target_vocab_size=2**13)"
   ]
  },
  {
   "cell_type": "code",
   "execution_count": 5,
   "metadata": {
    "execution": {
     "iopub.execute_input": "2020-09-27T01:27:45.604774Z",
     "iopub.status.busy": "2020-09-27T01:27:45.604184Z",
     "iopub.status.idle": "2020-09-27T01:27:45.606258Z",
     "shell.execute_reply": "2020-09-27T01:27:45.606663Z"
    },
    "id": "4DYWukNFkGQN"
   },
   "outputs": [
    {
     "name": "stdout",
     "output_type": "stream",
     "text": [
      "Tokenized string is [7915, 1248, 7946, 7194, 13, 2799, 7877]\n",
      "The original string: Transformer is awesome.\n"
     ]
    }
   ],
   "source": [
    "sample_string = 'Transformer is awesome.'\n",
    "\n",
    "tokenized_string = tokenizer_en.encode(sample_string)\n",
    "print ('Tokenized string is {}'.format(tokenized_string))\n",
    "\n",
    "original_string = tokenizer_en.decode(tokenized_string)\n",
    "print ('The original string: {}'.format(original_string))\n",
    "\n",
    "assert original_string == sample_string"
   ]
  },
  {
   "cell_type": "markdown",
   "metadata": {
    "id": "o9KJWJjrsZ4Y"
   },
   "source": [
    "The tokenizer encodes the string by breaking it into subwords if the word is not in its dictionary."
   ]
  },
  {
   "cell_type": "code",
   "execution_count": 6,
   "metadata": {
    "execution": {
     "iopub.execute_input": "2020-09-27T01:27:45.611320Z",
     "iopub.status.busy": "2020-09-27T01:27:45.610720Z",
     "iopub.status.idle": "2020-09-27T01:27:45.612658Z",
     "shell.execute_reply": "2020-09-27T01:27:45.613001Z"
    },
    "id": "bf2ntBxjkqK6"
   },
   "outputs": [
    {
     "name": "stdout",
     "output_type": "stream",
     "text": [
      "7915 ----> T\n",
      "1248 ----> ran\n",
      "7946 ----> s\n",
      "7194 ----> former \n",
      "13 ----> is \n",
      "2799 ----> awesome\n",
      "7877 ----> .\n"
     ]
    }
   ],
   "source": [
    "for ts in tokenized_string:\n",
    "  print ('{} ----> {}'.format(ts, tokenizer_en.decode([ts])))"
   ]
  },
  {
   "cell_type": "code",
   "execution_count": 7,
   "metadata": {
    "execution": {
     "iopub.execute_input": "2020-09-27T01:27:45.616318Z",
     "iopub.status.busy": "2020-09-27T01:27:45.615771Z",
     "iopub.status.idle": "2020-09-27T01:27:45.617969Z",
     "shell.execute_reply": "2020-09-27T01:27:45.617431Z"
    },
    "id": "bcRp7VcQ5m6g"
   },
   "outputs": [],
   "source": [
    "BUFFER_SIZE = 20000\n",
    "# beware of the batch size\n",
    "BATCH_SIZE = 64"
   ]
  },
  {
   "cell_type": "markdown",
   "metadata": {
    "id": "kGi4PoVakxdc"
   },
   "source": [
    "Add a start and end token to the input and target. "
   ]
  },
  {
   "cell_type": "code",
   "execution_count": 15,
   "metadata": {},
   "outputs": [],
   "source": [
    "tokenizer_in = tokenizer_en\n",
    "tokenizer_out = tokenizer_pt"
   ]
  },
  {
   "cell_type": "code",
   "execution_count": 16,
   "metadata": {
    "execution": {
     "iopub.execute_input": "2020-09-27T01:27:45.622638Z",
     "iopub.status.busy": "2020-09-27T01:27:45.622095Z",
     "iopub.status.idle": "2020-09-27T01:27:45.623696Z",
     "shell.execute_reply": "2020-09-27T01:27:45.624035Z"
    },
    "id": "UZwnPr4R055s"
   },
   "outputs": [],
   "source": [
    "def encode(lang1, lang2):\n",
    "  lang1 = [tokenizer_in.vocab_size] + tokenizer_in.encode(\n",
    "      lang1.numpy()) + [tokenizer_in.vocab_size+1]\n",
    "\n",
    "  lang2 = [tokenizer_out.vocab_size] + tokenizer_out.encode(\n",
    "      lang2.numpy()) + [tokenizer_out.vocab_size+1]\n",
    "  \n",
    "  return lang1, lang2"
   ]
  },
  {
   "cell_type": "markdown",
   "metadata": {
    "id": "Tx1sFbR-9fRs"
   },
   "source": [
    "You want to use `Dataset.map` to apply this function to each element of the dataset.  `Dataset.map` runs in graph mode.\n",
    "\n",
    "* Graph tensors do not have a value. \n",
    "* In graph mode you can only use TensorFlow Ops and functions. \n",
    "\n",
    "So you can't `.map` this function directly: You need to wrap it in a `tf.py_function`. The `tf.py_function` will pass regular tensors (with a value and a `.numpy()` method to access it), to the wrapped python function."
   ]
  },
  {
   "cell_type": "code",
   "execution_count": 17,
   "metadata": {
    "execution": {
     "iopub.execute_input": "2020-09-27T01:27:45.628358Z",
     "iopub.status.busy": "2020-09-27T01:27:45.627771Z",
     "iopub.status.idle": "2020-09-27T01:27:45.629599Z",
     "shell.execute_reply": "2020-09-27T01:27:45.630031Z"
    },
    "id": "Mah1cS-P70Iz"
   },
   "outputs": [],
   "source": [
    "def tf_encode(r_in, r_out):\n",
    "  result_in, result_out = tf.py_function(encode, [r_in, r_out], [tf.int64, tf.int64])\n",
    "  result_in.set_shape([None])\n",
    "  result_out.set_shape([None])\n",
    "\n",
    "  return result_in, result_out"
   ]
  },
  {
   "cell_type": "markdown",
   "metadata": {
    "id": "6JrGp5Gek6Ql"
   },
   "source": [
    "Note: To keep this example small and relatively fast, drop examples with a length of over 40 tokens."
   ]
  },
  {
   "cell_type": "code",
   "execution_count": 18,
   "metadata": {
    "execution": {
     "iopub.execute_input": "2020-09-27T01:27:45.633376Z",
     "iopub.status.busy": "2020-09-27T01:27:45.632858Z",
     "iopub.status.idle": "2020-09-27T01:27:45.634544Z",
     "shell.execute_reply": "2020-09-27T01:27:45.634904Z"
    },
    "id": "2QEgbjntk6Yf"
   },
   "outputs": [],
   "source": [
    "MAX_LENGTH = 120"
   ]
  },
  {
   "cell_type": "code",
   "execution_count": 19,
   "metadata": {
    "execution": {
     "iopub.execute_input": "2020-09-27T01:27:45.638552Z",
     "iopub.status.busy": "2020-09-27T01:27:45.637950Z",
     "iopub.status.idle": "2020-09-27T01:27:45.639995Z",
     "shell.execute_reply": "2020-09-27T01:27:45.640468Z"
    },
    "id": "c081xPGv1CPI"
   },
   "outputs": [],
   "source": [
    "def filter_max_length(x, y, max_length=MAX_LENGTH):\n",
    "  return tf.logical_and(tf.size(x) <= max_length,\n",
    "                        tf.size(y) <= max_length)"
   ]
  },
  {
   "cell_type": "code",
   "execution_count": 71,
   "metadata": {
    "execution": {
     "iopub.execute_input": "2020-09-27T01:27:45.645266Z",
     "iopub.status.busy": "2020-09-27T01:27:45.644745Z",
     "iopub.status.idle": "2020-09-27T01:27:45.756386Z",
     "shell.execute_reply": "2020-09-27T01:27:45.755786Z"
    },
    "id": "9mk9AZdZ5bcS"
   },
   "outputs": [],
   "source": [
    "train_dataset = train_examples.map(tf_encode)\n",
    "train_dataset = train_dataset.filter(filter_max_length)\n",
    "# cache the dataset to memory to get a speedup while reading from it.\n",
    "train_dataset = train_dataset.cache()\n",
    "train_dataset = train_dataset.shuffle(BUFFER_SIZE).padded_batch(BATCH_SIZE)\n",
    "train_dataset = train_dataset.prefetch(tf.data.experimental.AUTOTUNE)\n",
    "\n",
    "\n",
    "val_dataset = val_examples.map(tf_encode)\n",
    "val_dataset = val_dataset.filter(filter_max_length).padded_batch(BATCH_SIZE)"
   ]
  },
  {
   "cell_type": "code",
   "execution_count": 72,
   "metadata": {},
   "outputs": [
    {
     "data": {
      "text/plain": [
       "(<TensorSliceDataset shapes: ((), ()), types: (tf.string, tf.string)>,\n",
       " <PrefetchDataset shapes: ((None, None), (None, None)), types: (tf.int64, tf.int64)>)"
      ]
     },
     "execution_count": 72,
     "metadata": {},
     "output_type": "execute_result"
    }
   ],
   "source": [
    "train_examples, train_dataset"
   ]
  },
  {
   "cell_type": "code",
   "execution_count": 73,
   "metadata": {
    "execution": {
     "iopub.execute_input": "2020-09-27T01:27:45.760345Z",
     "iopub.status.busy": "2020-09-27T01:27:45.759802Z",
     "iopub.status.idle": "2020-09-27T01:27:45.835589Z",
     "shell.execute_reply": "2020-09-27T01:27:45.836090Z"
    },
    "id": "_fXvfYVfQr2n"
   },
   "outputs": [
    {
     "data": {
      "text/plain": [
       "(<tf.Tensor: shape=(64, 120), dtype=int64, numpy=\n",
       " array([[2833, 2668,    3, ...,    0,    0,    0],\n",
       "        [2833, 2668, 2655, ...,    0,    0,    0],\n",
       "        [2833, 2668, 2660, ...,    0,    0,    0],\n",
       "        ...,\n",
       "        [2833, 2668,    7, ...,    0,    0,    0],\n",
       "        [2833, 2668,    7, ...,    0,    0,    0],\n",
       "        [2833, 2668,    2, ...,    0,    0,    0]], dtype=int64)>,\n",
       " <tf.Tensor: shape=(64, 118), dtype=int64, numpy=\n",
       " array([[566, 401,   3, ...,   0,   0,   0],\n",
       "        [566, 401, 142, ...,   0,   0,   0],\n",
       "        [566, 401, 393, ...,   0,   0,   0],\n",
       "        ...,\n",
       "        [566, 401,   7, ...,   0,   0,   0],\n",
       "        [566, 401,   7, ...,   0,   0,   0],\n",
       "        [566, 401,   2, ...,   0,   0,   0]], dtype=int64)>)"
      ]
     },
     "execution_count": 73,
     "metadata": {},
     "output_type": "execute_result"
    }
   ],
   "source": [
    "pt_batch, en_batch = next(iter(val_dataset))\n",
    "pt_batch, en_batch"
   ]
  },
  {
   "cell_type": "markdown",
   "metadata": {
    "id": "nBQuibYA4n0n"
   },
   "source": [
    "## Positional encoding\n",
    "\n",
    "Since this model doesn't contain any recurrence or convolution, positional encoding is added to give the model some information about the relative position of the words in the sentence. \n",
    "\n",
    "The positional encoding vector is added to the embedding vector. Embeddings represent a token in a d-dimensional space where tokens with similar meaning will be closer to each other. But the embeddings do not encode the relative position of words in a sentence. So after adding the positional encoding, words will be closer to each other based on the *similarity of their meaning and their position in the sentence*, in the d-dimensional space.\n",
    "\n",
    "See the notebook on [positional encoding](https://github.com/tensorflow/examples/blob/master/community/en/position_encoding.ipynb) to learn more about it. The formula for calculating the positional encoding is as follows:\n",
    "\n",
    "$$\\Large{PE_{(pos, 2i)} = sin(pos / 10000^{2i / d_{model}})} $$\n",
    "$$\\Large{PE_{(pos, 2i+1)} = cos(pos / 10000^{2i / d_{model}})} $$"
   ]
  },
  {
   "cell_type": "code",
   "execution_count": 74,
   "metadata": {
    "execution": {
     "iopub.execute_input": "2020-09-27T01:27:45.840615Z",
     "iopub.status.busy": "2020-09-27T01:27:45.840062Z",
     "iopub.status.idle": "2020-09-27T01:27:45.841757Z",
     "shell.execute_reply": "2020-09-27T01:27:45.842107Z"
    },
    "id": "WhIOZjMNKujn"
   },
   "outputs": [],
   "source": [
    "def get_angles(pos, i, d_model):\n",
    "  angle_rates = 1 / np.power(10000, (2 * (i//2)) / np.float32(d_model))\n",
    "  return pos * angle_rates"
   ]
  },
  {
   "cell_type": "code",
   "execution_count": 75,
   "metadata": {
    "execution": {
     "iopub.execute_input": "2020-09-27T01:27:45.847530Z",
     "iopub.status.busy": "2020-09-27T01:27:45.846912Z",
     "iopub.status.idle": "2020-09-27T01:27:45.848626Z",
     "shell.execute_reply": "2020-09-27T01:27:45.849030Z"
    },
    "id": "1Rz82wEs5biZ"
   },
   "outputs": [],
   "source": [
    "def positional_encoding(position, d_model):\n",
    "  angle_rads = get_angles(np.arange(position)[:, np.newaxis],\n",
    "                          np.arange(d_model)[np.newaxis, :],\n",
    "                          d_model)\n",
    "  \n",
    "  # apply sin to even indices in the array; 2i\n",
    "  angle_rads[:, 0::2] = np.sin(angle_rads[:, 0::2])\n",
    "  \n",
    "  # apply cos to odd indices in the array; 2i+1\n",
    "  angle_rads[:, 1::2] = np.cos(angle_rads[:, 1::2])\n",
    "    \n",
    "  pos_encoding = angle_rads[np.newaxis, ...]\n",
    "    \n",
    "  return tf.cast(pos_encoding, dtype=tf.float32)"
   ]
  },
  {
   "cell_type": "code",
   "execution_count": 76,
   "metadata": {
    "execution": {
     "iopub.execute_input": "2020-09-27T01:27:45.853505Z",
     "iopub.status.busy": "2020-09-27T01:27:45.852925Z",
     "iopub.status.idle": "2020-09-27T01:27:46.369544Z",
     "shell.execute_reply": "2020-09-27T01:27:46.369018Z"
    },
    "id": "1kLCla68EloE"
   },
   "outputs": [
    {
     "name": "stdout",
     "output_type": "stream",
     "text": [
      "(1, 50, 512)\n"
     ]
    },
    {
     "data": {
      "image/png": "[encoded data removed]",
      "text/plain": [
       "<Figure size 432x288 with 2 Axes>"
      ]
     },
     "metadata": {
      "needs_background": "light"
     },
     "output_type": "display_data"
    }
   ],
   "source": [
    "pos_encoding = positional_encoding(50, 512)\n",
    "print (pos_encoding.shape)\n",
    "\n",
    "plt.pcolormesh(pos_encoding[0], cmap='RdBu')\n",
    "plt.xlabel('Depth')\n",
    "plt.xlim((0, 512))\n",
    "plt.ylabel('Position')\n",
    "plt.colorbar()\n",
    "plt.show()"
   ]
  },
  {
   "cell_type": "markdown",
   "metadata": {
    "id": "a_b4ou4TYqUN"
   },
   "source": [
    "## Masking"
   ]
  },
  {
   "cell_type": "markdown",
   "metadata": {
    "id": "s42Uydjkv0hF"
   },
   "source": [
    "Mask all the pad tokens in the batch of sequence. It ensures that the model does not treat padding as the input. The mask indicates where pad value `0` is present: it outputs a `1` at those locations, and a `0` otherwise."
   ]
  },
  {
   "cell_type": "code",
   "execution_count": 77,
   "metadata": {
    "execution": {
     "iopub.execute_input": "2020-09-27T01:27:46.374095Z",
     "iopub.status.busy": "2020-09-27T01:27:46.373573Z",
     "iopub.status.idle": "2020-09-27T01:27:46.375314Z",
     "shell.execute_reply": "2020-09-27T01:27:46.375664Z"
    },
    "id": "U2i8-e1s8ti9"
   },
   "outputs": [],
   "source": [
    "def create_padding_mask(seq):\n",
    "  seq = tf.cast(tf.math.equal(seq, 0), tf.float32)\n",
    "  \n",
    "  # add extra dimensions to add the padding\n",
    "  # to the attention logits.\n",
    "  return seq[:, tf.newaxis, tf.newaxis, :]  # (batch_size, 1, 1, seq_len)"
   ]
  },
  {
   "cell_type": "code",
   "execution_count": 78,
   "metadata": {
    "execution": {
     "iopub.execute_input": "2020-09-27T01:27:46.380043Z",
     "iopub.status.busy": "2020-09-27T01:27:46.379344Z",
     "iopub.status.idle": "2020-09-27T01:27:46.384051Z",
     "shell.execute_reply": "2020-09-27T01:27:46.383635Z"
    },
    "id": "A7BYeBCNvi7n"
   },
   "outputs": [
    {
     "data": {
      "text/plain": [
       "<tf.Tensor: shape=(3, 1, 1, 5), dtype=float32, numpy=\n",
       "array([[[[0., 0., 1., 1., 0.]]],\n",
       "\n",
       "\n",
       "       [[[0., 0., 0., 1., 1.]]],\n",
       "\n",
       "\n",
       "       [[[1., 1., 1., 0., 0.]]]], dtype=float32)>"
      ]
     },
     "execution_count": 78,
     "metadata": {},
     "output_type": "execute_result"
    }
   ],
   "source": [
    "x = tf.constant([[7, 6, 0, 0, 1], [1, 2, 3, 0, 0], [0, 0, 0, 4, 5]])\n",
    "create_padding_mask(x)"
   ]
  },
  {
   "cell_type": "markdown",
   "metadata": {
    "id": "Z0hzukDBgVom"
   },
   "source": [
    "The look-ahead mask is used to mask the future tokens in a sequence. In other words, the mask indicates which entries should not be used.\n",
    "\n",
    "This means that to predict the third word, only the first and second word will be used. Similarly to predict the fourth word, only the first, second and the third word will be used and so on."
   ]
  },
  {
   "cell_type": "code",
   "execution_count": 79,
   "metadata": {
    "execution": {
     "iopub.execute_input": "2020-09-27T01:27:46.388201Z",
     "iopub.status.busy": "2020-09-27T01:27:46.387672Z",
     "iopub.status.idle": "2020-09-27T01:27:46.389540Z",
     "shell.execute_reply": "2020-09-27T01:27:46.389961Z"
    },
    "id": "dVxS8OPI9uI0"
   },
   "outputs": [],
   "source": [
    "def create_look_ahead_mask(size):\n",
    "  mask = 1 - tf.linalg.band_part(tf.ones((size, size)), -1, 0)\n",
    "  return mask  # (seq_len, seq_len)"
   ]
  },
  {
   "cell_type": "code",
   "execution_count": 80,
   "metadata": {
    "execution": {
     "iopub.execute_input": "2020-09-27T01:27:46.393812Z",
     "iopub.status.busy": "2020-09-27T01:27:46.393231Z",
     "iopub.status.idle": "2020-09-27T01:27:46.397937Z",
     "shell.execute_reply": "2020-09-27T01:27:46.397458Z"
    },
    "id": "yxKGuXxaBeeE"
   },
   "outputs": [
    {
     "data": {
      "text/plain": [
       "<tf.Tensor: shape=(3, 3), dtype=float32, numpy=\n",
       "array([[0., 1., 1.],\n",
       "       [0., 0., 1.],\n",
       "       [0., 0., 0.]], dtype=float32)>"
      ]
     },
     "execution_count": 80,
     "metadata": {},
     "output_type": "execute_result"
    }
   ],
   "source": [
    "x = tf.random.uniform((1, 3))\n",
    "temp = create_look_ahead_mask(x.shape[1])\n",
    "temp"
   ]
  },
  {
   "cell_type": "markdown",
   "metadata": {
    "id": "xluDl5cXYy4y"
   },
   "source": [
    "## Scaled dot product attention"
   ]
  },
  {
   "cell_type": "markdown",
   "metadata": {
    "id": "vsxEE_-Wa1gF"
   },
   "source": [
    "<img src=\"https://www.tensorflow.org/images/tutorials/transformer/scaled_attention.png\" width=\"500\" alt=\"scaled_dot_product_attention\">\n",
    "\n",
    "The attention function used by the transformer takes three inputs: Q (query), K (key), V (value). The equation used to calculate the attention weights is:\n",
    "\n",
    "$$\\Large{Attention(Q, K, V) = softmax_k(\\frac{QK^T}{\\sqrt{d_k}}) V} $$\n",
    "\n",
    "The dot-product attention is scaled by a factor of square root of the depth. This is done because for large values of depth, the dot product grows large in magnitude pushing the softmax function where it has small gradients resulting in a very hard softmax. \n",
    "\n",
    "For example, consider that `Q` and `K` have a mean of 0 and variance of 1. Their matrix multiplication will have a mean of 0 and variance of `dk`. Hence, *square root of `dk`* is used for scaling (and not any other number) because the matmul of `Q` and `K` should have a mean of 0 and variance of 1, and you get a gentler softmax.\n",
    "\n",
    "The mask is multiplied with -1e9 (close to negative infinity). This is done because the mask is summed with the scaled matrix multiplication of Q and K and is applied immediately before a softmax. The goal is to zero out these cells, and large negative inputs to softmax are near zero in the output."
   ]
  },
  {
   "cell_type": "code",
   "execution_count": 81,
   "metadata": {
    "execution": {
     "iopub.execute_input": "2020-09-27T01:27:46.404037Z",
     "iopub.status.busy": "2020-09-27T01:27:46.403506Z",
     "iopub.status.idle": "2020-09-27T01:27:46.405697Z",
     "shell.execute_reply": "2020-09-27T01:27:46.405260Z"
    },
    "id": "LazzUq3bJ5SH"
   },
   "outputs": [],
   "source": [
    "def scaled_dot_product_attention(q, k, v, mask):\n",
    "  \"\"\"Calculate the attention weights.\n",
    "  q, k, v must have matching leading dimensions.\n",
    "  k, v must have matching penultimate dimension, i.e.: seq_len_k = seq_len_v.\n",
    "  The mask has different shapes depending on its type(padding or look ahead) \n",
    "  but it must be broadcastable for addition.\n",
    "  \n",
    "  Args:\n",
    "    q: query shape == (..., seq_len_q, depth)\n",
    "    k: key shape == (..., seq_len_k, depth)\n",
    "    v: value shape == (..., seq_len_v, depth_v)\n",
    "    mask: Float tensor with shape broadcastable \n",
    "          to (..., seq_len_q, seq_len_k). Defaults to None.\n",
    "    \n",
    "  Returns:\n",
    "    output, attention_weights\n",
    "  \"\"\"\n",
    "\n",
    "  matmul_qk = tf.matmul(q, k, transpose_b=True)  # (..., seq_len_q, seq_len_k)\n",
    "  \n",
    "  # scale matmul_qk\n",
    "  dk = tf.cast(tf.shape(k)[-1], tf.float32)\n",
    "  scaled_attention_logits = matmul_qk / tf.math.sqrt(dk)\n",
    "\n",
    "  # add the mask to the scaled tensor.\n",
    "  if mask is not None:\n",
    "    scaled_attention_logits += (mask * -1e9)  \n",
    "\n",
    "  # softmax is normalized on the last axis (seq_len_k) so that the scores\n",
    "  # add up to 1.\n",
    "  attention_weights = tf.nn.softmax(scaled_attention_logits, axis=-1)  # (..., seq_len_q, seq_len_k)\n",
    "\n",
    "  output = tf.matmul(attention_weights, v)  # (..., seq_len_q, depth_v)\n",
    "\n",
    "  return output, attention_weights"
   ]
  },
  {
   "cell_type": "markdown",
   "metadata": {
    "id": "FiqETnhCkoXh"
   },
   "source": [
    "As the softmax normalization is done on K, its values decide the amount of importance given to Q.\n",
    "\n",
    "The output represents the multiplication of the attention weights and the V (value) vector. This ensures that the words you want to focus on are kept as-is and the irrelevant words are flushed out."
   ]
  },
  {
   "cell_type": "code",
   "execution_count": 82,
   "metadata": {
    "execution": {
     "iopub.execute_input": "2020-09-27T01:27:46.409900Z",
     "iopub.status.busy": "2020-09-27T01:27:46.409305Z",
     "iopub.status.idle": "2020-09-27T01:27:46.411542Z",
     "shell.execute_reply": "2020-09-27T01:27:46.410974Z"
    },
    "id": "n90YjClyInFy"
   },
   "outputs": [],
   "source": [
    "def print_out(q, k, v):\n",
    "  temp_out, temp_attn = scaled_dot_product_attention(\n",
    "      q, k, v, None)\n",
    "  print ('Attention weights are:')\n",
    "  print (temp_attn)\n",
    "  print ('Output is:')\n",
    "  print (temp_out)"
   ]
  },
  {
   "cell_type": "code",
   "execution_count": 83,
   "metadata": {
    "execution": {
     "iopub.execute_input": "2020-09-27T01:27:46.416691Z",
     "iopub.status.busy": "2020-09-27T01:27:46.416101Z",
     "iopub.status.idle": "2020-09-27T01:27:46.581877Z",
     "shell.execute_reply": "2020-09-27T01:27:46.581334Z"
    },
    "id": "yAzUAf2DPlNt"
   },
   "outputs": [
    {
     "name": "stdout",
     "output_type": "stream",
     "text": [
      "Attention weights are:\n",
      "tf.Tensor([[0. 1. 0. 0.]], shape=(1, 4), dtype=float32)\n",
      "Output is:\n",
      "tf.Tensor([[10.  0.]], shape=(1, 2), dtype=float32)\n"
     ]
    }
   ],
   "source": [
    "np.set_printoptions(suppress=True)\n",
    "\n",
    "temp_k = tf.constant([[10,0,0],\n",
    "                      [0,10,0],\n",
    "                      [0,0,10],\n",
    "                      [0,0,10]], dtype=tf.float32)  # (4, 3)\n",
    "\n",
    "temp_v = tf.constant([[   1,0],\n",
    "                      [  10,0],\n",
    "                      [ 100,5],\n",
    "                      [1000,6]], dtype=tf.float32)  # (4, 2)\n",
    "\n",
    "# This `query` aligns with the second `key`,\n",
    "# so the second `value` is returned.\n",
    "temp_q = tf.constant([[0, 10, 0]], dtype=tf.float32)  # (1, 3)\n",
    "print_out(temp_q, temp_k, temp_v)"
   ]
  },
  {
   "cell_type": "code",
   "execution_count": 84,
   "metadata": {
    "execution": {
     "iopub.execute_input": "2020-09-27T01:27:46.588236Z",
     "iopub.status.busy": "2020-09-27T01:27:46.585656Z",
     "iopub.status.idle": "2020-09-27T01:27:46.590725Z",
     "shell.execute_reply": "2020-09-27T01:27:46.590243Z"
    },
    "id": "zg6k-fGhgXra"
   },
   "outputs": [
    {
     "name": "stdout",
     "output_type": "stream",
     "text": [
      "Attention weights are:\n",
      "tf.Tensor([[0.  0.  0.5 0.5]], shape=(1, 4), dtype=float32)\n",
      "Output is:\n",
      "tf.Tensor([[550.    5.5]], shape=(1, 2), dtype=float32)\n"
     ]
    }
   ],
   "source": [
    "# This query aligns with a repeated key (third and fourth), \n",
    "# so all associated values get averaged.\n",
    "temp_q = tf.constant([[0, 0, 10]], dtype=tf.float32)  # (1, 3)\n",
    "print_out(temp_q, temp_k, temp_v)"
   ]
  },
  {
   "cell_type": "code",
   "execution_count": 85,
   "metadata": {
    "execution": {
     "iopub.execute_input": "2020-09-27T01:27:46.595176Z",
     "iopub.status.busy": "2020-09-27T01:27:46.594239Z",
     "iopub.status.idle": "2020-09-27T01:27:46.598708Z",
     "shell.execute_reply": "2020-09-27T01:27:46.599141Z"
    },
    "id": "UAq3YOzUgXhb"
   },
   "outputs": [
    {
     "name": "stdout",
     "output_type": "stream",
     "text": [
      "Attention weights are:\n",
      "tf.Tensor([[0.5 0.5 0.  0. ]], shape=(1, 4), dtype=float32)\n",
      "Output is:\n",
      "tf.Tensor([[5.5 0. ]], shape=(1, 2), dtype=float32)\n"
     ]
    }
   ],
   "source": [
    "# This query aligns equally with the first and second key, \n",
    "# so their values get averaged.\n",
    "temp_q = tf.constant([[10, 10, 0]], dtype=tf.float32)  # (1, 3)\n",
    "print_out(temp_q, temp_k, temp_v)"
   ]
  },
  {
   "cell_type": "markdown",
   "metadata": {
    "id": "aOz-4_XIhaTP"
   },
   "source": [
    "Pass all the queries together."
   ]
  },
  {
   "cell_type": "code",
   "execution_count": 86,
   "metadata": {
    "execution": {
     "iopub.execute_input": "2020-09-27T01:27:46.603832Z",
     "iopub.status.busy": "2020-09-27T01:27:46.602968Z",
     "iopub.status.idle": "2020-09-27T01:27:46.607184Z",
     "shell.execute_reply": "2020-09-27T01:27:46.607577Z"
    },
    "id": "6dlU8Tm-hYrF"
   },
   "outputs": [
    {
     "name": "stdout",
     "output_type": "stream",
     "text": [
      "Attention weights are:\n",
      "tf.Tensor(\n",
      "[[0.  0.  0.5 0.5]\n",
      " [0.  1.  0.  0. ]\n",
      " [0.5 0.5 0.  0. ]], shape=(3, 4), dtype=float32)\n",
      "Output is:\n",
      "tf.Tensor(\n",
      "[[550.    5.5]\n",
      " [ 10.    0. ]\n",
      " [  5.5   0. ]], shape=(3, 2), dtype=float32)\n"
     ]
    }
   ],
   "source": [
    "temp_q = tf.constant([[0, 0, 10], [0, 10, 0], [10, 10, 0]], dtype=tf.float32)  # (3, 3)\n",
    "print_out(temp_q, temp_k, temp_v)"
   ]
  },
  {
   "cell_type": "markdown",
   "metadata": {
    "id": "kmzGPEy64qmA"
   },
   "source": [
    "## Multi-head attention"
   ]
  },
  {
   "cell_type": "markdown",
   "metadata": {
    "id": "fz5BMC8Kaoqo"
   },
   "source": [
    "<img src=\"https://www.tensorflow.org/images/tutorials/transformer/multi_head_attention.png\" width=\"500\" alt=\"multi-head attention\">\n",
    "\n",
    "\n",
    "Multi-head attention consists of four parts:\n",
    "*    Linear layers and split into heads.\n",
    "*    Scaled dot-product attention.\n",
    "*    Concatenation of heads.\n",
    "*    Final linear layer."
   ]
  },
  {
   "cell_type": "markdown",
   "metadata": {
    "id": "JPmbr6F1C-v_"
   },
   "source": [
    "Each multi-head attention block gets three inputs; Q (query), K (key), V (value). These are put through linear (Dense) layers and split up into multiple heads. \n",
    "\n",
    "The `scaled_dot_product_attention` defined above is applied to each head (broadcasted for efficiency). An appropriate mask must be used in the attention step.  The attention output for each head is then concatenated (using `tf.transpose`, and `tf.reshape`) and put through a final `Dense` layer.\n",
    "\n",
    "Instead of one single attention head, Q, K, and V are split into multiple heads because it allows the model to jointly attend to information at different positions from different representational spaces. After the split each head has a reduced dimensionality, so the total computation cost is the same as a single head attention with full dimensionality."
   ]
  },
  {
   "cell_type": "code",
   "execution_count": 87,
   "metadata": {
    "execution": {
     "iopub.execute_input": "2020-09-27T01:27:46.617545Z",
     "iopub.status.busy": "2020-09-27T01:27:46.616460Z",
     "iopub.status.idle": "2020-09-27T01:27:46.619254Z",
     "shell.execute_reply": "2020-09-27T01:27:46.619670Z"
    },
    "id": "BSV3PPKsYecw"
   },
   "outputs": [],
   "source": [
    "class MultiHeadAttention(tf.keras.layers.Layer):\n",
    "  def __init__(self, d_model, num_heads):\n",
    "    super(MultiHeadAttention, self).__init__()\n",
    "    self.num_heads = num_heads\n",
    "    self.d_model = d_model\n",
    "    \n",
    "    assert d_model % self.num_heads == 0\n",
    "    \n",
    "    self.depth = d_model // self.num_heads\n",
    "    \n",
    "    self.wq = tf.keras.layers.Dense(d_model)\n",
    "    self.wk = tf.keras.layers.Dense(d_model)\n",
    "    self.wv = tf.keras.layers.Dense(d_model)\n",
    "    \n",
    "    self.dense = tf.keras.layers.Dense(d_model)\n",
    "        \n",
    "  def split_heads(self, x, batch_size):\n",
    "    \"\"\"Split the last dimension into (num_heads, depth).\n",
    "    Transpose the result such that the shape is (batch_size, num_heads, seq_len, depth)\n",
    "    \"\"\"\n",
    "    x = tf.reshape(x, (batch_size, -1, self.num_heads, self.depth))\n",
    "    return tf.transpose(x, perm=[0, 2, 1, 3])\n",
    "    \n",
    "  def call(self, v, k, q, mask):\n",
    "    batch_size = tf.shape(q)[0]\n",
    "    \n",
    "    q = self.wq(q)  # (batch_size, seq_len, d_model)\n",
    "    k = self.wk(k)  # (batch_size, seq_len, d_model)\n",
    "    v = self.wv(v)  # (batch_size, seq_len, d_model)\n",
    "    \n",
    "    q = self.split_heads(q, batch_size)  # (batch_size, num_heads, seq_len_q, depth)\n",
    "    k = self.split_heads(k, batch_size)  # (batch_size, num_heads, seq_len_k, depth)\n",
    "    v = self.split_heads(v, batch_size)  # (batch_size, num_heads, seq_len_v, depth)\n",
    "    \n",
    "    # scaled_attention.shape == (batch_size, num_heads, seq_len_q, depth)\n",
    "    # attention_weights.shape == (batch_size, num_heads, seq_len_q, seq_len_k)\n",
    "    scaled_attention, attention_weights = scaled_dot_product_attention(\n",
    "        q, k, v, mask)\n",
    "    \n",
    "    scaled_attention = tf.transpose(scaled_attention, perm=[0, 2, 1, 3])  # (batch_size, seq_len_q, num_heads, depth)\n",
    "\n",
    "    concat_attention = tf.reshape(scaled_attention, \n",
    "                                  (batch_size, -1, self.d_model))  # (batch_size, seq_len_q, d_model)\n",
    "\n",
    "    output = self.dense(concat_attention)  # (batch_size, seq_len_q, d_model)\n",
    "        \n",
    "    return output, attention_weights"
   ]
  },
  {
   "cell_type": "markdown",
   "metadata": {
    "id": "0D8FJue5lDyZ"
   },
   "source": [
    "Create a `MultiHeadAttention` layer to try out. At each location in the sequence, `y`, the `MultiHeadAttention` runs all 8 attention heads across all other locations in the sequence, returning a new vector of the same length at each location."
   ]
  },
  {
   "cell_type": "code",
   "execution_count": 88,
   "metadata": {
    "execution": {
     "iopub.execute_input": "2020-09-27T01:27:46.624044Z",
     "iopub.status.busy": "2020-09-27T01:27:46.623518Z",
     "iopub.status.idle": "2020-09-27T01:27:46.655254Z",
     "shell.execute_reply": "2020-09-27T01:27:46.654702Z"
    },
    "id": "Hu94p-_-2_BX"
   },
   "outputs": [
    {
     "data": {
      "text/plain": [
       "(TensorShape([1, 60, 512]), TensorShape([1, 8, 60, 60]))"
      ]
     },
     "execution_count": 88,
     "metadata": {},
     "output_type": "execute_result"
    }
   ],
   "source": [
    "temp_mha = MultiHeadAttention(d_model=512, num_heads=8)\n",
    "y = tf.random.uniform((1, 60, 512))  # (batch_size, encoder_sequence, d_model)\n",
    "out, attn = temp_mha(y, k=y, q=y, mask=None)\n",
    "out.shape, attn.shape"
   ]
  },
  {
   "cell_type": "markdown",
   "metadata": {
    "id": "RdDqGayx67vv"
   },
   "source": [
    "## Point wise feed forward network"
   ]
  },
  {
   "cell_type": "markdown",
   "metadata": {
    "id": "gBqzJXGfHK3X"
   },
   "source": [
    "Point wise feed forward network consists of two fully-connected layers with a ReLU activation in between."
   ]
  },
  {
   "cell_type": "code",
   "execution_count": 89,
   "metadata": {
    "execution": {
     "iopub.execute_input": "2020-09-27T01:27:46.659573Z",
     "iopub.status.busy": "2020-09-27T01:27:46.658915Z",
     "iopub.status.idle": "2020-09-27T01:27:46.661172Z",
     "shell.execute_reply": "2020-09-27T01:27:46.660671Z"
    },
    "id": "ET7xLt0yCT6Z"
   },
   "outputs": [],
   "source": [
    "def point_wise_feed_forward_network(d_model, dff):\n",
    "  return tf.keras.Sequential([\n",
    "      tf.keras.layers.Dense(dff, activation='relu'),  # (batch_size, seq_len, dff)\n",
    "      tf.keras.layers.Dense(d_model)  # (batch_size, seq_len, d_model)\n",
    "  ])"
   ]
  },
  {
   "cell_type": "code",
   "execution_count": 90,
   "metadata": {
    "execution": {
     "iopub.execute_input": "2020-09-27T01:27:46.667196Z",
     "iopub.status.busy": "2020-09-27T01:27:46.666627Z",
     "iopub.status.idle": "2020-09-27T01:27:46.692064Z",
     "shell.execute_reply": "2020-09-27T01:27:46.691581Z"
    },
    "id": "mytb1lPyOHLB"
   },
   "outputs": [
    {
     "data": {
      "text/plain": [
       "TensorShape([64, 50, 512])"
      ]
     },
     "execution_count": 90,
     "metadata": {},
     "output_type": "execute_result"
    }
   ],
   "source": [
    "sample_ffn = point_wise_feed_forward_network(512, 2048)\n",
    "sample_ffn(tf.random.uniform((64, 50, 512))).shape"
   ]
  },
  {
   "cell_type": "markdown",
   "metadata": {
    "id": "7e7hKcxn6-zd"
   },
   "source": [
    "## Encoder and decoder"
   ]
  },
  {
   "cell_type": "markdown",
   "metadata": {
    "id": "yScbC0MUH8dS"
   },
   "source": [
    "<img src=\"https://www.tensorflow.org/images/tutorials/transformer/transformer.png\" width=\"600\" alt=\"transformer\">"
   ]
  },
  {
   "cell_type": "markdown",
   "metadata": {
    "id": "MfYJG-Kvgwy2"
   },
   "source": [
    "The transformer model follows the same general pattern as a standard [sequence to sequence with attention model](nmt_with_attention.ipynb). \n",
    "\n",
    "* The input sentence is passed through `N` encoder layers that generates an output for each word/token in the sequence.\n",
    "* The decoder attends on the encoder's output and its own input (self-attention) to predict the next word. "
   ]
  },
  {
   "cell_type": "markdown",
   "metadata": {
    "id": "QFv-FNYUmvpn"
   },
   "source": [
    "### Encoder layer\n",
    "\n",
    "Each encoder layer consists of sublayers:\n",
    "\n",
    "1.   Multi-head attention (with padding mask) \n",
    "2.    Point wise feed forward networks. \n",
    "\n",
    "Each of these sublayers has a residual connection around it followed by a layer normalization. Residual connections help in avoiding the vanishing gradient problem in deep networks.\n",
    "\n",
    "The output of each sublayer is `LayerNorm(x + Sublayer(x))`. The normalization is done on the `d_model` (last) axis. There are N encoder layers in the transformer."
   ]
  },
  {
   "cell_type": "code",
   "execution_count": 91,
   "metadata": {
    "execution": {
     "iopub.execute_input": "2020-09-27T01:27:46.699328Z",
     "iopub.status.busy": "2020-09-27T01:27:46.698640Z",
     "iopub.status.idle": "2020-09-27T01:27:46.700613Z",
     "shell.execute_reply": "2020-09-27T01:27:46.700958Z"
    },
    "id": "ncyS-Ms3i2x_"
   },
   "outputs": [],
   "source": [
    "class EncoderLayer(tf.keras.layers.Layer):\n",
    "  def __init__(self, d_model, num_heads, dff, rate=0.1):\n",
    "    super(EncoderLayer, self).__init__()\n",
    "\n",
    "    self.mha = MultiHeadAttention(d_model, num_heads)\n",
    "    self.ffn = point_wise_feed_forward_network(d_model, dff)\n",
    "\n",
    "    self.layernorm1 = tf.keras.layers.LayerNormalization(epsilon=1e-6)\n",
    "    self.layernorm2 = tf.keras.layers.LayerNormalization(epsilon=1e-6)\n",
    "    \n",
    "    self.dropout1 = tf.keras.layers.Dropout(rate)\n",
    "    self.dropout2 = tf.keras.layers.Dropout(rate)\n",
    "    \n",
    "  def call(self, x, training, mask):\n",
    "\n",
    "    attn_output, _ = self.mha(x, x, x, mask)  # (batch_size, input_seq_len, d_model)\n",
    "    attn_output = self.dropout1(attn_output, training=training)\n",
    "    out1 = self.layernorm1(x + attn_output)  # (batch_size, input_seq_len, d_model)\n",
    "    \n",
    "    ffn_output = self.ffn(out1)  # (batch_size, input_seq_len, d_model)\n",
    "    ffn_output = self.dropout2(ffn_output, training=training)\n",
    "    out2 = self.layernorm2(out1 + ffn_output)  # (batch_size, input_seq_len, d_model)\n",
    "    \n",
    "    return out2"
   ]
  },
  {
   "cell_type": "code",
   "execution_count": 92,
   "metadata": {
    "execution": {
     "iopub.execute_input": "2020-09-27T01:27:46.710814Z",
     "iopub.status.busy": "2020-09-27T01:27:46.710252Z",
     "iopub.status.idle": "2020-09-27T01:27:46.756920Z",
     "shell.execute_reply": "2020-09-27T01:27:46.757330Z"
    },
    "id": "AzZRXdO0mI48"
   },
   "outputs": [
    {
     "data": {
      "text/plain": [
       "TensorShape([64, 43, 512])"
      ]
     },
     "execution_count": 92,
     "metadata": {},
     "output_type": "execute_result"
    }
   ],
   "source": [
    "sample_encoder_layer = EncoderLayer(512, 8, 2048)\n",
    "\n",
    "sample_encoder_layer_output = sample_encoder_layer(\n",
    "    tf.random.uniform((64, 43, 512)), False, None)\n",
    "\n",
    "sample_encoder_layer_output.shape  # (batch_size, input_seq_len, d_model)"
   ]
  },
  {
   "cell_type": "markdown",
   "metadata": {
    "id": "6LO_48Owmx_o"
   },
   "source": [
    "### Decoder layer\n",
    "\n",
    "Each decoder layer consists of sublayers:\n",
    "\n",
    "1.   Masked multi-head attention (with look ahead mask and padding mask)\n",
    "2.   Multi-head attention (with padding mask). V (value) and K (key) receive the *encoder output* as inputs. Q (query) receives the *output from the masked multi-head attention sublayer.*\n",
    "3.   Point wise feed forward networks\n",
    "\n",
    "Each of these sublayers has a residual connection around it followed by a layer normalization. The output of each sublayer is `LayerNorm(x + Sublayer(x))`. The normalization is done on the `d_model` (last) axis.\n",
    "\n",
    "There are N decoder layers in the transformer.\n",
    "\n",
    "As Q receives the output from decoder's first attention block, and K receives the encoder output, the attention weights represent the importance given to the decoder's input based on the encoder's output. In other words, the decoder predicts the next word by looking at the encoder output and self-attending to its own output. See the demonstration above in the scaled dot product attention section."
   ]
  },
  {
   "cell_type": "code",
   "execution_count": 93,
   "metadata": {
    "execution": {
     "iopub.execute_input": "2020-09-27T01:27:46.765993Z",
     "iopub.status.busy": "2020-09-27T01:27:46.765450Z",
     "iopub.status.idle": "2020-09-27T01:27:46.767350Z",
     "shell.execute_reply": "2020-09-27T01:27:46.766844Z"
    },
    "id": "9SoX0-vd1hue"
   },
   "outputs": [],
   "source": [
    "class DecoderLayer(tf.keras.layers.Layer):\n",
    "  def __init__(self, d_model, num_heads, dff, rate=0.1):\n",
    "    super(DecoderLayer, self).__init__()\n",
    "\n",
    "    self.mha1 = MultiHeadAttention(d_model, num_heads)\n",
    "    self.mha2 = MultiHeadAttention(d_model, num_heads)\n",
    "\n",
    "    self.ffn = point_wise_feed_forward_network(d_model, dff)\n",
    " \n",
    "    self.layernorm1 = tf.keras.layers.LayerNormalization(epsilon=1e-6)\n",
    "    self.layernorm2 = tf.keras.layers.LayerNormalization(epsilon=1e-6)\n",
    "    self.layernorm3 = tf.keras.layers.LayerNormalization(epsilon=1e-6)\n",
    "    \n",
    "    self.dropout1 = tf.keras.layers.Dropout(rate)\n",
    "    self.dropout2 = tf.keras.layers.Dropout(rate)\n",
    "    self.dropout3 = tf.keras.layers.Dropout(rate)\n",
    "    \n",
    "    \n",
    "  def call(self, x, enc_output, training, \n",
    "           look_ahead_mask, padding_mask):\n",
    "    # enc_output.shape == (batch_size, input_seq_len, d_model)\n",
    "\n",
    "    attn1, attn_weights_block1 = self.mha1(x, x, x, look_ahead_mask)  # (batch_size, target_seq_len, d_model)\n",
    "    attn1 = self.dropout1(attn1, training=training)\n",
    "    out1 = self.layernorm1(attn1 + x)\n",
    "    \n",
    "    attn2, attn_weights_block2 = self.mha2(\n",
    "        enc_output, enc_output, out1, padding_mask)  # (batch_size, target_seq_len, d_model)\n",
    "    attn2 = self.dropout2(attn2, training=training)\n",
    "    out2 = self.layernorm2(attn2 + out1)  # (batch_size, target_seq_len, d_model)\n",
    "    \n",
    "    ffn_output = self.ffn(out2)  # (batch_size, target_seq_len, d_model)\n",
    "    ffn_output = self.dropout3(ffn_output, training=training)\n",
    "    out3 = self.layernorm3(ffn_output + out2)  # (batch_size, target_seq_len, d_model)\n",
    "    \n",
    "    return out3, attn_weights_block1, attn_weights_block2"
   ]
  },
  {
   "cell_type": "code",
   "execution_count": 94,
   "metadata": {
    "execution": {
     "iopub.execute_input": "2020-09-27T01:27:46.778885Z",
     "iopub.status.busy": "2020-09-27T01:27:46.778256Z",
     "iopub.status.idle": "2020-09-27T01:27:46.831544Z",
     "shell.execute_reply": "2020-09-27T01:27:46.831051Z"
    },
    "id": "Ne2Bqx8k71l0"
   },
   "outputs": [
    {
     "data": {
      "text/plain": [
       "TensorShape([64, 50, 512])"
      ]
     },
     "execution_count": 94,
     "metadata": {},
     "output_type": "execute_result"
    }
   ],
   "source": [
    "sample_decoder_layer = DecoderLayer(512, 8, 2048)\n",
    "\n",
    "sample_decoder_layer_output, _, _ = sample_decoder_layer(\n",
    "    tf.random.uniform((64, 50, 512)), sample_encoder_layer_output, \n",
    "    False, None, None)\n",
    "\n",
    "sample_decoder_layer_output.shape  # (batch_size, target_seq_len, d_model)"
   ]
  },
  {
   "cell_type": "markdown",
   "metadata": {
    "id": "SE1H51Ajm0q1"
   },
   "source": [
    "### Encoder\n",
    "\n",
    "The `Encoder` consists of:\n",
    "1.   Input Embedding\n",
    "2.   Positional Encoding\n",
    "3.   N encoder layers\n",
    "\n",
    "The input is put through an embedding which is summed with the positional encoding. The output of this summation is the input to the encoder layers. The output of the encoder is the input to the decoder."
   ]
  },
  {
   "cell_type": "code",
   "execution_count": 95,
   "metadata": {
    "execution": {
     "iopub.execute_input": "2020-09-27T01:27:46.839967Z",
     "iopub.status.busy": "2020-09-27T01:27:46.839333Z",
     "iopub.status.idle": "2020-09-27T01:27:46.841099Z",
     "shell.execute_reply": "2020-09-27T01:27:46.841443Z"
    },
    "id": "jpEox7gJ8FCI"
   },
   "outputs": [],
   "source": [
    "class Encoder(tf.keras.layers.Layer):\n",
    "  def __init__(self, num_layers, d_model, num_heads, dff, input_vocab_size,\n",
    "               maximum_position_encoding, rate=0.1):\n",
    "    super(Encoder, self).__init__()\n",
    "\n",
    "    self.d_model = d_model\n",
    "    self.num_layers = num_layers\n",
    "    \n",
    "    self.embedding = tf.keras.layers.Embedding(input_vocab_size, d_model)\n",
    "    self.pos_encoding = positional_encoding(maximum_position_encoding, \n",
    "                                            self.d_model)\n",
    "    \n",
    "    \n",
    "    self.enc_layers = [EncoderLayer(d_model, num_heads, dff, rate) \n",
    "                       for _ in range(num_layers)]\n",
    "  \n",
    "    self.dropout = tf.keras.layers.Dropout(rate)\n",
    "        \n",
    "  def call(self, x, training, mask):\n",
    "\n",
    "    seq_len = tf.shape(x)[1]\n",
    "    \n",
    "    # adding embedding and position encoding.\n",
    "    x = self.embedding(x)  # (batch_size, input_seq_len, d_model)\n",
    "    x *= tf.math.sqrt(tf.cast(self.d_model, tf.float32))\n",
    "    x += self.pos_encoding[:, :seq_len, :]\n",
    "\n",
    "    x = self.dropout(x, training=training)\n",
    "    \n",
    "    for i in range(self.num_layers):\n",
    "      x = self.enc_layers[i](x, training, mask)\n",
    "    \n",
    "    return x  # (batch_size, input_seq_len, d_model)"
   ]
  },
  {
   "cell_type": "code",
   "execution_count": 96,
   "metadata": {
    "execution": {
     "iopub.execute_input": "2020-09-27T01:27:46.849143Z",
     "iopub.status.busy": "2020-09-27T01:27:46.848474Z",
     "iopub.status.idle": "2020-09-27T01:27:47.154054Z",
     "shell.execute_reply": "2020-09-27T01:27:47.154436Z"
    },
    "id": "8QG9nueFQKXx"
   },
   "outputs": [
    {
     "name": "stdout",
     "output_type": "stream",
     "text": [
      "(64, 62, 512)\n"
     ]
    }
   ],
   "source": [
    "sample_encoder = Encoder(num_layers=2, d_model=512, num_heads=8, \n",
    "                         dff=2048, input_vocab_size=8500,\n",
    "                         maximum_position_encoding=10000)\n",
    "temp_input = tf.random.uniform((64, 62), dtype=tf.int64, minval=0, maxval=200)\n",
    "\n",
    "sample_encoder_output = sample_encoder(temp_input, training=False, mask=None)\n",
    "\n",
    "print (sample_encoder_output.shape)  # (batch_size, input_seq_len, d_model)"
   ]
  },
  {
   "cell_type": "markdown",
   "metadata": {
    "id": "p-uO6ls8m2O5"
   },
   "source": [
    "### Decoder"
   ]
  },
  {
   "cell_type": "markdown",
   "metadata": {
    "id": "ZtT7PKzrXkNr"
   },
   "source": [
    " The `Decoder` consists of:\n",
    "1.   Output Embedding\n",
    "2.   Positional Encoding\n",
    "3.   N decoder layers\n",
    "\n",
    "The target is put through an embedding which is summed with the positional encoding. The output of this summation is the input to the decoder layers. The output of the decoder is the input to the final linear layer."
   ]
  },
  {
   "cell_type": "code",
   "execution_count": 97,
   "metadata": {
    "execution": {
     "iopub.execute_input": "2020-09-27T01:27:47.163368Z",
     "iopub.status.busy": "2020-09-27T01:27:47.162774Z",
     "iopub.status.idle": "2020-09-27T01:27:47.164447Z",
     "shell.execute_reply": "2020-09-27T01:27:47.164782Z"
    },
    "id": "d5_d5-PLQXwY"
   },
   "outputs": [],
   "source": [
    "class Decoder(tf.keras.layers.Layer):\n",
    "  def __init__(self, num_layers, d_model, num_heads, dff, target_vocab_size,\n",
    "               maximum_position_encoding, rate=0.1):\n",
    "    super(Decoder, self).__init__()\n",
    "\n",
    "    self.d_model = d_model\n",
    "    self.num_layers = num_layers\n",
    "    \n",
    "    self.embedding = tf.keras.layers.Embedding(target_vocab_size, d_model)\n",
    "    self.pos_encoding = positional_encoding(maximum_position_encoding, d_model)\n",
    "    \n",
    "    self.dec_layers = [DecoderLayer(d_model, num_heads, dff, rate) \n",
    "                       for _ in range(num_layers)]\n",
    "    self.dropout = tf.keras.layers.Dropout(rate)\n",
    "    \n",
    "  def call(self, x, enc_output, training, \n",
    "           look_ahead_mask, padding_mask):\n",
    "\n",
    "    seq_len = tf.shape(x)[1]\n",
    "    attention_weights = {}\n",
    "    \n",
    "    x = self.embedding(x)  # (batch_size, target_seq_len, d_model)\n",
    "    x *= tf.math.sqrt(tf.cast(self.d_model, tf.float32))\n",
    "    x += self.pos_encoding[:, :seq_len, :]\n",
    "    \n",
    "    x = self.dropout(x, training=training)\n",
    "\n",
    "    for i in range(self.num_layers):\n",
    "      x, block1, block2 = self.dec_layers[i](x, enc_output, training,\n",
    "                                             look_ahead_mask, padding_mask)\n",
    "      \n",
    "      attention_weights['decoder_layer{}_block1'.format(i+1)] = block1\n",
    "      attention_weights['decoder_layer{}_block2'.format(i+1)] = block2\n",
    "    \n",
    "    # x.shape == (batch_size, target_seq_len, d_model)\n",
    "    return x, attention_weights"
   ]
  },
  {
   "cell_type": "code",
   "execution_count": 98,
   "metadata": {
    "execution": {
     "iopub.execute_input": "2020-09-27T01:27:47.170433Z",
     "iopub.status.busy": "2020-09-27T01:27:47.169875Z",
     "iopub.status.idle": "2020-09-27T01:27:47.387195Z",
     "shell.execute_reply": "2020-09-27T01:27:47.387574Z"
    },
    "id": "a1jXoAMRZyvu"
   },
   "outputs": [
    {
     "data": {
      "text/plain": [
       "(TensorShape([64, 26, 512]), TensorShape([64, 8, 26, 62]))"
      ]
     },
     "execution_count": 98,
     "metadata": {},
     "output_type": "execute_result"
    }
   ],
   "source": [
    "sample_decoder = Decoder(num_layers=2, d_model=512, num_heads=8, \n",
    "                         dff=2048, target_vocab_size=8000,\n",
    "                         maximum_position_encoding=5000)\n",
    "temp_input = tf.random.uniform((64, 26), dtype=tf.int64, minval=0, maxval=200)\n",
    "\n",
    "output, attn = sample_decoder(temp_input, \n",
    "                              enc_output=sample_encoder_output, \n",
    "                              training=False,\n",
    "                              look_ahead_mask=None, \n",
    "                              padding_mask=None)\n",
    "\n",
    "output.shape, attn['decoder_layer2_block2'].shape"
   ]
  },
  {
   "cell_type": "markdown",
   "metadata": {
    "id": "y54xnJnuYgJ7"
   },
   "source": [
    "## Create the Transformer"
   ]
  },
  {
   "cell_type": "markdown",
   "metadata": {
    "id": "uERO1y54cOKq"
   },
   "source": [
    "Transformer consists of the encoder, decoder and a final linear layer. The output of the decoder is the input to the linear layer and its output is returned."
   ]
  },
  {
   "cell_type": "code",
   "execution_count": 99,
   "metadata": {
    "execution": {
     "iopub.execute_input": "2020-09-27T01:27:47.394726Z",
     "iopub.status.busy": "2020-09-27T01:27:47.394164Z",
     "iopub.status.idle": "2020-09-27T01:27:47.395964Z",
     "shell.execute_reply": "2020-09-27T01:27:47.396326Z"
    },
    "id": "PED3bIpOYkBu"
   },
   "outputs": [],
   "source": [
    "class Transformer(tf.keras.Model):\n",
    "  def __init__(self, num_layers, d_model, num_heads, dff, input_vocab_size, \n",
    "               target_vocab_size, pe_input, pe_target, rate=0.1):\n",
    "    super(Transformer, self).__init__()\n",
    "\n",
    "    self.encoder = Encoder(num_layers, d_model, num_heads, dff, \n",
    "                           input_vocab_size, pe_input, rate)\n",
    "\n",
    "    self.decoder = Decoder(num_layers, d_model, num_heads, dff, \n",
    "                           target_vocab_size, pe_target, rate)\n",
    "\n",
    "    self.final_layer = tf.keras.layers.Dense(target_vocab_size)\n",
    "    \n",
    "  def call(self, inp, tar, training, enc_padding_mask, \n",
    "           look_ahead_mask, dec_padding_mask):\n",
    "\n",
    "    enc_output = self.encoder(inp, training, enc_padding_mask)  # (batch_size, inp_seq_len, d_model)\n",
    "    \n",
    "    # dec_output.shape == (batch_size, tar_seq_len, d_model)\n",
    "    dec_output, attention_weights = self.decoder(\n",
    "        tar, enc_output, training, look_ahead_mask, dec_padding_mask)\n",
    "    \n",
    "    final_output = self.final_layer(dec_output)  # (batch_size, tar_seq_len, target_vocab_size)\n",
    "    \n",
    "    return final_output, attention_weights"
   ]
  },
  {
   "cell_type": "code",
   "execution_count": 100,
   "metadata": {
    "execution": {
     "iopub.execute_input": "2020-09-27T01:27:47.403188Z",
     "iopub.status.busy": "2020-09-27T01:27:47.402630Z",
     "iopub.status.idle": "2020-09-27T01:27:47.919843Z",
     "shell.execute_reply": "2020-09-27T01:27:47.919309Z"
    },
    "id": "tJ4fbQcIkHW1"
   },
   "outputs": [
    {
     "data": {
      "text/plain": [
       "TensorShape([64, 36, 8000])"
      ]
     },
     "execution_count": 100,
     "metadata": {},
     "output_type": "execute_result"
    }
   ],
   "source": [
    "sample_transformer = Transformer(\n",
    "    num_layers=2, d_model=512, num_heads=8, dff=2048, \n",
    "    input_vocab_size=8500, target_vocab_size=8000, \n",
    "    pe_input=10000, pe_target=6000)\n",
    "\n",
    "temp_input = tf.random.uniform((64, 38), dtype=tf.int64, minval=0, maxval=200)\n",
    "temp_target = tf.random.uniform((64, 36), dtype=tf.int64, minval=0, maxval=200)\n",
    "\n",
    "fn_out, _ = sample_transformer(temp_input, temp_target, training=False, \n",
    "                               enc_padding_mask=None, \n",
    "                               look_ahead_mask=None,\n",
    "                               dec_padding_mask=None)\n",
    "\n",
    "fn_out.shape  # (batch_size, tar_seq_len, target_vocab_size)"
   ]
  },
  {
   "cell_type": "markdown",
   "metadata": {
    "id": "wsINyf1VEQLC"
   },
   "source": [
    "## Set hyperparameters"
   ]
  },
  {
   "cell_type": "markdown",
   "metadata": {
    "id": "zVjWCxFNcgbt"
   },
   "source": [
    "To keep this example small and relatively fast, the values for *num_layers, d_model, and dff* have been reduced. \n",
    "\n",
    "The values used in the base model of transformer were; *num_layers=6*, *d_model = 512*, *dff = 2048*. See the [paper](https://arxiv.org/abs/1706.03762) for all the other versions of the transformer.\n",
    "\n",
    "Note: By changing the values below, you can get the model that achieved state of the art on many tasks."
   ]
  },
  {
   "cell_type": "code",
   "execution_count": 101,
   "metadata": {
    "execution": {
     "iopub.execute_input": "2020-09-27T01:27:47.924191Z",
     "iopub.status.busy": "2020-09-27T01:27:47.923639Z",
     "iopub.status.idle": "2020-09-27T01:27:47.925647Z",
     "shell.execute_reply": "2020-09-27T01:27:47.925997Z"
    },
    "id": "lnJn5SLA2ahP"
   },
   "outputs": [
    {
     "data": {
      "text/plain": [
       "(2835, 568)"
      ]
     },
     "execution_count": 101,
     "metadata": {},
     "output_type": "execute_result"
    }
   ],
   "source": [
    "num_layers = 4\n",
    "d_model = 128\n",
    "dff = 512\n",
    "num_heads = 8\n",
    "\n",
    "input_vocab_size = tokenizer_in.vocab_size + 2\n",
    "target_vocab_size = tokenizer_out.vocab_size + 2\n",
    "dropout_rate = 0.1\n",
    "\n",
    "input_vocab_size, target_vocab_size"
   ]
  },
  {
   "cell_type": "markdown",
   "metadata": {
    "id": "xYEGhEOtzn5W"
   },
   "source": [
    "## Optimizer"
   ]
  },
  {
   "cell_type": "markdown",
   "metadata": {
    "id": "GOmWW--yP3zx"
   },
   "source": [
    "Use the Adam optimizer with a custom learning rate scheduler according to the formula in the [paper](https://arxiv.org/abs/1706.03762).\n",
    "\n",
    "$$\\Large{lrate = d_{model}^{-0.5} * min(step{\\_}num^{-0.5}, step{\\_}num * warmup{\\_}steps^{-1.5})}$$\n"
   ]
  },
  {
   "cell_type": "code",
   "execution_count": 102,
   "metadata": {
    "execution": {
     "iopub.execute_input": "2020-09-27T01:27:47.931823Z",
     "iopub.status.busy": "2020-09-27T01:27:47.931263Z",
     "iopub.status.idle": "2020-09-27T01:27:47.933193Z",
     "shell.execute_reply": "2020-09-27T01:27:47.933543Z"
    },
    "id": "iYQdOO1axwEI"
   },
   "outputs": [],
   "source": [
    "class CustomSchedule(tf.keras.optimizers.schedules.LearningRateSchedule):\n",
    "  def __init__(self, d_model, warmup_steps=4000):\n",
    "    super(CustomSchedule, self).__init__()\n",
    "    \n",
    "    self.d_model = d_model\n",
    "    self.d_model = tf.cast(self.d_model, tf.float32)\n",
    "\n",
    "    self.warmup_steps = warmup_steps\n",
    "    \n",
    "  def __call__(self, step):\n",
    "    arg1 = tf.math.rsqrt(step)\n",
    "    arg2 = step * (self.warmup_steps ** -1.5)\n",
    "    \n",
    "    return tf.math.rsqrt(self.d_model) * tf.math.minimum(arg1, arg2)"
   ]
  },
  {
   "cell_type": "code",
   "execution_count": 103,
   "metadata": {
    "execution": {
     "iopub.execute_input": "2020-09-27T01:27:47.937203Z",
     "iopub.status.busy": "2020-09-27T01:27:47.936656Z",
     "iopub.status.idle": "2020-09-27T01:27:47.939422Z",
     "shell.execute_reply": "2020-09-27T01:27:47.938920Z"
    },
    "id": "7r4scdulztRx"
   },
   "outputs": [],
   "source": [
    "learning_rate = CustomSchedule(d_model)\n",
    "\n",
    "optimizer = tf.keras.optimizers.Adam(learning_rate, beta_1=0.9, beta_2=0.98, \n",
    "                                     epsilon=1e-9)"
   ]
  },
  {
   "cell_type": "code",
   "execution_count": 104,
   "metadata": {
    "execution": {
     "iopub.execute_input": "2020-09-27T01:27:47.943637Z",
     "iopub.status.busy": "2020-09-27T01:27:47.943072Z",
     "iopub.status.idle": "2020-09-27T01:27:48.078067Z",
     "shell.execute_reply": "2020-09-27T01:27:48.077520Z"
    },
    "id": "f33ZCgvHpPdG"
   },
   "outputs": [
    {
     "data": {
      "text/plain": [
       "Text(0.5, 0, 'Train Step')"
      ]
     },
     "execution_count": 104,
     "metadata": {},
     "output_type": "execute_result"
    },
    {
     "data": {
      "image/png": "[encoded data removed]",
      "text/plain": [
       "<Figure size 432x288 with 1 Axes>"
      ]
     },
     "metadata": {
      "needs_background": "light"
     },
     "output_type": "display_data"
    }
   ],
   "source": [
    "temp_learning_rate_schedule = CustomSchedule(d_model)\n",
    "\n",
    "plt.plot(temp_learning_rate_schedule(tf.range(40000, dtype=tf.float32)))\n",
    "plt.ylabel(\"Learning Rate\")\n",
    "plt.xlabel(\"Train Step\")"
   ]
  },
  {
   "cell_type": "markdown",
   "metadata": {
    "id": "YgkDE7hzo8r5"
   },
   "source": [
    "## Loss and metrics"
   ]
  },
  {
   "cell_type": "markdown",
   "metadata": {
    "id": "oxGJtoDuYIHL"
   },
   "source": [
    "Since the target sequences are padded, it is important to apply a padding mask when calculating the loss."
   ]
  },
  {
   "cell_type": "code",
   "execution_count": 105,
   "metadata": {
    "execution": {
     "iopub.execute_input": "2020-09-27T01:27:48.082201Z",
     "iopub.status.busy": "2020-09-27T01:27:48.081646Z",
     "iopub.status.idle": "2020-09-27T01:27:48.083932Z",
     "shell.execute_reply": "2020-09-27T01:27:48.083447Z"
    },
    "id": "MlhsJMm0TW_B"
   },
   "outputs": [],
   "source": [
    "loss_object = tf.keras.losses.SparseCategoricalCrossentropy(\n",
    "    from_logits=True, reduction='none')"
   ]
  },
  {
   "cell_type": "code",
   "execution_count": 106,
   "metadata": {
    "execution": {
     "iopub.execute_input": "2020-09-27T01:27:48.088318Z",
     "iopub.status.busy": "2020-09-27T01:27:48.087763Z",
     "iopub.status.idle": "2020-09-27T01:27:48.090088Z",
     "shell.execute_reply": "2020-09-27T01:27:48.089616Z"
    },
    "id": "67oqVHiT0Eiu"
   },
   "outputs": [],
   "source": [
    "def loss_function(real, pred):\n",
    "  mask = tf.math.logical_not(tf.math.equal(real, 0))\n",
    "  loss_ = loss_object(real, pred)\n",
    "\n",
    "  mask = tf.cast(mask, dtype=loss_.dtype)\n",
    "  loss_ *= mask\n",
    "  \n",
    "  return tf.reduce_sum(loss_)/tf.reduce_sum(mask)"
   ]
  },
  {
   "cell_type": "code",
   "execution_count": 107,
   "metadata": {
    "execution": {
     "iopub.execute_input": "2020-09-27T01:27:48.099267Z",
     "iopub.status.busy": "2020-09-27T01:27:48.098546Z",
     "iopub.status.idle": "2020-09-27T01:27:48.108840Z",
     "shell.execute_reply": "2020-09-27T01:27:48.109262Z"
    },
    "id": "phlyxMnm-Tpx"
   },
   "outputs": [],
   "source": [
    "train_loss = tf.keras.metrics.Mean(name='train_loss')\n",
    "train_accuracy = tf.keras.metrics.SparseCategoricalAccuracy(\n",
    "    name='train_accuracy')"
   ]
  },
  {
   "cell_type": "markdown",
   "metadata": {
    "id": "aeHumfr7zmMa"
   },
   "source": [
    "## Training and checkpointing"
   ]
  },
  {
   "cell_type": "code",
   "execution_count": 108,
   "metadata": {
    "execution": {
     "iopub.execute_input": "2020-09-27T01:27:48.114357Z",
     "iopub.status.busy": "2020-09-27T01:27:48.113730Z",
     "iopub.status.idle": "2020-09-27T01:27:48.258900Z",
     "shell.execute_reply": "2020-09-27T01:27:48.259413Z"
    },
    "id": "UiysUa--4tOU"
   },
   "outputs": [],
   "source": [
    "transformer = Transformer(num_layers, d_model, num_heads, dff,\n",
    "                          input_vocab_size, target_vocab_size, \n",
    "                          pe_input=input_vocab_size, \n",
    "                          pe_target=target_vocab_size,\n",
    "                          rate=dropout_rate)"
   ]
  },
  {
   "cell_type": "code",
   "execution_count": 109,
   "metadata": {
    "execution": {
     "iopub.execute_input": "2020-09-27T01:27:48.264274Z",
     "iopub.status.busy": "2020-09-27T01:27:48.263688Z",
     "iopub.status.idle": "2020-09-27T01:27:48.265626Z",
     "shell.execute_reply": "2020-09-27T01:27:48.266073Z"
    },
    "id": "ZOJUSB1T8GjM"
   },
   "outputs": [],
   "source": [
    "def create_masks(inp, tar):\n",
    "  # Encoder padding mask\n",
    "  enc_padding_mask = create_padding_mask(inp)\n",
    "  \n",
    "  # Used in the 2nd attention block in the decoder.\n",
    "  # This padding mask is used to mask the encoder outputs.\n",
    "  dec_padding_mask = create_padding_mask(inp)\n",
    "  \n",
    "  # Used in the 1st attention block in the decoder.\n",
    "  # It is used to pad and mask future tokens in the input received by \n",
    "  # the decoder.\n",
    "  look_ahead_mask = create_look_ahead_mask(tf.shape(tar)[1])\n",
    "  dec_target_padding_mask = create_padding_mask(tar)\n",
    "  combined_mask = tf.maximum(dec_target_padding_mask, look_ahead_mask)\n",
    "  \n",
    "  return enc_padding_mask, combined_mask, dec_padding_mask"
   ]
  },
  {
   "cell_type": "markdown",
   "metadata": {
    "id": "Fzuf06YZp66w"
   },
   "source": [
    "Create the checkpoint path and the checkpoint manager. This will be used to save checkpoints every `n` epochs."
   ]
  },
  {
   "cell_type": "code",
   "execution_count": 110,
   "metadata": {
    "execution": {
     "iopub.execute_input": "2020-09-27T01:27:48.271010Z",
     "iopub.status.busy": "2020-09-27T01:27:48.270443Z",
     "iopub.status.idle": "2020-09-27T01:27:48.272778Z",
     "shell.execute_reply": "2020-09-27T01:27:48.272356Z"
    },
    "id": "hNhuYfllndLZ"
   },
   "outputs": [],
   "source": [
    "checkpoint_path = \"./checkpoints/train\"\n",
    "\n",
    "ckpt = tf.train.Checkpoint(transformer=transformer,\n",
    "                           optimizer=optimizer)\n",
    "\n",
    "ckpt_manager = tf.train.CheckpointManager(ckpt, checkpoint_path, max_to_keep=5)\n",
    "\n",
    "# if a checkpoint exists, restore the latest checkpoint.\n",
    "if ckpt_manager.latest_checkpoint:\n",
    "  ckpt.restore(ckpt_manager.latest_checkpoint)\n",
    "  print ('Latest checkpoint restored!!')"
   ]
  },
  {
   "cell_type": "markdown",
   "metadata": {
    "id": "0Di_Yaa1gf9r"
   },
   "source": [
    "The target is divided into tar_inp and tar_real. tar_inp is passed as an input to the decoder. `tar_real` is that same input shifted by 1: At each location in `tar_input`, `tar_real` contains the  next token that should be predicted.\n",
    "\n",
    "For example, `sentence` = \"SOS A lion in the jungle is sleeping EOS\"\n",
    "\n",
    "`tar_inp` =  \"SOS A lion in the jungle is sleeping\"\n",
    "\n",
    "`tar_real` = \"A lion in the jungle is sleeping EOS\"\n",
    "\n",
    "The transformer is an auto-regressive model: it makes predictions one part at a time, and uses its output so far to decide what to do next. \n",
    "\n",
    "During training this example uses teacher-forcing (like in the [text generation tutorial](./text_generation.ipynb)). Teacher forcing is passing the true output to the next time step regardless of what the model predicts at the current time step.\n",
    "\n",
    "As the transformer predicts each word, *self-attention* allows it to look at the previous words in the input sequence to better predict the next word.\n",
    "\n",
    "To prevent the model from peeking at the expected output the model uses a look-ahead mask."
   ]
  },
  {
   "cell_type": "code",
   "execution_count": 111,
   "metadata": {
    "execution": {
     "iopub.execute_input": "2020-09-27T01:27:48.276032Z",
     "iopub.status.busy": "2020-09-27T01:27:48.275504Z",
     "iopub.status.idle": "2020-09-27T01:27:48.277426Z",
     "shell.execute_reply": "2020-09-27T01:27:48.277775Z"
    },
    "id": "LKpoA6q1sJFj"
   },
   "outputs": [],
   "source": [
    "EPOCHS = 30"
   ]
  },
  {
   "cell_type": "code",
   "execution_count": 112,
   "metadata": {
    "execution": {
     "iopub.execute_input": "2020-09-27T01:27:48.284178Z",
     "iopub.status.busy": "2020-09-27T01:27:48.283590Z",
     "iopub.status.idle": "2020-09-27T01:27:48.285953Z",
     "shell.execute_reply": "2020-09-27T01:27:48.285551Z"
    },
    "id": "iJwmp9OE29oj"
   },
   "outputs": [],
   "source": [
    "# The @tf.function trace-compiles train_step into a TF graph for faster\n",
    "# execution. The function specializes to the precise shape of the argument\n",
    "# tensors. To avoid re-tracing due to the variable sequence lengths or variable\n",
    "# batch sizes (the last batch is smaller), use input_signature to specify\n",
    "# more generic shapes.\n",
    "\n",
    "train_step_signature = [\n",
    "    tf.TensorSpec(shape=(None, None), dtype=tf.int64),\n",
    "    tf.TensorSpec(shape=(None, None), dtype=tf.int64),\n",
    "]\n",
    "\n",
    "@tf.function(input_signature=train_step_signature)\n",
    "def train_step(inp, tar):\n",
    "  tar_inp = tar[:, :-1]\n",
    "  tar_real = tar[:, 1:]\n",
    "  \n",
    "  enc_padding_mask, combined_mask, dec_padding_mask = create_masks(inp, tar_inp)\n",
    "  \n",
    "  with tf.GradientTape() as tape:\n",
    "    predictions, _ = transformer(inp, tar_inp, \n",
    "                                 True, \n",
    "                                 enc_padding_mask, \n",
    "                                 combined_mask, \n",
    "                                 dec_padding_mask)\n",
    "    loss = loss_function(tar_real, predictions)\n",
    "\n",
    "  gradients = tape.gradient(loss, transformer.trainable_variables)    \n",
    "  optimizer.apply_gradients(zip(gradients, transformer.trainable_variables))\n",
    "  \n",
    "  train_loss(loss)\n",
    "  train_accuracy(tar_real, predictions)"
   ]
  },
  {
   "cell_type": "code",
   "execution_count": 113,
   "metadata": {},
   "outputs": [
    {
     "data": {
      "text/plain": [
       "<PrefetchDataset shapes: ((None, None), (None, None)), types: (tf.int64, tf.int64)>"
      ]
     },
     "execution_count": 113,
     "metadata": {},
     "output_type": "execute_result"
    }
   ],
   "source": [
    "train_dataset"
   ]
  },
  {
   "cell_type": "markdown",
   "metadata": {
    "id": "qM2PDWGDJ_8V"
   },
   "source": [
    "Portuguese is used as the input language and English is the target language."
   ]
  },
  {
   "cell_type": "code",
   "execution_count": 114,
   "metadata": {
    "execution": {
     "iopub.execute_input": "2020-09-27T01:27:48.292269Z",
     "iopub.status.busy": "2020-09-27T01:27:48.291673Z",
     "iopub.status.idle": "2020-09-27T01:38:11.257344Z",
     "shell.execute_reply": "2020-09-27T01:38:11.256866Z"
    },
    "id": "bbvmaKNiznHZ"
   },
   "outputs": [
    {
     "name": "stdout",
     "output_type": "stream",
     "text": [
      "Epoch 1 Batch 0 Loss 6.4024 Accuracy 0.0027\n",
      "Epoch 1 Batch 200 Loss 4.9383 Accuracy 0.1240\n",
      "Epoch 1 Batch 400 Loss 3.7428 Accuracy 0.2054\n",
      "Epoch 1 Batch 600 Loss 3.0431 Accuracy 0.2529\n",
      "Epoch 1 Batch 800 Loss 2.6058 Accuracy 0.2900\n",
      "Epoch 1 Batch 1000 Loss 2.3085 Accuracy 0.3183\n",
      "Epoch 1 Loss 2.2676 Accuracy 0.3225\n",
      "Time taken for 1 epoch: 4100.00332736969 secs\n",
      "\n",
      "Epoch 2 Batch 0 Loss 1.0240 Accuracy 0.4810\n",
      "Epoch 2 Batch 200 Loss 0.9702 Accuracy 0.4639\n",
      "Epoch 2 Batch 400 Loss 0.9279 Accuracy 0.4724\n",
      "Epoch 2 Batch 600 Loss 0.8926 Accuracy 0.4797\n",
      "Epoch 2 Batch 800 Loss 0.8622 Accuracy 0.4861\n",
      "Epoch 2 Batch 1000 Loss 0.8350 Accuracy 0.4916\n",
      "Epoch 2 Loss 0.8306 Accuracy 0.4926\n",
      "Time taken for 1 epoch: 3593.6390273571014 secs\n",
      "\n",
      "Epoch 3 Batch 0 Loss 0.7487 Accuracy 0.4872\n",
      "Epoch 3 Batch 200 Loss 0.6739 Accuracy 0.5231\n",
      "Epoch 3 Batch 400 Loss 0.6475 Accuracy 0.5287\n",
      "Epoch 3 Batch 600 Loss 0.6239 Accuracy 0.5346\n",
      "Epoch 3 Batch 800 Loss 0.6016 Accuracy 0.5402\n",
      "Epoch 3 Batch 1000 Loss 0.5797 Accuracy 0.5449\n",
      "Epoch 3 Loss 0.5764 Accuracy 0.5457\n",
      "Time taken for 1 epoch: 3174.966331720352 secs\n",
      "\n",
      "Epoch 4 Batch 0 Loss 0.4866 Accuracy 0.5703\n",
      "Epoch 4 Batch 200 Loss 0.4486 Accuracy 0.5737\n",
      "Epoch 4 Batch 400 Loss 0.4250 Accuracy 0.5800\n",
      "Epoch 4 Batch 600 Loss 0.4050 Accuracy 0.5844\n",
      "Epoch 4 Batch 800 Loss 0.3856 Accuracy 0.5889\n",
      "Epoch 4 Batch 1000 Loss 0.3692 Accuracy 0.5930\n",
      "Epoch 4 Loss 0.3668 Accuracy 0.5936\n",
      "Time taken for 1 epoch: 2899.291939496994 secs\n",
      "\n",
      "Epoch 5 Batch 0 Loss 0.2985 Accuracy 0.6250\n",
      "Epoch 5 Batch 200 Loss 0.2772 Accuracy 0.6109\n",
      "Epoch 5 Batch 400 Loss 0.2668 Accuracy 0.6126\n",
      "Epoch 5 Batch 600 Loss 0.2590 Accuracy 0.6151\n",
      "Epoch 5 Batch 800 Loss 0.2518 Accuracy 0.6173\n",
      "Epoch 5 Batch 1000 Loss 0.2461 Accuracy 0.6190\n",
      "Saving checkpoint for epoch 5 at ./checkpoints/train\\ckpt-1\n",
      "Epoch 5 Loss 0.2452 Accuracy 0.6192\n",
      "Time taken for 1 epoch: 2351.9599344730377 secs\n",
      "\n",
      "Epoch 6 Batch 0 Loss 0.2062 Accuracy 0.6074\n",
      "Epoch 6 Batch 200 Loss 0.2109 Accuracy 0.6260\n",
      "Epoch 6 Batch 400 Loss 0.2066 Accuracy 0.6267\n",
      "Epoch 6 Batch 600 Loss 0.2036 Accuracy 0.6273\n",
      "Epoch 6 Batch 800 Loss 0.2000 Accuracy 0.6286\n",
      "Epoch 6 Batch 1000 Loss 0.1970 Accuracy 0.6295\n",
      "Epoch 6 Loss 0.1967 Accuracy 0.6296\n",
      "Time taken for 1 epoch: 2190.26499915123 secs\n",
      "\n",
      "Epoch 7 Batch 0 Loss 0.1861 Accuracy 0.6274\n",
      "Epoch 7 Batch 200 Loss 0.1749 Accuracy 0.6332\n",
      "Epoch 7 Batch 400 Loss 0.1748 Accuracy 0.6339\n",
      "Epoch 7 Batch 600 Loss 0.1730 Accuracy 0.6343\n",
      "Epoch 7 Batch 800 Loss 0.1715 Accuracy 0.6352\n",
      "Epoch 7 Batch 1000 Loss 0.1702 Accuracy 0.6354\n",
      "Epoch 7 Loss 0.1698 Accuracy 0.6356\n",
      "Time taken for 1 epoch: 2198.797999858856 secs\n",
      "\n",
      "Epoch 8 Batch 0 Loss 0.1819 Accuracy 0.6546\n",
      "Epoch 8 Batch 200 Loss 0.1574 Accuracy 0.6374\n",
      "Epoch 8 Batch 400 Loss 0.1564 Accuracy 0.6362\n",
      "Epoch 8 Batch 600 Loss 0.1549 Accuracy 0.6377\n",
      "Epoch 8 Batch 800 Loss 0.1538 Accuracy 0.6388\n",
      "Epoch 8 Batch 1000 Loss 0.1528 Accuracy 0.6390\n",
      "Epoch 8 Loss 0.1524 Accuracy 0.6390\n",
      "Time taken for 1 epoch: 2194.128003358841 secs\n",
      "\n",
      "Epoch 9 Batch 0 Loss 0.1204 Accuracy 0.6591\n",
      "Epoch 9 Batch 200 Loss 0.1432 Accuracy 0.6385\n",
      "Epoch 9 Batch 400 Loss 0.1423 Accuracy 0.6405\n",
      "Epoch 9 Batch 600 Loss 0.1413 Accuracy 0.6407\n",
      "Epoch 9 Batch 800 Loss 0.1404 Accuracy 0.6412\n",
      "Epoch 9 Batch 1000 Loss 0.1398 Accuracy 0.6413\n",
      "Epoch 9 Loss 0.1396 Accuracy 0.6414\n",
      "Time taken for 1 epoch: 2197.7399973869324 secs\n",
      "\n",
      "Epoch 10 Batch 0 Loss 0.1535 Accuracy 0.6375\n",
      "Epoch 10 Batch 200 Loss 0.1333 Accuracy 0.6423\n",
      "Epoch 10 Batch 400 Loss 0.1323 Accuracy 0.6410\n",
      "Epoch 10 Batch 600 Loss 0.1323 Accuracy 0.6415\n",
      "Epoch 10 Batch 800 Loss 0.1311 Accuracy 0.6420\n",
      "Epoch 10 Batch 1000 Loss 0.1307 Accuracy 0.6423\n",
      "Saving checkpoint for epoch 10 at ./checkpoints/train\\ckpt-2\n",
      "Epoch 10 Loss 0.1306 Accuracy 0.6425\n",
      "Time taken for 1 epoch: 2207.4920015335083 secs\n",
      "\n",
      "Epoch 11 Batch 0 Loss 0.1282 Accuracy 0.6323\n",
      "Epoch 11 Batch 200 Loss 0.1251 Accuracy 0.6432\n",
      "Epoch 11 Batch 400 Loss 0.1238 Accuracy 0.6449\n",
      "Epoch 11 Batch 600 Loss 0.1233 Accuracy 0.6440\n",
      "Epoch 11 Batch 800 Loss 0.1232 Accuracy 0.6442\n",
      "Epoch 11 Batch 1000 Loss 0.1226 Accuracy 0.6445\n",
      "Epoch 11 Loss 0.1225 Accuracy 0.6444\n",
      "Time taken for 1 epoch: 2188.562997341156 secs\n",
      "\n",
      "Epoch 12 Batch 0 Loss 0.1291 Accuracy 0.6203\n",
      "Epoch 12 Batch 200 Loss 0.1164 Accuracy 0.6430\n",
      "Epoch 12 Batch 400 Loss 0.1170 Accuracy 0.6439\n",
      "Epoch 12 Batch 600 Loss 0.1169 Accuracy 0.6455\n",
      "Epoch 12 Batch 800 Loss 0.1168 Accuracy 0.6456\n",
      "Epoch 12 Batch 1000 Loss 0.1162 Accuracy 0.6458\n",
      "Epoch 12 Loss 0.1163 Accuracy 0.6458\n",
      "Time taken for 1 epoch: 2194.3829991817474 secs\n",
      "\n",
      "Epoch 13 Batch 0 Loss 0.1169 Accuracy 0.6343\n",
      "Epoch 13 Batch 200 Loss 0.1109 Accuracy 0.6452\n",
      "Epoch 13 Batch 400 Loss 0.1111 Accuracy 0.6457\n",
      "Epoch 13 Batch 600 Loss 0.1109 Accuracy 0.6464\n",
      "Epoch 13 Batch 800 Loss 0.1109 Accuracy 0.6475\n",
      "Epoch 13 Batch 1000 Loss 0.1109 Accuracy 0.6478\n",
      "Epoch 13 Loss 0.1109 Accuracy 0.6475\n",
      "Time taken for 1 epoch: 2196.989000082016 secs\n",
      "\n",
      "Epoch 14 Batch 0 Loss 0.0870 Accuracy 0.6947\n",
      "Epoch 14 Batch 200 Loss 0.1067 Accuracy 0.6487\n",
      "Epoch 14 Batch 400 Loss 0.1060 Accuracy 0.6494\n",
      "Epoch 14 Batch 600 Loss 0.1065 Accuracy 0.6476\n",
      "Epoch 14 Batch 800 Loss 0.1065 Accuracy 0.6475\n",
      "Epoch 14 Batch 1000 Loss 0.1062 Accuracy 0.6481\n",
      "Epoch 14 Loss 0.1062 Accuracy 0.6482\n",
      "Time taken for 1 epoch: 2197.5910019874573 secs\n",
      "\n",
      "Epoch 15 Batch 0 Loss 0.0849 Accuracy 0.7153\n",
      "Epoch 15 Batch 200 Loss 0.1019 Accuracy 0.6477\n",
      "Epoch 15 Batch 400 Loss 0.1030 Accuracy 0.6485\n",
      "Epoch 15 Batch 600 Loss 0.1030 Accuracy 0.6486\n",
      "Epoch 15 Batch 800 Loss 0.1027 Accuracy 0.6488\n",
      "Epoch 15 Batch 1000 Loss 0.1025 Accuracy 0.6491\n",
      "Saving checkpoint for epoch 15 at ./checkpoints/train\\ckpt-3\n",
      "Epoch 15 Loss 0.1026 Accuracy 0.6490\n",
      "Time taken for 1 epoch: 2200.471998691559 secs\n",
      "\n",
      "Epoch 16 Batch 0 Loss 0.0946 Accuracy 0.6739\n",
      "Epoch 16 Batch 200 Loss 0.0989 Accuracy 0.6486\n",
      "Epoch 16 Batch 400 Loss 0.0996 Accuracy 0.6498\n",
      "Epoch 16 Batch 600 Loss 0.0996 Accuracy 0.6503\n",
      "Epoch 16 Batch 800 Loss 0.0992 Accuracy 0.6497\n",
      "Epoch 16 Batch 1000 Loss 0.0993 Accuracy 0.6502\n",
      "Epoch 16 Loss 0.0993 Accuracy 0.6502\n",
      "Time taken for 1 epoch: 2187.409999847412 secs\n",
      "\n",
      "Epoch 17 Batch 0 Loss 0.0875 Accuracy 0.6138\n",
      "Epoch 17 Batch 200 Loss 0.0968 Accuracy 0.6470\n",
      "Epoch 17 Batch 400 Loss 0.0961 Accuracy 0.6493\n",
      "Epoch 17 Batch 600 Loss 0.0961 Accuracy 0.6493\n",
      "Epoch 17 Batch 800 Loss 0.0964 Accuracy 0.6499\n",
      "Epoch 17 Batch 1000 Loss 0.0962 Accuracy 0.6503\n",
      "Epoch 17 Loss 0.0962 Accuracy 0.6505\n",
      "Time taken for 1 epoch: 2194.9589986801147 secs\n",
      "\n",
      "Epoch 18 Batch 0 Loss 0.0960 Accuracy 0.6368\n",
      "Epoch 18 Batch 200 Loss 0.0918 Accuracy 0.6529\n",
      "Epoch 18 Batch 400 Loss 0.0928 Accuracy 0.6505\n",
      "Epoch 18 Batch 600 Loss 0.0931 Accuracy 0.6496\n",
      "Epoch 18 Batch 800 Loss 0.0929 Accuracy 0.6507\n",
      "Epoch 18 Batch 1000 Loss 0.0931 Accuracy 0.6513\n",
      "Epoch 18 Loss 0.0932 Accuracy 0.6513\n",
      "Time taken for 1 epoch: 2195.6010007858276 secs\n",
      "\n",
      "Epoch 19 Batch 0 Loss 0.0933 Accuracy 0.6414\n",
      "Epoch 19 Batch 200 Loss 0.0903 Accuracy 0.6518\n",
      "Epoch 19 Batch 400 Loss 0.0904 Accuracy 0.6512\n",
      "Epoch 19 Batch 600 Loss 0.0907 Accuracy 0.6514\n",
      "Epoch 19 Batch 800 Loss 0.0908 Accuracy 0.6521\n",
      "Epoch 19 Batch 1000 Loss 0.0910 Accuracy 0.6521\n",
      "Epoch 19 Loss 0.0909 Accuracy 0.6521\n",
      "Time taken for 1 epoch: 2193.501998901367 secs\n",
      "\n",
      "Epoch 20 Batch 0 Loss 0.0747 Accuracy 0.6571\n",
      "Epoch 20 Batch 200 Loss 0.0881 Accuracy 0.6521\n",
      "Epoch 20 Batch 400 Loss 0.0883 Accuracy 0.6527\n",
      "Epoch 20 Batch 600 Loss 0.0884 Accuracy 0.6521\n",
      "Epoch 20 Batch 800 Loss 0.0884 Accuracy 0.6529\n",
      "Epoch 20 Batch 1000 Loss 0.0884 Accuracy 0.6529\n",
      "Saving checkpoint for epoch 20 at ./checkpoints/train\\ckpt-4\n",
      "Epoch 20 Loss 0.0886 Accuracy 0.6529\n",
      "Time taken for 1 epoch: 2200.365999698639 secs\n",
      "\n",
      "Epoch 21 Batch 0 Loss 0.1024 Accuracy 0.6590\n",
      "Epoch 21 Batch 200 Loss 0.0865 Accuracy 0.6528\n",
      "Epoch 21 Batch 400 Loss 0.0861 Accuracy 0.6526\n",
      "Epoch 21 Batch 600 Loss 0.0860 Accuracy 0.6518\n",
      "Epoch 21 Batch 800 Loss 0.0863 Accuracy 0.6521\n",
      "Epoch 21 Batch 1000 Loss 0.0864 Accuracy 0.6527\n",
      "Epoch 21 Loss 0.0864 Accuracy 0.6528\n",
      "Time taken for 1 epoch: 2190.2570011615753 secs\n",
      "\n",
      "Epoch 22 Batch 0 Loss 0.0686 Accuracy 0.7282\n",
      "Epoch 22 Batch 200 Loss 0.0835 Accuracy 0.6508\n",
      "Epoch 22 Batch 400 Loss 0.0839 Accuracy 0.6515\n",
      "Epoch 22 Batch 600 Loss 0.0843 Accuracy 0.6521\n",
      "Epoch 22 Batch 800 Loss 0.0844 Accuracy 0.6528\n",
      "Epoch 22 Batch 1000 Loss 0.0844 Accuracy 0.6527\n",
      "Epoch 22 Loss 0.0844 Accuracy 0.6526\n",
      "Time taken for 1 epoch: 2191.2559995651245 secs\n",
      "\n"
     ]
    },
    {
     "name": "stdout",
     "output_type": "stream",
     "text": [
      "Epoch 23 Batch 0 Loss 0.1028 Accuracy 0.6509\n",
      "Epoch 23 Batch 200 Loss 0.0826 Accuracy 0.6513\n",
      "Epoch 23 Batch 400 Loss 0.0822 Accuracy 0.6518\n",
      "Epoch 23 Batch 600 Loss 0.0822 Accuracy 0.6527\n",
      "Epoch 23 Batch 800 Loss 0.0825 Accuracy 0.6527\n",
      "Epoch 23 Batch 1000 Loss 0.0825 Accuracy 0.6531\n",
      "Epoch 23 Loss 0.0825 Accuracy 0.6532\n",
      "Time taken for 1 epoch: 2199.4889998435974 secs\n",
      "\n",
      "Epoch 24 Batch 0 Loss 0.0759 Accuracy 0.6235\n",
      "Epoch 24 Batch 200 Loss 0.0796 Accuracy 0.6506\n",
      "Epoch 24 Batch 400 Loss 0.0799 Accuracy 0.6516\n",
      "Epoch 24 Batch 600 Loss 0.0804 Accuracy 0.6523\n",
      "Epoch 24 Batch 800 Loss 0.0805 Accuracy 0.6532\n",
      "Epoch 24 Batch 1000 Loss 0.0807 Accuracy 0.6535\n",
      "Epoch 24 Loss 0.0808 Accuracy 0.6534\n",
      "Time taken for 1 epoch: 2242.835999727249 secs\n",
      "\n",
      "Epoch 25 Batch 0 Loss 0.0809 Accuracy 0.6680\n",
      "Epoch 25 Batch 200 Loss 0.0794 Accuracy 0.6532\n",
      "Epoch 25 Batch 400 Loss 0.0793 Accuracy 0.6529\n",
      "Epoch 25 Batch 600 Loss 0.0792 Accuracy 0.6537\n",
      "Epoch 25 Batch 800 Loss 0.0790 Accuracy 0.6544\n",
      "Epoch 25 Batch 1000 Loss 0.0793 Accuracy 0.6536\n",
      "Saving checkpoint for epoch 25 at ./checkpoints/train\\ckpt-5\n",
      "Epoch 25 Loss 0.0794 Accuracy 0.6536\n",
      "Time taken for 1 epoch: 2200.4870121479034 secs\n",
      "\n",
      "Epoch 26 Batch 0 Loss 0.0969 Accuracy 0.6522\n",
      "Epoch 26 Batch 200 Loss 0.0773 Accuracy 0.6527\n",
      "Epoch 26 Batch 400 Loss 0.0775 Accuracy 0.6537\n",
      "Epoch 26 Batch 600 Loss 0.0777 Accuracy 0.6527\n",
      "Epoch 26 Batch 800 Loss 0.0776 Accuracy 0.6533\n",
      "Epoch 26 Batch 1000 Loss 0.0777 Accuracy 0.6539\n",
      "Epoch 26 Loss 0.0777 Accuracy 0.6540\n",
      "Time taken for 1 epoch: 2194.0389897823334 secs\n",
      "\n",
      "Epoch 27 Batch 0 Loss 0.0811 Accuracy 0.6671\n",
      "Epoch 27 Batch 200 Loss 0.0754 Accuracy 0.6555\n",
      "Epoch 27 Batch 400 Loss 0.0755 Accuracy 0.6542\n",
      "Epoch 27 Batch 600 Loss 0.0761 Accuracy 0.6538\n",
      "Epoch 27 Batch 800 Loss 0.0762 Accuracy 0.6533\n",
      "Epoch 27 Batch 1000 Loss 0.0765 Accuracy 0.6543\n",
      "Epoch 27 Loss 0.0765 Accuracy 0.6544\n",
      "Time taken for 1 epoch: 2191.89599943161 secs\n",
      "\n",
      "Epoch 28 Batch 0 Loss 0.0559 Accuracy 0.6439\n",
      "Epoch 28 Batch 200 Loss 0.0743 Accuracy 0.6544\n",
      "Epoch 28 Batch 400 Loss 0.0747 Accuracy 0.6547\n",
      "Epoch 28 Batch 600 Loss 0.0749 Accuracy 0.6547\n",
      "Epoch 28 Batch 800 Loss 0.0751 Accuracy 0.6554\n",
      "Epoch 28 Batch 1000 Loss 0.0751 Accuracy 0.6558\n",
      "Epoch 28 Loss 0.0751 Accuracy 0.6559\n",
      "Time taken for 1 epoch: 2192.5770013332367 secs\n",
      "\n",
      "Epoch 29 Batch 0 Loss 0.0649 Accuracy 0.6492\n",
      "Epoch 29 Batch 200 Loss 0.0718 Accuracy 0.6535\n",
      "Epoch 29 Batch 400 Loss 0.0731 Accuracy 0.6554\n",
      "Epoch 29 Batch 600 Loss 0.0736 Accuracy 0.6549\n",
      "Epoch 29 Batch 800 Loss 0.0737 Accuracy 0.6554\n",
      "Epoch 29 Batch 1000 Loss 0.0740 Accuracy 0.6553\n",
      "Epoch 29 Loss 0.0740 Accuracy 0.6552\n",
      "Time taken for 1 epoch: 2197.6010003089905 secs\n",
      "\n",
      "Epoch 30 Batch 0 Loss 0.0717 Accuracy 0.6361\n",
      "Epoch 30 Batch 200 Loss 0.0715 Accuracy 0.6535\n",
      "Epoch 30 Batch 400 Loss 0.0718 Accuracy 0.6545\n",
      "Epoch 30 Batch 600 Loss 0.0721 Accuracy 0.6542\n",
      "Epoch 30 Batch 800 Loss 0.0725 Accuracy 0.6543\n",
      "Epoch 30 Batch 1000 Loss 0.0725 Accuracy 0.6547\n",
      "Saving checkpoint for epoch 30 at ./checkpoints/train\\ckpt-6\n",
      "Epoch 30 Loss 0.0725 Accuracy 0.6548\n",
      "Time taken for 1 epoch: 2203.5309970378876 secs\n",
      "\n"
     ]
    }
   ],
   "source": [
    "for epoch in range(EPOCHS):\n",
    "  start = time.time()\n",
    "  \n",
    "  train_loss.reset_states()\n",
    "  train_accuracy.reset_states()\n",
    "  \n",
    "  # inp -> portuguese, tar -> english\n",
    "  for (batch, (inp, tar)) in enumerate(train_dataset):\n",
    "    train_step(inp, tar)\n",
    "    \n",
    "    if batch % 200 == 0:\n",
    "      print ('Epoch {} Batch {} Loss {:.4f} Accuracy {:.4f}'.format(\n",
    "          epoch + 1, batch, train_loss.result(), train_accuracy.result()))\n",
    "      \n",
    "  if (epoch + 1) % 5 == 0:\n",
    "    ckpt_save_path = ckpt_manager.save()\n",
    "    print ('Saving checkpoint for epoch {} at {}'.format(epoch+1,\n",
    "                                                         ckpt_save_path))\n",
    "    \n",
    "  print ('Epoch {} Loss {:.4f} Accuracy {:.4f}'.format(epoch + 1, \n",
    "                                                train_loss.result(), \n",
    "                                                train_accuracy.result()))\n",
    "\n",
    "  print ('Time taken for 1 epoch: {} secs\\n'.format(time.time() - start))"
   ]
  },
  {
   "cell_type": "markdown",
   "metadata": {
    "id": "QfcsSWswSdGV"
   },
   "source": [
    "## Evaluate"
   ]
  },
  {
   "cell_type": "markdown",
   "metadata": {
    "id": "y6APsFrgImLW"
   },
   "source": [
    "The following steps are used for evaluation:\n",
    "\n",
    "* Encode the input sentence using the Portuguese tokenizer (`tokenizer_pt`). Moreover, add the start and end token so the input is equivalent to what the model is trained with. This is the encoder input.\n",
    "* The decoder input is the `start token == tokenizer_en.vocab_size`.\n",
    "* Calculate the padding masks and the look ahead masks.\n",
    "* The `decoder` then outputs the predictions by looking at the `encoder output` and its own output (self-attention).\n",
    "* Select the last word and calculate the argmax of that.\n",
    "* Concatentate the predicted word to the decoder input as pass it to the decoder.\n",
    "* In this approach, the decoder predicts the next word based on the previous words it predicted.\n",
    "\n",
    "Note: The model used here has less capacity to keep the example relatively faster so the predictions maybe less right. To reproduce the results in the paper, use the entire dataset and base transformer model or transformer XL, by changing the hyperparameters above."
   ]
  },
  {
   "cell_type": "code",
   "execution_count": 115,
   "metadata": {
    "execution": {
     "iopub.execute_input": "2020-09-27T01:38:11.265027Z",
     "iopub.status.busy": "2020-09-27T01:38:11.264438Z",
     "iopub.status.idle": "2020-09-27T01:38:11.266574Z",
     "shell.execute_reply": "2020-09-27T01:38:11.266171Z"
    },
    "id": "5buvMlnvyrFm"
   },
   "outputs": [],
   "source": [
    "def evaluate(inp_sentence):\n",
    "  start_token = [tokenizer_in.vocab_size]\n",
    "  end_token = [tokenizer_in.vocab_size + 1]\n",
    "  \n",
    "  # inp sentence is portuguese, hence adding the start and end token\n",
    "  inp_sentence = start_token + tokenizer_in.encode(inp_sentence) + end_token\n",
    "  encoder_input = tf.expand_dims(inp_sentence, 0)\n",
    "  \n",
    "  # as the target is english, the first word to the transformer should be the\n",
    "  # english start token.\n",
    "  decoder_input = [tokenizer_out.vocab_size]\n",
    "  output = tf.expand_dims(decoder_input, 0)\n",
    "    \n",
    "  for i in range(MAX_LENGTH):\n",
    "    enc_padding_mask, combined_mask, dec_padding_mask = create_masks(\n",
    "        encoder_input, output)\n",
    "  \n",
    "    # predictions.shape == (batch_size, seq_len, vocab_size)\n",
    "    predictions, attention_weights = transformer(encoder_input, \n",
    "                                                 output,\n",
    "                                                 False,\n",
    "                                                 enc_padding_mask,\n",
    "                                                 combined_mask,\n",
    "                                                 dec_padding_mask)\n",
    "    \n",
    "    # select the last word from the seq_len dimension\n",
    "    predictions = predictions[: ,-1:, :]  # (batch_size, 1, vocab_size)\n",
    "\n",
    "    predicted_id = tf.cast(tf.argmax(predictions, axis=-1), tf.int32)\n",
    "    \n",
    "    # return the result if the predicted_id is equal to the end token\n",
    "    if predicted_id == tokenizer_out.vocab_size+1:\n",
    "      return tf.squeeze(output, axis=0), attention_weights\n",
    "    \n",
    "    # concatentate the predicted_id to the output which is given to the decoder\n",
    "    # as its input.\n",
    "    output = tf.concat([output, predicted_id], axis=-1)\n",
    "\n",
    "  return tf.squeeze(output, axis=0), attention_weights"
   ]
  },
  {
   "cell_type": "code",
   "execution_count": 136,
   "metadata": {
    "execution": {
     "iopub.execute_input": "2020-09-27T01:38:11.274263Z",
     "iopub.status.busy": "2020-09-27T01:38:11.273679Z",
     "iopub.status.idle": "2020-09-27T01:38:11.276063Z",
     "shell.execute_reply": "2020-09-27T01:38:11.275521Z"
    },
    "id": "CN-BV43FMBej"
   },
   "outputs": [],
   "source": [
    "def plot_attention_weights(attention, sentence, result, layer):\n",
    "  fig = plt.figure(figsize=(16, 8))\n",
    "  \n",
    "  sentence = tokenizer_in.encode(sentence)\n",
    "  \n",
    "  attention = tf.squeeze(attention[layer], axis=0)\n",
    "  \n",
    "  for head in range(int(attention.shape[0] / 8)):\n",
    "    ax = fig.add_subplot(1, 1, head+1)\n",
    "    \n",
    "    # plot the attention weights\n",
    "    ax.matshow(attention[head][:-1, :], cmap='viridis')\n",
    "\n",
    "    fontdict = {'fontsize': 10}\n",
    "    \n",
    "    ax.set_xticks(range(len(sentence)+2))\n",
    "    ax.set_yticks(range(len(result)))\n",
    "    \n",
    "    ax.set_ylim(len(result)-1.5, -0.5)\n",
    "        \n",
    "    ax.set_xticklabels(\n",
    "        ['<start>']+[tokenizer_in.decode([i]) for i in sentence]+['<end>'], \n",
    "        fontdict=fontdict, rotation=90)\n",
    "    \n",
    "    ax.set_yticklabels([tokenizer_out.decode([i]) for i in result \n",
    "                        if i < tokenizer_out.vocab_size], \n",
    "                       fontdict=fontdict)\n",
    "    \n",
    "    ax.set_xlabel('Head {}'.format(head+1))\n",
    "  \n",
    "  plt.tight_layout()\n",
    "  plt.show()"
   ]
  },
  {
   "cell_type": "code",
   "execution_count": 127,
   "metadata": {
    "execution": {
     "iopub.execute_input": "2020-09-27T01:38:11.280768Z",
     "iopub.status.busy": "2020-09-27T01:38:11.280159Z",
     "iopub.status.idle": "2020-09-27T01:38:11.282305Z",
     "shell.execute_reply": "2020-09-27T01:38:11.281825Z"
    },
    "id": "lU2_yG_vBGza"
   },
   "outputs": [],
   "source": [
    "def translate(sentence, plot=''):\n",
    "  result, attention_weights = evaluate(sentence)\n",
    "  \n",
    "  predicted_sentence = tokenizer_out.decode([i for i in result \n",
    "                                            if i < tokenizer_out.vocab_size])  \n",
    "\n",
    "  print('Input: {}'.format(sentence))\n",
    "  print('Pred translation: {}'.format(predicted_sentence))\n",
    "  \n",
    "  if plot:\n",
    "    plot_attention_weights(attention_weights, sentence, result, plot)"
   ]
  },
  {
   "cell_type": "code",
   "execution_count": 145,
   "metadata": {},
   "outputs": [
    {
     "name": "stdout",
     "output_type": "stream",
     "text": [
      "tf.Tensor(b'[CH2:1]([Cl:4])[CH2:2][OH:3].CCOCC.[CH2:10]([S:14](Cl)(=[O:16])=[O:15])[CH:11]([CH3:13])[CH3:12]', shape=(), dtype=string) tf.Tensor(b'[CH2:10]([S:14]([O:3][CH2:2][CH2:1][Cl:4])(=[O:16])=[O:15])[CH:11]([CH3:13])[CH3:12]', shape=(), dtype=string)\n",
      "tf.Tensor(b'[N+:1]([C:4]1[CH:13]=[CH:12][CH:11]=[C:10]2[C:5]=1[CH:6]=[CH:7][N:8]=[CH:9]2)([O-])=O.NC1C=CC=C2C=1C=CN=C2.Br.[IH:26]', shape=(), dtype=string) tf.Tensor(b'[IH:26].[IH:26].[NH2:1][C:4]1[CH:13]=[CH:12][CH:11]=[C:10]2[C:5]=1[CH:6]=[CH:7][N:8]=[CH:9]2 ', shape=(), dtype=string)\n"
     ]
    }
   ],
   "source": [
    "for c, (i, j) in enumerate(val_examples):\n",
    "    print(i, j)\n",
    "    if c == 1:\n",
    "        break"
   ]
  },
  {
   "cell_type": "code",
   "execution_count": 129,
   "metadata": {},
   "outputs": [
    {
     "name": "stdout",
     "output_type": "stream",
     "text": [
      "Input: [N+:1]([C:4]1[CH:13]=[CH:12][CH:11]=[C:10]2[C:5]=1[CH:6]=[CH:7][N:8]=[CH:9]2)([O-])=O.NC1C=CC=C2C=1C=CN=C2.Br.[IH:26]\n",
      "Pred translation: [IH:26].[NH2:1][C:4]1[CH:13]=[CH:12][CH:11]=[C:10]2[C:5]=1[CH:6]=[CH:7][N:8]=[CH:9]2 \n",
      "Real translation: [IH:26].[IH:26].[NH2:1][C:4]1[CH:13]=[CH:12][CH:11]=[C:10]2[C:5]=1[CH:6]=[CH:7][N:8]=[CH:9]2\n"
     ]
    }
   ],
   "source": [
    "#https://smartsview.zbh.uni-hamburg.de/smartsview\n",
    "\n",
    "translate(\"[N+:1]([C:4]1[CH:13]=[CH:12][CH:11]=[C:10]2[C:5]=1[CH:6]=[CH:7][N:8]=[CH:9]2)([O-])=O.NC1C=CC=C2C=1C=CN=C2.Br.[IH:26]\")\n",
    "\n",
    "print (\"Real translation: [IH:26].[IH:26].[NH2:1][C:4]1[CH:13]=[CH:12][CH:11]=[C:10]2[C:5]=1[CH:6]=[CH:7][N:8]=[CH:9]2\")"
   ]
  },
  {
   "cell_type": "code",
   "execution_count": null,
   "metadata": {},
   "outputs": [],
   "source": []
  },
  {
   "cell_type": "code",
   "execution_count": 107,
   "metadata": {
    "execution": {
     "iopub.execute_input": "2020-09-27T01:38:11.286063Z",
     "iopub.status.busy": "2020-09-27T01:38:11.285520Z",
     "iopub.status.idle": "2020-09-27T01:38:12.446492Z",
     "shell.execute_reply": "2020-09-27T01:38:12.446910Z"
    },
    "id": "YsxrAlvFG8SZ"
   },
   "outputs": [
    {
     "name": "stdout",
     "output_type": "stream",
     "text": [
      "Input: [CH2:1]([CH:3]1[NH:8][CH:7]([CH2:9][CH3:10])[CH:6]([CH3:11])[CH:5]=N1)[CH3:2].[Cl-].[NH4+]\n",
      "Predicted translation: [CH2:1]([C:3]1[NH:8][C:7]([CH2:9][CH3:10])=[CH:6][CH:5]=1)[CH3:2] |f:1.2|\n",
      "Real translation: [CH2:9]([C:7]1[C:6]([CH3:11])=[CH:5][C:1]([CH3:2])=[CH:3][N:8]=1)[CH3:10] |f:1.2|\n"
     ]
    }
   ],
   "source": [
    "#https://smartsview.zbh.uni-hamburg.de/smartsview\n",
    "#translate(\"[Br:1][CH2:2][CH2:3][OH:4].[CH2:5]([S:7](Cl)(=[O:9])=[O:8])[CH3:6].CCOCC\")\n",
    "translate(\"[CH2:1]([CH:3]1[NH:8][CH:7]([CH2:9][CH3:10])[CH:6]([CH3:11])[CH:5]=N1)[CH3:2].[Cl-].[NH4+]\")\n",
    "\n",
    "print (\"Real translation: [CH2:9]([C:7]1[C:6]([CH3:11])=[CH:5][C:1]([CH3:2])=[CH:3][N:8]=1)[CH3:10] |f:1.2|\")"
   ]
  },
  {
   "cell_type": "markdown",
   "metadata": {
    "id": "_1MxkSZvz0jX"
   },
   "source": [
    "You can pass different layers and attention blocks of the decoder to the `plot` parameter."
   ]
  },
  {
   "cell_type": "code",
   "execution_count": 138,
   "metadata": {
    "execution": {
     "iopub.execute_input": "2020-09-27T01:38:15.378743Z",
     "iopub.status.busy": "2020-09-27T01:38:15.378206Z",
     "iopub.status.idle": "2020-09-27T01:38:17.407452Z",
     "shell.execute_reply": "2020-09-27T01:38:17.407894Z"
    },
    "id": "t-kFyiOLH0xg",
    "scrolled": true
   },
   "outputs": [
    {
     "name": "stdout",
     "output_type": "stream",
     "text": [
      "Input: [N+:1]([C:4]1[CH:13]=[CH:12][CH:11]=[C:10]2[C:5]=1[CH:6]=[CH:7][N:8]=[CH:9]2)([O-])=O.NC1C=CC=C2C=1C=CN=C2.Br.[IH:26]\n",
      "Pred translation: [IH:26].[NH2:1][C:4]1[CH:13]=[CH:12][CH:11]=[C:10]2[C:5]=1[CH:6]=[CH:7][N:8]=[CH:9]2 \n"
     ]
    },
    {
     "data": {
      "image/png": "[encoded data removed]",
      "text/plain": [
       "<Figure size 1152x576 with 1 Axes>"
      ]
     },
     "metadata": {
      "needs_background": "light"
     },
     "output_type": "display_data"
    },
    {
     "name": "stdout",
     "output_type": "stream",
     "text": [
      "Real translation: [IH:26].[IH:26].[NH2:1][C:4]1[CH:13]=[CH:12][CH:11]=[C:10]2[C:5]=1[CH:6]=[CH:7][N:8]=[CH:9]2\n"
     ]
    }
   ],
   "source": [
    "translate(\"[N+:1]([C:4]1[CH:13]=[CH:12][CH:11]=[C:10]2[C:5]=1[CH:6]=[CH:7][N:8]=[CH:9]2)([O-])=O.NC1C=CC=C2C=1C=CN=C2.Br.[IH:26]\", plot='decoder_layer3_block2')\n",
    "print (\"Real translation: [IH:26].[IH:26].[NH2:1][C:4]1[CH:13]=[CH:12][CH:11]=[C:10]2[C:5]=1[CH:6]=[CH:7][N:8]=[CH:9]2\")"
   ]
  },
  {
   "cell_type": "markdown",
   "metadata": {
    "id": "RqQ1fIsLwkGE"
   },
   "source": [
    "## Summary\n",
    "\n",
    "In this tutorial, you learned about positional encoding, multi-head attention, the importance of masking and how to create a transformer.\n",
    "\n",
    "Try using a different dataset to train the transformer. You can also create the base transformer or transformer XL by changing the hyperparameters above. You can also use the layers defined here to create [BERT](https://arxiv.org/abs/1810.04805) and train state of the art models. Futhermore, you can implement beam search to get better predictions."
   ]
  }
 ],
 "metadata": {
  "accelerator": "GPU",
  "colab": {
   "collapsed_sections": [
    "s_qNSzzyaCbD"
   ],
   "name": "transformer.ipynb",
   "toc_visible": true
  },
  "kernelspec": {
   "display_name": "Python 3",
   "language": "python",
   "name": "python3"
  },
  "language_info": {
   "codemirror_mode": {
    "name": "ipython",
    "version": 3
   },
   "file_extension": ".py",
   "mimetype": "text/x-python",
   "name": "python",
   "nbconvert_exporter": "python",
   "pygments_lexer": "ipython3",
   "version": "3.6.11"
  }
 },
 "nbformat": 4,
 "nbformat_minor": 1
}
