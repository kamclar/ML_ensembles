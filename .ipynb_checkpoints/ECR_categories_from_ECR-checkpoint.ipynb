{
 "cells": [
  {
   "cell_type": "code",
   "execution_count": 88,
   "metadata": {},
   "outputs": [],
   "source": [
    "import time\n",
    "\n",
    "import utils\n",
    "#import models\n",
    "import pickle\n",
    "\n",
    "import numpy as np\n",
    "import pandas as pd\n",
    "from scipy import stats\n",
    "\n",
    "from rdkit import Chem\n",
    "from rdkit.Chem import AllChem\n",
    "from rdkit.Chem import MolFromSmiles\n",
    "\n",
    "from sklearn.decomposition import TruncatedSVD\n",
    "from sklearn.neural_network import MLPRegressor\n",
    "from sklearn.neural_network import MLPClassifier\n",
    "from sklearn.utils.validation import column_or_1d\n",
    "from sklearn.ensemble import RandomForestRegressor\n",
    "\n",
    "from sklearn.model_selection import train_test_split\n",
    "from sklearn.preprocessing import  MinMaxScaler, Normalizer, RobustScaler, StandardScaler\n",
    "\n",
    "import matplotlib.pyplot as plt\n",
    "from sklearn.metrics import mean_absolute_error, mean_squared_error\n",
    "\n",
    "colors = ['#f25c9d', '#F2A25C', '#5B98A6', '#8BB63C']\n",
    "path = 'e:/_phd/Docking_score/VDR/Data/'"
   ]
  },
  {
   "cell_type": "code",
   "execution_count": 92,
   "metadata": {},
   "outputs": [
    {
     "data": {
      "text/plain": [
       "((15505, 24), (2035, 24), (17540, 24))"
      ]
     },
     "execution_count": 92,
     "metadata": {},
     "output_type": "execute_result"
    }
   ],
   "source": [
    "df1 = pd.read_csv(path + \"VDR_VDRML_ECR_plus_docking_results_plus_rank_1DB1_3KPZ.csv\")\n",
    "df2 = pd.read_csv(path + \"VDR_actives_decoys_ECR_plus_docking_results_plus_rank_1DB1_3KPZ.csv\")\n",
    "df = pd.concat([df1, df2])\n",
    "names = df.columns[2:].to_list()\n",
    "names = ['id', 'smi', 'label', 'active'] + names\n",
    "\n",
    "df = df.rename(columns={'smiles': 'smi'})\n",
    "df1.shape, df2.shape, df.shape"
   ]
  },
  {
   "cell_type": "code",
   "execution_count": 10,
   "metadata": {},
   "outputs": [],
   "source": [
    "min_max_scaler = MinMaxScaler()"
   ]
  },
  {
   "cell_type": "code",
   "execution_count": 95,
   "metadata": {},
   "outputs": [
    {
     "data": {
      "text/plain": [
       "(12592, 16)"
      ]
     },
     "execution_count": 95,
     "metadata": {},
     "output_type": "execute_result"
    }
   ],
   "source": [
    "a = df.id.str[:3]\n",
    "df['label'] =  np.where(a == 'VDR', 1, np.where(a == 'CHE', 2, 3))\n",
    "x = (df.ECR_3KPZ!=0.0).to_list()\n",
    "y = (df.ECR_1DB1!=0.0).to_list()\n",
    "\n",
    "df['active'] =  x and y\n",
    "names_ds = [n for n in names if 'rank' not in n]\n",
    "\n",
    "df = df[names_ds]\n",
    "names_ds = names_ds[6:]\n",
    "\n",
    "#df[names_ds] = min_max_scaler.fit_transform(df[names_ds])\n",
    "#df = df[df.ECR_1DB1!=0.0]\n",
    "\n",
    "# outliers\n",
    "for i in range(len(names_ds)):\n",
    "    z = np.abs(stats.zscore(df[names_ds[i]]))\n",
    "    df = df[(z < 2.8)] \n",
    "\n",
    "df.shape"
   ]
  },
  {
   "cell_type": "code",
   "execution_count": 87,
   "metadata": {},
   "outputs": [
    {
     "data": {
      "text/plain": [
       "['docking_score_CHEMPLP_1DB1',\n",
       " 'docking_score_CHEMPLP_3KPZ',\n",
       " 'docking_score_london_1DB1',\n",
       " 'docking_score_london_3KPZ',\n",
       " 'docking_score_ASE_1DB1',\n",
       " 'docking_score_ASE_3KPZ',\n",
       " 'docking_score_AHB_1DB1',\n",
       " 'docking_score_AHB_3KPZ',\n",
       " 'docking_score_AdG_1DB1',\n",
       " 'docking_score_AdG_3KPZ']"
      ]
     },
     "execution_count": 87,
     "metadata": {},
     "output_type": "execute_result"
    }
   ],
   "source": [
    "names_ds"
   ]
  },
  {
   "cell_type": "code",
   "execution_count": 96,
   "metadata": {},
   "outputs": [
    {
     "data": {
      "text/html": [
       "<div>\n",
       "<style scoped>\n",
       "    .dataframe tbody tr th:only-of-type {\n",
       "        vertical-align: middle;\n",
       "    }\n",
       "\n",
       "    .dataframe tbody tr th {\n",
       "        vertical-align: top;\n",
       "    }\n",
       "\n",
       "    .dataframe thead th {\n",
       "        text-align: right;\n",
       "    }\n",
       "</style>\n",
       "<table border=\"1\" class=\"dataframe\">\n",
       "  <thead>\n",
       "    <tr style=\"text-align: right;\">\n",
       "      <th></th>\n",
       "      <th>id</th>\n",
       "      <th>smi</th>\n",
       "      <th>ECR_3KPZ</th>\n",
       "      <th>ECR_3KPZ_cats</th>\n",
       "      <th>docking_score_CHEMPLP_3KPZ</th>\n",
       "      <th>docking_score_london_3KPZ</th>\n",
       "      <th>docking_score_ASE_3KPZ</th>\n",
       "      <th>docking_score_AHB_3KPZ</th>\n",
       "      <th>docking_score_AdG_3KPZ</th>\n",
       "    </tr>\n",
       "  </thead>\n",
       "  <tbody>\n",
       "    <tr>\n",
       "      <td>61</td>\n",
       "      <td>VDRML5897</td>\n",
       "      <td>O(C(C)c1cc(C)c(OCC(C(O)CCO)C)cc1)c1ccc(cc1C)C(...</td>\n",
       "      <td>2.598945e-61</td>\n",
       "      <td>3</td>\n",
       "      <td>-18.4980</td>\n",
       "      <td>-14.088391</td>\n",
       "      <td>-34.145546</td>\n",
       "      <td>-122.28143</td>\n",
       "      <td>-6.665919</td>\n",
       "    </tr>\n",
       "    <tr>\n",
       "      <td>62</td>\n",
       "      <td>VDRML961</td>\n",
       "      <td>O1Cc2c(cc(cc2)COc2cc(C)c(cc2)Cc2ccc(cc2CCC)C(C...</td>\n",
       "      <td>7.058884e-22</td>\n",
       "      <td>5</td>\n",
       "      <td>-16.5118</td>\n",
       "      <td>-15.118000</td>\n",
       "      <td>-33.256104</td>\n",
       "      <td>-101.87988</td>\n",
       "      <td>-7.457160</td>\n",
       "    </tr>\n",
       "    <tr>\n",
       "      <td>63</td>\n",
       "      <td>VDRML18827</td>\n",
       "      <td>O(C(CCO)CO)c1ccc(cc1C)C(O)c1cc(-c2ccc(cc2)C(O)...</td>\n",
       "      <td>9.189814e-08</td>\n",
       "      <td>5</td>\n",
       "      <td>-16.1034</td>\n",
       "      <td>-15.923760</td>\n",
       "      <td>-32.660309</td>\n",
       "      <td>-118.97749</td>\n",
       "      <td>-6.677017</td>\n",
       "    </tr>\n",
       "    <tr>\n",
       "      <td>64</td>\n",
       "      <td>VDRML2170</td>\n",
       "      <td>Oc1cc2c(cc1)C(CC2)C1C2C(C1)CCC(C)(C)C(CC2)C(CC...</td>\n",
       "      <td>3.555347e-03</td>\n",
       "      <td>5</td>\n",
       "      <td>-19.6157</td>\n",
       "      <td>-14.701246</td>\n",
       "      <td>-37.648521</td>\n",
       "      <td>-113.11243</td>\n",
       "      <td>-11.678161</td>\n",
       "    </tr>\n",
       "    <tr>\n",
       "      <td>65</td>\n",
       "      <td>VDRML1585</td>\n",
       "      <td>FC(F)(F)C(O)(C(O)=CCC(CC)c1cc(ccc1)CCc1cc(CO)c...</td>\n",
       "      <td>3.505338e-22</td>\n",
       "      <td>4</td>\n",
       "      <td>-13.9268</td>\n",
       "      <td>-15.113630</td>\n",
       "      <td>-30.781891</td>\n",
       "      <td>-127.41151</td>\n",
       "      <td>-9.569736</td>\n",
       "    </tr>\n",
       "  </tbody>\n",
       "</table>\n",
       "</div>"
      ],
      "text/plain": [
       "            id                                                smi  \\\n",
       "61   VDRML5897  O(C(C)c1cc(C)c(OCC(C(O)CCO)C)cc1)c1ccc(cc1C)C(...   \n",
       "62    VDRML961  O1Cc2c(cc(cc2)COc2cc(C)c(cc2)Cc2ccc(cc2CCC)C(C...   \n",
       "63  VDRML18827  O(C(CCO)CO)c1ccc(cc1C)C(O)c1cc(-c2ccc(cc2)C(O)...   \n",
       "64   VDRML2170  Oc1cc2c(cc1)C(CC2)C1C2C(C1)CCC(C)(C)C(CC2)C(CC...   \n",
       "65   VDRML1585  FC(F)(F)C(O)(C(O)=CCC(CC)c1cc(ccc1)CCc1cc(CO)c...   \n",
       "\n",
       "        ECR_3KPZ ECR_3KPZ_cats  docking_score_CHEMPLP_3KPZ  \\\n",
       "61  2.598945e-61             3                    -18.4980   \n",
       "62  7.058884e-22             5                    -16.5118   \n",
       "63  9.189814e-08             5                    -16.1034   \n",
       "64  3.555347e-03             5                    -19.6157   \n",
       "65  3.505338e-22             4                    -13.9268   \n",
       "\n",
       "    docking_score_london_3KPZ  docking_score_ASE_3KPZ  docking_score_AHB_3KPZ  \\\n",
       "61                 -14.088391              -34.145546              -122.28143   \n",
       "62                 -15.118000              -33.256104              -101.87988   \n",
       "63                 -15.923760              -32.660309              -118.97749   \n",
       "64                 -14.701246              -37.648521              -113.11243   \n",
       "65                 -15.113630              -30.781891              -127.41151   \n",
       "\n",
       "    docking_score_AdG_3KPZ  \n",
       "61               -6.665919  \n",
       "62               -7.457160  \n",
       "63               -6.677017  \n",
       "64              -11.678161  \n",
       "65               -9.569736  "
      ]
     },
     "execution_count": 96,
     "metadata": {},
     "output_type": "execute_result"
    }
   ],
   "source": [
    "df['ECR_1DB1_cats'] = pd.qcut(df['ECR_1DB1'], 5, labels=[1, 2, 3, 4, 5])\n",
    "df['ECR_3KPZ_cats'] = pd.qcut(df['ECR_3KPZ'], 5, labels=[1, 2, 3, 4, 5])\n",
    "cols = df.columns.to_list()\n",
    "cols = cols[:6] + cols[-2:] + cols[6:-2]\n",
    "df = df[cols]\n",
    "cols_1DB1 = [n for n in cols if '1DB1' in n]\n",
    "cols_1DB1 = ['id', 'smi'] + cols_1DB1\n",
    "cols_3KPZ = [n for n in cols if '3KPZ' in n]\n",
    "cols_3KPZ = ['id', 'smi'] + cols_3KPZ\n",
    "df_1DB1 = df[cols_1DB1]\n",
    "df_3KPZ = df[cols_3KPZ]\n",
    "#df['log10_3KPZ'] = (np.log10(df.ECR_3KPZ))\n",
    "#df['log10_1DB1'] = (np.log10(df.ECR_1DB1)) \n",
    "df_3KPZ.head()"
   ]
  },
  {
   "cell_type": "code",
   "execution_count": 55,
   "metadata": {},
   "outputs": [
    {
     "name": "stderr",
     "output_type": "stream",
     "text": [
      "C:\\Users\\kamcl\\Miniconda3\\envs\\multistep_ml\\lib\\site-packages\\ipykernel_launcher.py:2: SettingWithCopyWarning: \n",
      "A value is trying to be set on a copy of a slice from a DataFrame.\n",
      "Try using .loc[row_indexer,col_indexer] = value instead\n",
      "\n",
      "See the caveats in the documentation: http://pandas.pydata.org/pandas-docs/stable/user_guide/indexing.html#returning-a-view-versus-a-copy\n",
      "  \n"
     ]
    }
   ],
   "source": [
    "#df_3KPZ['log10_3KPZ'] = (np.log10(df.ECR_3KPZ))\n",
    "#df_1DB1['log10_1DB1'] = (np.log10(df.ECR_1DB1)) \n"
   ]
  },
  {
   "cell_type": "code",
   "execution_count": null,
   "metadata": {},
   "outputs": [],
   "source": []
  },
  {
   "cell_type": "markdown",
   "metadata": {},
   "source": [
    "# CLASSIFICATION TO ECR categories"
   ]
  },
  {
   "cell_type": "code",
   "execution_count": 58,
   "metadata": {},
   "outputs": [
    {
     "name": "stdout",
     "output_type": "stream",
     "text": [
      "0.9253215897667728\n"
     ]
    }
   ],
   "source": [
    "x = utils.morgan(df)\n",
    "svd = TruncatedSVD(600) #90 % of variance covered by 500 components\n",
    "transformed = svd.fit_transform(x)\n",
    "print(svd.explained_variance_ratio_.sum())\n"
   ]
  },
  {
   "cell_type": "code",
   "execution_count": null,
   "metadata": {},
   "outputs": [],
   "source": [
    "\n"
   ]
  },
  {
   "cell_type": "code",
   "execution_count": 66,
   "metadata": {},
   "outputs": [
    {
     "name": "stderr",
     "output_type": "stream",
     "text": [
      "C:\\Users\\kamcl\\Miniconda3\\envs\\multistep_ml\\lib\\site-packages\\ipykernel_launcher.py:1: SettingWithCopyWarning: \n",
      "A value is trying to be set on a copy of a slice from a DataFrame.\n",
      "Try using .loc[row_indexer,col_indexer] = value instead\n",
      "\n",
      "See the caveats in the documentation: http://pandas.pydata.org/pandas-docs/stable/user_guide/indexing.html#returning-a-view-versus-a-copy\n",
      "  \"\"\"Entry point for launching an IPython kernel.\n"
     ]
    }
   ],
   "source": [
    "df_1DB1['SVD_x'] = transformed.tolist()\n",
    "\n",
    "train_set = df_1DB1.sample(frac=0.8, random_state=1)\n",
    "test_set = df_1DB1.drop(train_set.index)\n",
    "\n",
    "trainX = np.array([np.array(xi) for xi in train_set.SVD_x])\n",
    "trainY = train_set.ECR_1DB1_cats.to_list()\n",
    "#trainY = train_set.log10_1DB1.to_list()\n",
    "testX = np.array([np.array(xi) for xi in test_set.SVD_x])\n",
    "testY = test_set.ECR_1DB1_cats.to_list()\n",
    "#testY = test_set.log10_1DB1.to_list()"
   ]
  },
  {
   "cell_type": "code",
   "execution_count": 78,
   "metadata": {},
   "outputs": [],
   "source": [
    "from sklearn import linear_model\n",
    "lnm = linear_model.Ridge(alpha=0.1).fit(trainX,trainY)"
   ]
  },
  {
   "cell_type": "code",
   "execution_count": 79,
   "metadata": {},
   "outputs": [
    {
     "data": {
      "text/plain": [
       "(array([4, 5, 3, 2, 3]), [5, 5, 5, 5, 5])"
      ]
     },
     "execution_count": 79,
     "metadata": {},
     "output_type": "execute_result"
    }
   ],
   "source": [
    "predictions = model.predict(testX)\n",
    "predictions[:5].astype(int), testY[:5]"
   ]
  },
  {
   "cell_type": "code",
   "execution_count": 80,
   "metadata": {},
   "outputs": [],
   "source": [
    "a_train = model.predict(trainX).astype(int)\n",
    "#plt.scatter(a, trainY, color = 'blue')\n",
    "a_test = model.predict(testX).astype(int)\n",
    "#plt.scatter(a, testY, color = 'orange')   "
   ]
  },
  {
   "cell_type": "code",
   "execution_count": 81,
   "metadata": {},
   "outputs": [
    {
     "name": "stdout",
     "output_type": "stream",
     "text": [
      "0.2517162471395881\n"
     ]
    }
   ],
   "source": [
    "from sklearn import metrics\n",
    "print(metrics.accuracy_score(testY, a_test))"
   ]
  },
  {
   "cell_type": "code",
   "execution_count": null,
   "metadata": {},
   "outputs": [],
   "source": []
  },
  {
   "cell_type": "code",
   "execution_count": null,
   "metadata": {},
   "outputs": [],
   "source": []
  },
  {
   "cell_type": "code",
   "execution_count": 40,
   "metadata": {},
   "outputs": [
    {
     "ename": "AttributeError",
     "evalue": "module 'mord' has no attribute 'multiclass'",
     "output_type": "error",
     "traceback": [
      "\u001b[1;31m---------------------------------------------------------------------------\u001b[0m",
      "\u001b[1;31mAttributeError\u001b[0m                            Traceback (most recent call last)",
      "\u001b[1;32m<ipython-input-40-e2d0e3a8b049>\u001b[0m in \u001b[0;36m<module>\u001b[1;34m\u001b[0m\n\u001b[0;32m      1\u001b[0m \u001b[1;32mimport\u001b[0m \u001b[0mmord\u001b[0m\u001b[1;33m\u001b[0m\u001b[1;33m\u001b[0m\u001b[0m\n\u001b[1;32m----> 2\u001b[1;33m \u001b[0mmord_mod\u001b[0m \u001b[1;33m=\u001b[0m \u001b[0mmord\u001b[0m\u001b[1;33m.\u001b[0m\u001b[0mmulticlass\u001b[0m\u001b[1;33m\u001b[0m\u001b[1;33m\u001b[0m\u001b[0m\n\u001b[0m\u001b[0;32m      3\u001b[0m \u001b[1;31m#.fit(trainX, trainY)\u001b[0m\u001b[1;33m\u001b[0m\u001b[1;33m\u001b[0m\u001b[1;33m\u001b[0m\u001b[0m\n\u001b[0;32m      4\u001b[0m '''\n\u001b[0;32m      5\u001b[0m (alpha=0.001,\n",
      "\u001b[1;31mAttributeError\u001b[0m: module 'mord' has no attribute 'multiclass'"
     ]
    }
   ],
   "source": [
    "import mord\n",
    "mord_mod = mord.multiclass\n",
    "#.fit(trainX, trainY)\n",
    "'''\n",
    "(alpha=0.001,\n",
    "            fit_intercept=True,\n",
    "            normalize=False,\n",
    "            copy_X=True,\n",
    "            max_iter=10000,\n",
    "            tol=0.001,\n",
    "            solver='auto').\n",
    "'''"
   ]
  },
  {
   "cell_type": "code",
   "execution_count": 22,
   "metadata": {},
   "outputs": [
    {
     "name": "stderr",
     "output_type": "stream",
     "text": [
      "C:\\Users\\kamcl\\Miniconda3\\envs\\multistep_ml\\lib\\site-packages\\sklearn\\linear_model\\_logistic.py:940: ConvergenceWarning: lbfgs failed to converge (status=1):\n",
      "STOP: TOTAL NO. of ITERATIONS REACHED LIMIT.\n",
      "\n",
      "Increase the number of iterations (max_iter) or scale the data as shown in:\n",
      "    https://scikit-learn.org/stable/modules/preprocessing.html\n",
      "Please also refer to the documentation for alternative solver options:\n",
      "    https://scikit-learn.org/stable/modules/linear_model.html#logistic-regression\n",
      "  extra_warning_msg=_LOGISTIC_SOLVER_CONVERGENCE_MSG)\n",
      "C:\\Users\\kamcl\\Miniconda3\\envs\\multistep_ml\\lib\\site-packages\\sklearn\\linear_model\\_logistic.py:940: ConvergenceWarning: lbfgs failed to converge (status=1):\n",
      "STOP: TOTAL NO. of ITERATIONS REACHED LIMIT.\n",
      "\n",
      "Increase the number of iterations (max_iter) or scale the data as shown in:\n",
      "    https://scikit-learn.org/stable/modules/preprocessing.html\n",
      "Please also refer to the documentation for alternative solver options:\n",
      "    https://scikit-learn.org/stable/modules/linear_model.html#logistic-regression\n",
      "  extra_warning_msg=_LOGISTIC_SOLVER_CONVERGENCE_MSG)\n",
      "C:\\Users\\kamcl\\Miniconda3\\envs\\multistep_ml\\lib\\site-packages\\sklearn\\linear_model\\_logistic.py:940: ConvergenceWarning: lbfgs failed to converge (status=1):\n",
      "STOP: TOTAL NO. of ITERATIONS REACHED LIMIT.\n",
      "\n",
      "Increase the number of iterations (max_iter) or scale the data as shown in:\n",
      "    https://scikit-learn.org/stable/modules/preprocessing.html\n",
      "Please also refer to the documentation for alternative solver options:\n",
      "    https://scikit-learn.org/stable/modules/linear_model.html#logistic-regression\n",
      "  extra_warning_msg=_LOGISTIC_SOLVER_CONVERGENCE_MSG)\n",
      "C:\\Users\\kamcl\\Miniconda3\\envs\\multistep_ml\\lib\\site-packages\\sklearn\\linear_model\\_logistic.py:940: ConvergenceWarning: lbfgs failed to converge (status=1):\n",
      "STOP: TOTAL NO. of ITERATIONS REACHED LIMIT.\n",
      "\n",
      "Increase the number of iterations (max_iter) or scale the data as shown in:\n",
      "    https://scikit-learn.org/stable/modules/preprocessing.html\n",
      "Please also refer to the documentation for alternative solver options:\n",
      "    https://scikit-learn.org/stable/modules/linear_model.html#logistic-regression\n",
      "  extra_warning_msg=_LOGISTIC_SOLVER_CONVERGENCE_MSG)\n",
      "C:\\Users\\kamcl\\Miniconda3\\envs\\multistep_ml\\lib\\site-packages\\sklearn\\linear_model\\_logistic.py:940: ConvergenceWarning: lbfgs failed to converge (status=1):\n",
      "STOP: TOTAL NO. of ITERATIONS REACHED LIMIT.\n",
      "\n",
      "Increase the number of iterations (max_iter) or scale the data as shown in:\n",
      "    https://scikit-learn.org/stable/modules/preprocessing.html\n",
      "Please also refer to the documentation for alternative solver options:\n",
      "    https://scikit-learn.org/stable/modules/linear_model.html#logistic-regression\n",
      "  extra_warning_msg=_LOGISTIC_SOLVER_CONVERGENCE_MSG)\n"
     ]
    }
   ],
   "source": [
    "from sklearn.linear_model import LogisticRegression\n",
    "LR = LogisticRegression(random_state=0, solver='lbfgs', multi_class='ovr').fit(trainX, trainY)\n",
    "#LR.predict(X.iloc[460:,:])\n",
    "#round(LR.score(X,y), 4)"
   ]
  },
  {
   "cell_type": "code",
   "execution_count": 28,
   "metadata": {},
   "outputs": [
    {
     "data": {
      "text/plain": [
       "MLPClassifier(activation='relu', alpha=1e-05, batch_size='auto', beta_1=0.9,\n",
       "              beta_2=0.999, early_stopping=False, epsilon=1e-08,\n",
       "              hidden_layer_sizes=(500, 200, 100), learning_rate='constant',\n",
       "              learning_rate_init=0.001, max_fun=15000, max_iter=1000,\n",
       "              momentum=0.9, n_iter_no_change=10, nesterovs_momentum=True,\n",
       "              power_t=0.5, random_state=1, shuffle=True, solver='lbfgs',\n",
       "              tol=0.0001, validation_fraction=0.1, verbose=False,\n",
       "              warm_start=False)"
      ]
     },
     "execution_count": 28,
     "metadata": {},
     "output_type": "execute_result"
    }
   ],
   "source": [
    "from sklearn.neural_network import MLPClassifier\n",
    "\n",
    "clf = MLPClassifier(solver='lbfgs', alpha=1e-5,\n",
    "                     hidden_layer_sizes=(500,200, 100), random_state=1, max_iter=1000)\n",
    "clf.fit(trainX, trainY)"
   ]
  },
  {
   "cell_type": "code",
   "execution_count": 30,
   "metadata": {},
   "outputs": [
    {
     "name": "stderr",
     "output_type": "stream",
     "text": [
      "C:\\Users\\kamcl\\Miniconda3\\envs\\multistep_ml\\lib\\site-packages\\sklearn\\svm\\_base.py:947: ConvergenceWarning: Liblinear failed to converge, increase the number of iterations.\n",
      "  \"the number of iterations.\", ConvergenceWarning)\n"
     ]
    },
    {
     "data": {
      "text/plain": [
       "LinearSVC(C=1.0, class_weight=None, dual=True, fit_intercept=True,\n",
       "          intercept_scaling=1, loss='squared_hinge', max_iter=1000,\n",
       "          multi_class='ovr', penalty='l2', random_state=None, tol=0.0001,\n",
       "          verbose=0)"
      ]
     },
     "execution_count": 30,
     "metadata": {},
     "output_type": "execute_result"
    }
   ],
   "source": [
    "from sklearn import svm\n",
    "SVM = svm.LinearSVC()\n",
    "SVM.fit(trainX, trainY)"
   ]
  },
  {
   "cell_type": "code",
   "execution_count": 83,
   "metadata": {},
   "outputs": [
    {
     "data": {
      "text/plain": [
       "RandomForestClassifier(bootstrap=True, ccp_alpha=0.0, class_weight=None,\n",
       "                       criterion='gini', max_depth=15, max_features='auto',\n",
       "                       max_leaf_nodes=None, max_samples=None,\n",
       "                       min_impurity_decrease=0.0, min_impurity_split=None,\n",
       "                       min_samples_leaf=1, min_samples_split=2,\n",
       "                       min_weight_fraction_leaf=0.0, n_estimators=700,\n",
       "                       n_jobs=None, oob_score=False, random_state=1, verbose=0,\n",
       "                       warm_start=False)"
      ]
     },
     "execution_count": 83,
     "metadata": {},
     "output_type": "execute_result"
    }
   ],
   "source": [
    "from sklearn.ensemble import RandomForestClassifier\n",
    "\n",
    "RF = RandomForestClassifier(n_estimators=700, max_depth=15, random_state=1)\n",
    "RF.fit(trainX, trainY)"
   ]
  },
  {
   "cell_type": "code",
   "execution_count": 44,
   "metadata": {},
   "outputs": [
    {
     "data": {
      "text/plain": [
       "(array([4.77631661, 4.52591342, 4.07393026, 5.08799812, 3.23543512]),\n",
       " [5, 5, 5, 5, 5])"
      ]
     },
     "execution_count": 44,
     "metadata": {},
     "output_type": "execute_result"
    }
   ],
   "source": [
    "predictions = model.predict(testX)\n",
    "predictions[:5], testY[:5]"
   ]
  },
  {
   "cell_type": "code",
   "execution_count": 86,
   "metadata": {},
   "outputs": [
    {
     "name": "stdout",
     "output_type": "stream",
     "text": [
      "('Train Accuracy:', 0.9908309455587393)\n",
      "('Test Accuracy:', 0.4416475972540046)\n",
      "              precision    recall  f1-score   support\n",
      "\n",
      "           1       0.53      0.71      0.60       517\n",
      "           2       0.42      0.22      0.29       546\n",
      "           3       0.41      0.35      0.38       500\n",
      "           4       0.31      0.43      0.36       366\n",
      "           5       0.51      0.57      0.54       256\n",
      "\n",
      "    accuracy                           0.44      2185\n",
      "   macro avg       0.44      0.46      0.44      2185\n",
      "weighted avg       0.44      0.44      0.43      2185\n",
      "\n"
     ]
    }
   ],
   "source": [
    "from sklearn.svm import SVC\n",
    "from sklearn.metrics import plot_confusion_matrix\n",
    "import matplotlib.pyplot as plt\n",
    "from sklearn.metrics import classification_report\n",
    "from sklearn.metrics import accuracy_score\n",
    "\n",
    "\n",
    "\n",
    "model = RF\n",
    "predictions = model.predict(testX)\n",
    "tracc = (\"Train Accuracy:\", accuracy_score(trainY, model.predict(trainX)))\n",
    "teacc =  (\"Test Accuracy:\", accuracy_score(testY, model.predict(testX)))\n",
    "print(tracc)\n",
    "print(teacc)\n",
    "print(classification_report(testY, predictions))"
   ]
  },
  {
   "cell_type": "code",
   "execution_count": 183,
   "metadata": {},
   "outputs": [
    {
     "data": {
      "text/plain": [
       "Index(['docking_score_CHEMPLP_1DB1', 'docking_score_london_1DB1',\n",
       "       'docking_score_ASE_1DB1', 'docking_score_AHB_1DB1',\n",
       "       'docking_score_AdG_1DB1'],\n",
       "      dtype='object')"
      ]
     },
     "execution_count": 183,
     "metadata": {},
     "output_type": "execute_result"
    }
   ],
   "source": [
    "names = df_1DB1.columns[4:-1]\n",
    "names"
   ]
  },
  {
   "cell_type": "code",
   "execution_count": 198,
   "metadata": {},
   "outputs": [],
   "source": [
    "df_pred_1DB1 = []\n",
    "df_pred_1DB1 = table[['id', 'smi', 'ECR_1DB1', 'ECR_1DB1_cats']].copy()\n",
    "\n",
    "# change input data for train_set, test_set or df\n",
    "table = test_set\n",
    "#table = train_set\n",
    "testX = np.array([np.array(xi) for xi in table.SVD_x])\n",
    "# list of ids for Isabels function\n",
    "#sorted_ids_ref=sorted(list_pred_1PQ6_dfs[0].id.tolist())\n",
    "\n",
    "for index, name in enumerate(names):\n",
    "    testY = np.array(table[name], dtype=np.float32)\n",
    "    \n",
    "    pred_data = MLP_regressors[index].predict(testX)\n",
    "    col_name = 'pred_'+name\n",
    "  \n",
    "    df_pred_1DB1[col_name] = pred_data"
   ]
  },
  {
   "cell_type": "code",
   "execution_count": 228,
   "metadata": {},
   "outputs": [
    {
     "name": "stdout",
     "output_type": "stream",
     "text": [
      "('Train Accuracy:', 0.9500078480615288, '\\n') ('Test Accuracy:', 0.9669048514479127, '\\n')\n",
      "              precision    recall  f1-score   support\n",
      "\n",
      "           1       0.96      0.99      0.98       610\n",
      "           2       0.96      0.99      0.97       648\n",
      "           3       0.98      1.00      0.99       647\n",
      "           4       0.97      0.95      0.96       465\n",
      "           5       0.97      0.81      0.89       289\n",
      "\n",
      "    accuracy                           0.97      2659\n",
      "   macro avg       0.97      0.95      0.96      2659\n",
      "weighted avg       0.97      0.97      0.97      2659\n",
      "\n"
     ]
    }
   ],
   "source": [
    "# predicted scores\n",
    "#testX = df_pred_1DB1.iloc[:,4:]\n",
    "#testY = df_pred_1DB1.ECR_1DB1_cats.to_list()\n",
    "\n",
    "model = RF\n",
    "predictions = model.predict(testX)\n",
    "tracc = (\"Train Accuracy:\", accuracy_score(trainY, model.predict(trainX)), '\\n')\n",
    "teacc =  (\"Test Accuracy:\", accuracy_score(testY, model.predict(testX)), '\\n')\n",
    "print(tracc, teacc)\n",
    "print(classification_report(testY, predictions))"
   ]
  },
  {
   "cell_type": "code",
   "execution_count": 85,
   "metadata": {},
   "outputs": [
    {
     "data": {
      "text/plain": [
       "Text(0.5, 1.0, 'Test set')"
      ]
     },
     "execution_count": 85,
     "metadata": {},
     "output_type": "execute_result"
    },
    {
     "data": {
      "image/png": "[encoded data removed]",
      "text/plain": [
       "<Figure size 432x288 with 2 Axes>"
      ]
     },
     "metadata": {
      "needs_background": "light"
     },
     "output_type": "display_data"
    }
   ],
   "source": [
    "from sklearn.metrics import plot_confusion_matrix\n",
    "from matplotlib.pyplot import plot as plt\n",
    "\n",
    "disp = plot_confusion_matrix(model, testX, testY,\n",
    "                                                display_labels=['1','2','3','4', '5'],\n",
    "                                                normalize='true')\n",
    "disp.ax_.set_title('Test set')"
   ]
  },
  {
   "cell_type": "code",
   "execution_count": 229,
   "metadata": {},
   "outputs": [],
   "source": [
    "MLP_regressors = []\n",
    "trainScoresX = np.array([np.array(xi) for xi in train_set.SVD_x])\n",
    "param_list = {\"hidden_layer_sizes\":  [i for i in [100, 200, 300, 400, 500]], \n",
    "              \"activation\": [\"identity\", \"logistic\", \"tanh\", \"relu\"], \n",
    "              \"solver\": [\"lbfgs\", \"sgd\", \"adam\"], \n",
    "              \"alpha\": [0.00005,0.0005]}\n",
    "\n",
    "for index, name in enumerate(names):\n",
    "    \n",
    "    # Y data  \n",
    "    \n",
    "    trainScoresY = np.array(train_set[name], dtype=np.float32)\n",
    "    #trainY = np.array(train_set[k], dtype=np.float32).reshape(-1,1)\n",
    "    #trainY = min_max_scaler.fit_transform(trainY).ravel()\n",
    "    #y = sc.fit_transform(y)\n",
    "    name = 'ds_' + k\n",
    "\n",
    "    #regressor = MLPRegressor(hidden_layer_sizes = (600, 200, 100, 50), random_state = 1, \n",
    "                             #activation='relu', solver='adam')\n",
    "    regressor = MLPRegressor(hidden_layer_sizes = (500, 250, 100), random_state = 1)\n",
    "    #regressor = RandomForestRegressor(max_depth=10, random_state=1, n_estimators=700)\n",
    "    regressor.fit(trainScoresX, trainScoresY)\n",
    "    MLP_regressors.append(regressor)\n",
    "\n",
    "with open(path+'MLP_regressors_04.model', 'wb') as f:\n",
    "        pickle.dump(MLP_regressors, f)\n"
   ]
  },
  {
   "cell_type": "code",
   "execution_count": null,
   "metadata": {},
   "outputs": [],
   "source": [
    "from sklearn.model_selection import GridSearchCV\n",
    "mlp = MLPRegressor(max_iter=5000)\n",
    "trainScoresX = np.array([np.array(xi) for xi in train_set.SVD_x])\n",
    "param_list = {\"hidden_layer_sizes\": [(300,200, 50), (300,150)], \n",
    "              \"activation\": [ \"logistic\", \"relu\"], \n",
    "              \"solver\": [\"lbfgs\", \"adam\"], \n",
    "              \"alpha\": [0.00005,0.0005]}\n",
    "i = 0\n",
    "trainScoresY = np.array(train_set[names[i]], dtype=np.float32)\n",
    "_GS = GridSearchCV(mlp, param_grid=param_list)\n",
    "_GS.fit(trainScoresX, trainScoresY)\n",
    "\n"
   ]
  },
  {
   "cell_type": "code",
   "execution_count": 235,
   "metadata": {},
   "outputs": [
    {
     "data": {
      "text/plain": [
       "Text(0.5, 1.0, 'docking_score_AdG_1DB1')"
      ]
     },
     "execution_count": 235,
     "metadata": {},
     "output_type": "execute_result"
    },
    {
     "data": {
      "image/png": "[encoded data removed]",
      "text/plain": [
       "<Figure size 432x288 with 1 Axes>"
      ]
     },
     "metadata": {
      "needs_background": "light"
     },
     "output_type": "display_data"
    }
   ],
   "source": [
    "import matplotlib.pyplot as plt\n",
    "\n",
    "col_name = 'pred_'+names[i]\n",
    "trainScoresX = np.array([np.array(xi) for xi in train_set.SVD_x])\n",
    "testScoresX = np.array([np.array(xi) for xi in test_set.SVD_x])\n",
    "\n",
    "a = MLP_regressors[i].predict(trainScoresX)\n",
    "b = np.array(train_set[names[i]], dtype=np.float32)    \n",
    "plt.scatter(a, b, color = 'blue')\n",
    "\n",
    "a = MLP_regressors[i].predict(testScoresX)\n",
    "b = np.array(test_set[names[i]], dtype=np.float32)    \n",
    "plt.scatter(a, b, color = 'orange')\n",
    "plt.title(names[i])\n"
   ]
  },
  {
   "cell_type": "code",
   "execution_count": null,
   "metadata": {},
   "outputs": [],
   "source": []
  }
 ],
 "metadata": {
  "kernelspec": {
   "display_name": "Python 3",
   "language": "python",
   "name": "python3"
  },
  "language_info": {
   "codemirror_mode": {
    "name": "ipython",
    "version": 3
   },
   "file_extension": ".py",
   "mimetype": "text/x-python",
   "name": "python",
   "nbconvert_exporter": "python",
   "pygments_lexer": "ipython3",
   "version": "3.7.7"
  }
 },
 "nbformat": 4,
 "nbformat_minor": 2
}
