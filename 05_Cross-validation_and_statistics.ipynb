{
 "cells": [
  {
   "cell_type": "code",
   "execution_count": 1,
   "metadata": {},
   "outputs": [],
   "source": [
    "import numpy as np\n",
    "import seaborn as sns\n",
    "import matplotlib.pyplot as plt\n",
    "from IPython.display import Image\n",
    "from sklearn.datasets import make_regression\n",
    "\n",
    "from sklearn import linear_model\n",
    "from sklearn.ensemble import RandomForestRegressor\n",
    "from sklearn.model_selection import train_test_split"
   ]
  },
  {
   "cell_type": "markdown",
   "metadata": {},
   "source": [
    "# Cross validation"
   ]
  },
  {
   "cell_type": "code",
   "execution_count": 2,
   "metadata": {},
   "outputs": [],
   "source": [
    "# parameter k - number of splits (folds)\n",
    "\n",
    "# good for limited sample data\n",
    "# less biased then typical train/test split method\n",
    "# can help answer the question whether the model is better or is overfitted"
   ]
  },
  {
   "cell_type": "markdown",
   "metadata": {},
   "source": [
    "# https://scikit-learn.org/stable/modules/cross_validation.html\n",
    "![crossvalidation](https://scikit-learn.org/stable/_images/grid_search_cross_validation.png)"
   ]
  },
  {
   "cell_type": "markdown",
   "metadata": {},
   "source": [
    "## Data"
   ]
  },
  {
   "cell_type": "code",
   "execution_count": 3,
   "metadata": {},
   "outputs": [
    {
     "data": {
      "image/png": "[encoded data removed]",
      "text/plain": [
       "<Figure size 432x288 with 1 Axes>"
      ]
     },
     "metadata": {
      "needs_background": "light"
     },
     "output_type": "display_data"
    }
   ],
   "source": [
    "X, y = make_regression(n_samples=1000, n_features=1, noise=30)\n",
    "X = X.reshape(-1, 1)\n",
    "plot = sns.scatterplot(X.ravel(), y.ravel())"
   ]
  },
  {
   "cell_type": "code",
   "execution_count": 4,
   "metadata": {},
   "outputs": [
    {
     "data": {
      "text/plain": [
       "array([4, 1, 4, 0, 4, 0, 1, 0, 0, 0])"
      ]
     },
     "execution_count": 4,
     "metadata": {},
     "output_type": "execute_result"
    }
   ],
   "source": [
    "labels = np.random.randint(5, size=1000)\n",
    "labels[:10]"
   ]
  },
  {
   "cell_type": "markdown",
   "metadata": {},
   "source": [
    "## Model"
   ]
  },
  {
   "cell_type": "code",
   "execution_count": 5,
   "metadata": {},
   "outputs": [],
   "source": [
    "from sklearn import svm\n",
    "from sklearn.ensemble import RandomForestRegressor\n",
    "\n",
    "\n",
    "from sklearn import metrics\n",
    "from sklearn import model_selection\n",
    "\n",
    "from sklearn.model_selection import KFold\n",
    "from sklearn.metrics import mean_squared_error\n",
    "from sklearn.model_selection import cross_val_score"
   ]
  },
  {
   "cell_type": "code",
   "execution_count": 6,
   "metadata": {},
   "outputs": [],
   "source": [
    "lin = svm.SVR(kernel='linear', C=1)\n",
    "rfr = RandomForestRegressor()"
   ]
  },
  {
   "cell_type": "markdown",
   "metadata": {},
   "source": [
    "## Cross-validation"
   ]
  },
  {
   "cell_type": "code",
   "execution_count": 7,
   "metadata": {},
   "outputs": [
    {
     "name": "stdout",
     "output_type": "stream",
     "text": [
      "[ -729.90739626  -972.86371845  -887.08455395 -1080.58496058\n",
      "  -689.16745708]\n",
      "MSE: -871.92 (+/- 293.29)\n",
      "[-1240.2089998  -1257.40059551 -1250.34815517 -1295.22089668\n",
      " -1015.37727556]\n",
      "MSE: -1211.71 (+/- 199.83)\n"
     ]
    }
   ],
   "source": [
    "scores_lin = cross_val_score(lin, X, y, scoring='neg_mean_squared_error', cv=5) # groups for stratification?\n",
    "scores_rfr = cross_val_score(rfr, X, y, scoring='neg_mean_squared_error', cv=5)\n",
    "\n",
    "print(scores_lin)\n",
    "print(\"MSE: %0.2f (+/- %0.2f)\" % (scores_lin.mean(), scores_lin.std() * 2))\n",
    "\n",
    "print(scores_rfr)\n",
    "print(\"MSE: %0.2f (+/- %0.2f)\" % (scores_rfr.mean(), scores_rfr.std() * 2))"
   ]
  },
  {
   "cell_type": "code",
   "execution_count": 8,
   "metadata": {},
   "outputs": [
    {
     "data": {
      "text/plain": [
       "dict_keys(['explained_variance', 'r2', 'max_error', 'neg_median_absolute_error', 'neg_mean_absolute_error', 'neg_mean_squared_error', 'neg_mean_squared_log_error', 'neg_root_mean_squared_error', 'neg_mean_poisson_deviance', 'neg_mean_gamma_deviance', 'accuracy', 'roc_auc', 'roc_auc_ovr', 'roc_auc_ovo', 'roc_auc_ovr_weighted', 'roc_auc_ovo_weighted', 'balanced_accuracy', 'average_precision', 'neg_log_loss', 'neg_brier_score', 'adjusted_rand_score', 'homogeneity_score', 'completeness_score', 'v_measure_score', 'mutual_info_score', 'adjusted_mutual_info_score', 'normalized_mutual_info_score', 'fowlkes_mallows_score', 'precision', 'precision_macro', 'precision_micro', 'precision_samples', 'precision_weighted', 'recall', 'recall_macro', 'recall_micro', 'recall_samples', 'recall_weighted', 'f1', 'f1_macro', 'f1_micro', 'f1_samples', 'f1_weighted', 'jaccard', 'jaccard_macro', 'jaccard_micro', 'jaccard_samples', 'jaccard_weighted'])"
      ]
     },
     "execution_count": 8,
     "metadata": {},
     "output_type": "execute_result"
    }
   ],
   "source": [
    "metrics.SCORERS.keys()"
   ]
  },
  {
   "cell_type": "markdown",
   "metadata": {},
   "source": [
    "# ~"
   ]
  },
  {
   "cell_type": "code",
   "execution_count": 9,
   "metadata": {},
   "outputs": [],
   "source": [
    "X_train, X_test, y_train, y_test = train_test_split(X, y, random_state=0)"
   ]
  },
  {
   "cell_type": "markdown",
   "metadata": {},
   "source": [
    "### Linear model"
   ]
  },
  {
   "cell_type": "code",
   "execution_count": 10,
   "metadata": {},
   "outputs": [
    {
     "name": "stdout",
     "output_type": "stream",
     "text": [
      "MSE: 910.39 (+/- 0.00)\n"
     ]
    }
   ],
   "source": [
    "scores_cycle = []\n",
    "for i in range(5):\n",
    "    model = svm.SVR(kernel='linear', C=1).fit(X_train, y_train)\n",
    "    y_pred = model.predict(X_test)\n",
    "    \n",
    "    scores_cycle.append(mean_squared_error(y_test, y_pred))\n",
    "    \n",
    "scores_cycle\n",
    "print(\"MSE: %0.2f (+/- %0.2f)\" % (np.mean(scores_cycle), np.std(scores_cycle) * 2))"
   ]
  },
  {
   "cell_type": "markdown",
   "metadata": {},
   "source": [
    "### Random Forest"
   ]
  },
  {
   "cell_type": "code",
   "execution_count": 11,
   "metadata": {},
   "outputs": [
    {
     "name": "stdout",
     "output_type": "stream",
     "text": [
      "MSE: 1373.58 (+/- 21.60)\n"
     ]
    }
   ],
   "source": [
    "scores_cycle = []\n",
    "for i in range(5):\n",
    "    model = RandomForestRegressor().fit(X_train, y_train) #random_state=0\n",
    "    y_pred = model.predict(X_test)\n",
    "    \n",
    "    scores_cycle.append(mean_squared_error(y_test, y_pred))\n",
    "    \n",
    "scores_cycle\n",
    "print(\"MSE: %0.2f (+/- %0.2f)\" % (np.mean(scores_cycle), np.std(scores_cycle) * 2))"
   ]
  },
  {
   "cell_type": "markdown",
   "metadata": {},
   "source": [
    "# Cross-validation types"
   ]
  },
  {
   "cell_type": "markdown",
   "metadata": {},
   "source": [
    "### ~ Leave one out cv\n",
    "#### one data point for testing\n",
    "#### low bias, higher variation - since we are testing against just one datapoing (could be even outlier)"
   ]
  },
  {
   "cell_type": "code",
   "execution_count": 12,
   "metadata": {},
   "outputs": [
    {
     "name": "stdout",
     "output_type": "stream",
     "text": [
      "MSE: -870.92 (+/- 2347.72)\n"
     ]
    }
   ],
   "source": [
    "loocv = model_selection.LeaveOneOut()\n",
    "model_loocv = svm.SVR(kernel='linear', C=1)\n",
    "\n",
    "scores_loocv = cross_val_score(model_loocv, X, y, cv=loocv, scoring='neg_mean_squared_error')\n",
    "print(\"MSE: %0.2f (+/- %0.2f)\" % (scores_loocv.mean(), scores_loocv.std() * 2))"
   ]
  },
  {
   "cell_type": "code",
   "execution_count": null,
   "metadata": {},
   "outputs": [],
   "source": []
  },
  {
   "cell_type": "markdown",
   "metadata": {},
   "source": [
    "### ~ Stratified k-fold\n",
    "### in sklearn model_selection.StratifiedKFold() is for classification"
   ]
  },
  {
   "cell_type": "code",
   "execution_count": null,
   "metadata": {},
   "outputs": [],
   "source": []
  },
  {
   "cell_type": "markdown",
   "metadata": {},
   "source": [
    "### ~ Repeated Random Test-Train Splits"
   ]
  },
  {
   "cell_type": "code",
   "execution_count": 13,
   "metadata": {},
   "outputs": [
    {
     "name": "stdout",
     "output_type": "stream",
     "text": [
      "MSE: -897.76 (+/- 231.67)\n"
     ]
    }
   ],
   "source": [
    "kfolds = model_selection.ShuffleSplit(n_splits=5, test_size=0.20, random_state=0)\n",
    "model_shuffle = svm.SVR(kernel='linear', C=1)\n",
    "\n",
    "scores_repeated_splits = cross_val_score(model_shuffle, X, y, cv=kfolds, scoring='neg_mean_squared_error')\n",
    "print(\"MSE: %0.2f (+/- %0.2f)\" % (scores_repeated_splits.mean(), scores_repeated_splits.std() * 2))"
   ]
  },
  {
   "cell_type": "code",
   "execution_count": null,
   "metadata": {},
   "outputs": [],
   "source": []
  },
  {
   "cell_type": "markdown",
   "metadata": {},
   "source": [
    "# Distribution of the scores"
   ]
  },
  {
   "cell_type": "code",
   "execution_count": 14,
   "metadata": {},
   "outputs": [
    {
     "data": {
      "image/png": "[encoded data removed]",
      "text/plain": [
       "<Figure size 432x288 with 1 Axes>"
      ]
     },
     "metadata": {
      "needs_background": "light"
     },
     "output_type": "display_data"
    }
   ],
   "source": [
    "scores_lin = cross_val_score(lin, X, y, scoring='neg_mean_squared_error', cv=500)\n",
    "plot = sns.distplot(scores_lin)"
   ]
  },
  {
   "cell_type": "code",
   "execution_count": 15,
   "metadata": {},
   "outputs": [
    {
     "data": {
      "image/png": "[encoded data removed]",
      "text/plain": [
       "<Figure size 432x288 with 1 Axes>"
      ]
     },
     "metadata": {
      "needs_background": "light"
     },
     "output_type": "display_data"
    }
   ],
   "source": [
    "scores_lin = cross_val_score(lin, X, y, scoring='neg_mean_absolute_error', cv=500)\n",
    "plot = sns.distplot(scores_lin)"
   ]
  },
  {
   "cell_type": "code",
   "execution_count": null,
   "metadata": {},
   "outputs": [],
   "source": []
  }
 ],
 "metadata": {
  "kernelspec": {
   "display_name": "Python 3",
   "language": "python",
   "name": "python3"
  },
  "language_info": {
   "codemirror_mode": {
    "name": "ipython",
    "version": 3
   },
   "file_extension": ".py",
   "mimetype": "text/x-python",
   "name": "python",
   "nbconvert_exporter": "python",
   "pygments_lexer": "ipython3",
   "version": "3.7.7"
  }
 },
 "nbformat": 4,
 "nbformat_minor": 4
}
